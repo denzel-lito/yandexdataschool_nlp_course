{
 "cells": [
  {
   "cell_type": "markdown",
   "metadata": {
    "slideshow": {
     "slide_type": "slide"
    }
   },
   "source": [
    "**Updating beliefs based on data**\n",
    "\n",
    "You have a bag with three different types of coin: blue, red and green. You know the proportion of coins of each type and the probability of heads for each coin. (You can use the widgets to control these values.)"
   ]
  },
  {
   "cell_type": "code",
   "execution_count": 235,
   "metadata": {
    "slideshow": {
     "slide_type": "skip"
    }
   },
   "outputs": [],
   "source": [
    "import random\n",
    "def choose_coin():\n",
    "    assert prob_red.value + prob_blue.value < 1.0, \"Must leave some mass for green\"\n",
    "    uar = random.random()\n",
    "    if uar < prob_blue.value:\n",
    "        return 'B'\n",
    "    if uar < prob_blue.value + prob_red.value:\n",
    "        return 'R'\n",
    "    return 'G'\n",
    "\n",
    "def flip_coin(coin):\n",
    "    uar = random.random()\n",
    "    if coin == 'R':\n",
    "        if uar < prob_head_red.value:\n",
    "            return 'H'\n",
    "    elif coin == 'B':\n",
    "        if uar < prob_head_blue.value:\n",
    "            return 'H'\n",
    "    elif coin == 'G':\n",
    "        if uar < prob_head_green.value:\n",
    "            return 'H'\n",
    "    return 'T'"
   ]
  },
  {
   "cell_type": "code",
   "execution_count": 236,
   "metadata": {
    "scrolled": true,
    "slideshow": {
     "slide_type": "skip"
    }
   },
   "outputs": [],
   "source": [
    "import ipywidgets as widgets\n",
    "from IPython import display\n",
    "prob_blue = widgets.FloatSlider(min=0.0, max=1.0, step=0.01, value=0.33, description='prob_blue')\n",
    "prob_red = widgets.FloatSlider(min=0.0, max=1.0, step=0.01, value=0.33, description='prob_red')\n",
    "prob_head_blue = widgets.FloatSlider(min=0.0, max=1.0, step=0.01, value=0.4, description='head_blue')\n",
    "prob_head_red = widgets.FloatSlider(min=0.0, max=1.0, step=0.01, value=0.5, description='head_red')\n",
    "prob_head_green = widgets.FloatSlider(min=0.0, max=1.0, step=0.01, value=0.6, description='head_green')\n",
    "\n"
   ]
  },
  {
   "cell_type": "code",
   "execution_count": 237,
   "metadata": {
    "slideshow": {
     "slide_type": "skip"
    }
   },
   "outputs": [],
   "source": [
    "# Block for plotting our current posterior distribution over coins.\n",
    "%matplotlib inline\n",
    "import time\n",
    "import pylab as pl\n",
    "import matplotlib.colors as mcolors\n",
    "pl.rcParams['figure.figsize'] = [10, 8]\n",
    "pl.rcParams[\"font.family\"] = \"sans-serif\"\n",
    "pl.rcParams[\"lines.linewidth\"] = 2.5\n",
    "\n",
    "def make_plot(hypotheses):\n",
    "    lines = []\n",
    "    hypotheses = hypotheses\n",
    "    def update_plot(observations, posteriors):\n",
    "        pl.suptitle('\\n'.join([observations[i:i+51] for i in range(0, len(observations)+1, 51)]), fontsize=12)\n",
    "        pl.xlim((0,1.0))\n",
    "        pl.ylim((0,1.0))\n",
    "        pl.xticks(ticks=hypotheses, labels=['B', 'R', 'G'])\n",
    "        for line in lines:\n",
    "            line.remove()\n",
    "        lines.clear()\n",
    "        for j, (x_elem, y_elem) in enumerate(zip(hypotheses, posteriors)):\n",
    "            lines.append(pl.stem([x_elem], [y_elem], basefmt=' ', linefmt='C%d-' %j, \n",
    "                                         markerfmt='C%do' % j, use_line_collection=True))\n",
    "        display.display(pl.gcf()) \n",
    "        display.clear_output(wait=True)\n",
    "    return update_plot\n",
    "            "
   ]
  },
  {
   "cell_type": "code",
   "execution_count": 238,
   "metadata": {
    "slideshow": {
     "slide_type": "skip"
    }
   },
   "outputs": [],
   "source": [
    "def infer_which_coin_was_chosen(observations, priors, conditionals, threshold=0.99):\n",
    "    # Iterate over observations updating the posterior and the plot\n",
    "    for i, observation in enumerate(observations):\n",
    "        posteriors = compute_posteriors(priors, conditionals, observation)\n",
    "        update_plot('%s %s' % (observations[:i], observations[i:]), posteriors)\n",
    "        priors = posteriors\n",
    "        if max(priors) > threshold:\n",
    "            break\n",
    "    return ('B' if posteriors.argmax() == 0 else ('R' if posteriors.argmax() == 1 else 'G'), i+1, posteriors.max())"
   ]
  },
  {
   "cell_type": "code",
   "execution_count": 239,
   "metadata": {
    "slideshow": {
     "slide_type": "skip"
    }
   },
   "outputs": [],
   "source": [
    "def output_decision(selected, flips_used, posterior, coin):\n",
    "    print(\"Decided the coin is %s after %d flips and with posterior belief %.3f. Coin is %s.\" % (selected, flips_used, posterior, coin))"
   ]
  },
  {
   "cell_type": "code",
   "execution_count": 240,
   "metadata": {
    "slideshow": {
     "slide_type": "subslide"
    }
   },
   "outputs": [
    {
     "data": {
      "application/vnd.jupyter.widget-view+json": {
       "model_id": "90044ba9fb4646739fbcb5e20247a09e",
       "version_major": 2,
       "version_minor": 0
      },
      "text/plain": [
       "FloatSlider(value=0.33, description='prob_blue', max=1.0, step=0.01)"
      ]
     },
     "metadata": {},
     "output_type": "display_data"
    },
    {
     "data": {
      "application/vnd.jupyter.widget-view+json": {
       "model_id": "6b53d26e33374bd19e653ef077606b00",
       "version_major": 2,
       "version_minor": 0
      },
      "text/plain": [
       "FloatSlider(value=0.33, description='prob_red', max=1.0, step=0.01)"
      ]
     },
     "metadata": {},
     "output_type": "display_data"
    },
    {
     "data": {
      "application/vnd.jupyter.widget-view+json": {
       "model_id": "339c69b25b284da18ca767973805d55d",
       "version_major": 2,
       "version_minor": 0
      },
      "text/plain": [
       "FloatSlider(value=0.4, description='head_blue', max=1.0, step=0.01)"
      ]
     },
     "metadata": {},
     "output_type": "display_data"
    },
    {
     "data": {
      "application/vnd.jupyter.widget-view+json": {
       "model_id": "1eee1bddc1ab442e9650e61d2ea83a83",
       "version_major": 2,
       "version_minor": 0
      },
      "text/plain": [
       "FloatSlider(value=0.5, description='head_red', max=1.0, step=0.01)"
      ]
     },
     "metadata": {},
     "output_type": "display_data"
    },
    {
     "data": {
      "application/vnd.jupyter.widget-view+json": {
       "model_id": "e7fedf2113704fbf81ce75ab9bd61a90",
       "version_major": 2,
       "version_minor": 0
      },
      "text/plain": [
       "FloatSlider(value=0.6, description='head_green', max=1.0, step=0.01)"
      ]
     },
     "metadata": {},
     "output_type": "display_data"
    }
   ],
   "source": [
    "# Set up widgets to control the parameters\n",
    "display.display(prob_blue, prob_red, prob_head_blue, prob_head_red, prob_head_green)"
   ]
  },
  {
   "cell_type": "code",
   "execution_count": 241,
   "metadata": {
    "slideshow": {
     "slide_type": "skip"
    }
   },
   "outputs": [],
   "source": [
    "import numpy as np\n",
    "def compute_posteriors(priors, conditionals, observation):\n",
    "    joints = priors * conditionals[0 if observation == 'H' else 1]\n",
    "    return joints / joints.sum(0)\n",
    "\n",
    "# Initially our best guess must be the prior\n",
    "priors = np.array([prob_blue.value, prob_red.value, 1 - prob_blue.value - prob_red.value], dtype=float)\n",
    "\n",
    "conditionals = np.array([[prob_head_blue.value, prob_head_red.value, prob_head_green.value],\n",
    "                        [1 - prob_head_blue.value, 1 - prob_head_red.value, 1 - prob_head_green.value]], dtype=float)\n"
   ]
  },
  {
   "cell_type": "code",
   "execution_count": 254,
   "metadata": {
    "slideshow": {
     "slide_type": "subslide"
    }
   },
   "outputs": [
    {
     "name": "stdout",
     "output_type": "stream",
     "text": [
      "Selected coin B and generated 100 observations.\n"
     ]
    }
   ],
   "source": [
    "# Select a coin at random from prior\n",
    "coin = choose_coin()\n",
    "# Generate some observations according to the coin's distribution\n",
    "sample_size = 100\n",
    "observations = ''.join([flip_coin(coin) for i in range(sample_size)])\n",
    "print('Selected coin %s and generated %d observations.' % (coin, len(observations)))"
   ]
  },
  {
   "cell_type": "code",
   "execution_count": 255,
   "metadata": {
    "slideshow": {
     "slide_type": "subslide"
    }
   },
   "outputs": [
    {
     "name": "stdout",
     "output_type": "stream",
     "text": [
      "Decided the coin is R after 100 flips and with posterior belief 0.779. Coin is B.\n"
     ]
    },
    {
     "data": {
      "image/png": "[encoded data removed]",
      "text/plain": [
       "<Figure size 720x576 with 1 Axes>"
      ]
     },
     "metadata": {},
     "output_type": "display_data"
    }
   ],
   "source": [
    "# Create a plot that tracks the posterior over the different coin's\n",
    "update_plot = make_plot([prob_head_blue.value, prob_head_red.value, prob_head_green.value])\n",
    "# Initialize the distribution over coins with prior\n",
    "update_plot(observations, priors) \n",
    "time.sleep(1)\n",
    "# Incrementally take the observations into account and update posterior and plot\n",
    "selected, flips_used, posterior = infer_which_coin_was_chosen(observations, priors, conditionals, threshold=0.9)\n",
    "output_decision(selected, flips_used, posterior, coin)"
   ]
  },
  {
   "cell_type": "code",
   "execution_count": null,
   "metadata": {},
   "outputs": [],
   "source": []
  },
  {
   "cell_type": "code",
   "execution_count": null,
   "metadata": {},
   "outputs": [],
   "source": []
  },
  {
   "cell_type": "code",
   "execution_count": null,
   "metadata": {},
   "outputs": [],
   "source": []
  }
 ],
 "metadata": {
  "celltoolbar": "Slideshow",
  "kernelspec": {
   "display_name": "Python 3",
   "language": "python",
   "name": "python3"
  },
  "language_info": {
   "codemirror_mode": {
    "name": "ipython",
    "version": 3
   },
   "file_extension": ".py",
   "mimetype": "text/x-python",
   "name": "python",
   "nbconvert_exporter": "python",
   "pygments_lexer": "ipython3",
   "version": "3.6.5"
  }
 },
 "nbformat": 4,
 "nbformat_minor": 2
}
