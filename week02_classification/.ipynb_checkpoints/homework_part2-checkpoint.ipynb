{
 "cells": [
  {
   "cell_type": "markdown",
   "metadata": {},
   "source": [
    "### Salary prediction, episode II: make it actually work (4 points)\n",
    "\n",
    "Your main task is to use some of the tricks you've learned on the network and analyze if you can improve __validation MAE__. Try __at least 3 options__ from the list below for a passing grade. Write a short report about what you have tried. More ideas = more bonus points. \n",
    "\n",
    "__Please be serious:__ \" plot learning curves in MAE/epoch, compare models based on optimal performance, test one change at a time. You know the drill :)\n",
    "\n",
    "You can use either __pytorch__ or __tensorflow__ or any other framework (e.g. pure __keras__). Feel free to adapt the seminar code for your needs. For tensorflow version, consider `seminar_tf2.ipynb` as a starting point.\n"
   ]
  },
  {
   "cell_type": "code",
   "execution_count": 1,
   "metadata": {
    "ExecuteTime": {
     "end_time": "2023-01-27T15:58:54.074772Z",
     "start_time": "2023-01-27T15:58:54.067960Z"
    }
   },
   "outputs": [],
   "source": [
    "# < A whole lot of your code > - models, charts, analysis"
   ]
  },
  {
   "cell_type": "code",
   "execution_count": 2,
   "metadata": {
    "ExecuteTime": {
     "end_time": "2023-01-27T15:58:54.094873Z",
     "start_time": "2023-01-27T15:58:54.078739Z"
    }
   },
   "outputs": [
    {
     "data": {
      "text/html": [
       "<style>.container { width:80% !important; }</style>"
      ],
      "text/plain": [
       "<IPython.core.display.HTML object>"
      ]
     },
     "metadata": {},
     "output_type": "display_data"
    }
   ],
   "source": [
    "from IPython.display import display, HTML\n",
    "display(HTML(\"<style>.container { width:80% !important; }</style>\"))"
   ]
  },
  {
   "cell_type": "code",
   "execution_count": 3,
   "metadata": {
    "ExecuteTime": {
     "end_time": "2023-01-27T15:58:58.672312Z",
     "start_time": "2023-01-27T15:58:54.097086Z"
    }
   },
   "outputs": [
    {
     "name": "stderr",
     "output_type": "stream",
     "text": [
      "/Users/16971921/.conda/envs/py38_venv/lib/python3.8/site-packages/tqdm/auto.py:22: TqdmWarning: IProgress not found. Please update jupyter and ipywidgets. See https://ipywidgets.readthedocs.io/en/stable/user_install.html\n",
      "  from .autonotebook import tqdm as notebook_tqdm\n"
     ]
    }
   ],
   "source": [
    "import numpy as np\n",
    "import pandas as pd\n",
    "import matplotlib.pyplot as plt\n",
    "%matplotlib inline\n",
    "\n",
    "from collections import Counter\n",
    "import itertools\n",
    "from tqdm.auto import tqdm\n",
    "\n",
    "import nltk\n",
    "\n",
    "from sklearn.feature_extraction import DictVectorizer\n",
    "from sklearn.model_selection import train_test_split\n",
    "\n",
    "import torch\n",
    "import torch.nn as nn\n",
    "import torch.functional as F\n",
    "\n",
    "device = 'cuda' if torch.cuda.is_available() else 'cpu'"
   ]
  },
  {
   "cell_type": "markdown",
   "metadata": {},
   "source": [
    "### A short report\n",
    "\n",
    "Please tell us what you did and how did it work.\n",
    "\n",
    "`<YOUR_TEXT_HERE>`, i guess..."
   ]
  },
  {
   "cell_type": "markdown",
   "metadata": {},
   "source": [
    "## Recommended options\n",
    "\n",
    "#### A) CNN architecture\n",
    "\n",
    "All the tricks you know about dense and convolutional neural networks apply here as well.\n",
    "* Dropout. Nuff said.\n",
    "* Batch Norm. This time it's `nn.BatchNorm*`/`L.BatchNormalization`\n",
    "* Parallel convolution layers. The idea is that you apply several nn.Conv1d to the same embeddings and concatenate output channels.\n",
    "* More layers, more neurons, ya know...\n",
    "\n",
    "\n",
    "#### B) Play with pooling\n",
    "\n",
    "There's more than one way to perform pooling:\n",
    "* Max over time (independently for each feature)\n",
    "* Average over time (excluding PAD)\n",
    "* Softmax-pooling:\n",
    "$$ out_{i, t} = \\sum_t {h_{i,t} \\cdot {{e ^ {h_{i, t}}} \\over \\sum_\\tau e ^ {h_{j, \\tau}} } }$$\n",
    "\n",
    "* Attentive pooling\n",
    "$$ out_{i, t} = \\sum_t {h_{i,t} \\cdot Attn(h_t)}$$\n",
    "\n",
    ", where $$ Attn(h_t) = {{e ^ {NN_{attn}(h_t)}} \\over \\sum_\\tau e ^ {NN_{attn}(h_\\tau)}}  $$\n",
    "and $NN_{attn}$ is a dense layer.\n",
    "\n",
    "The optimal score is usually achieved by concatenating several different poolings, including several attentive pooling with different $NN_{attn}$ (aka multi-headed attention).\n",
    "\n",
    "The catch is that keras layers do not inlude those toys. You will have to [write your own keras layer](https://keras.io/layers/writing-your-own-keras-layers/). Or use pure tensorflow, it might even be easier :)\n",
    "\n",
    "#### C) Fun with words\n",
    "\n",
    "It's not always a good idea to train embeddings from scratch. Here's a few tricks:\n",
    "\n",
    "* Use a pre-trained embeddings from `gensim.downloader.load`. See last lecture.\n",
    "* Start with pre-trained embeddings, then fine-tune them with gradient descent. You may or may not download pre-trained embeddings from [here](http://nlp.stanford.edu/data/glove.6B.zip) and follow this [manual](https://keras.io/examples/nlp/pretrained_word_embeddings/) to initialize your Keras embedding layer with downloaded weights.\n",
    "* Use the same embedding matrix in title and desc vectorizer\n",
    "\n",
    "\n",
    "#### D) Going recurrent\n",
    "\n",
    "We've already learned that recurrent networks can do cool stuff in sequence modelling. Turns out, they're not useless for classification as well. With some tricks of course..\n",
    "\n",
    "* Like convolutional layers, LSTM should be pooled into a fixed-size vector with some of the poolings.\n",
    "* Since you know all the text in advance, use bidirectional RNN\n",
    "  * Run one LSTM from left to right\n",
    "  * Run another in parallel from right to left \n",
    "  * Concatenate their output sequences along unit axis (dim=-1)\n",
    "\n",
    "* It might be good idea to mix convolutions and recurrent layers differently for title and description\n",
    "\n",
    "\n",
    "#### E) Optimizing seriously\n",
    "\n",
    "* You don't necessarily need 100 epochs. Use early stopping. If you've never done this before, take a look at [early stopping callback(keras)](https://keras.io/callbacks/#earlystopping) or in [pytorch(lightning)](https://pytorch-lightning.readthedocs.io/en/latest/common/early_stopping.html).\n",
    "  * In short, train until you notice that validation\n",
    "  * Maintain the best-on-validation snapshot via `model.save(file_name)`\n",
    "  * Plotting learning curves is usually a good idea\n",
    "  \n",
    "Good luck! And may the force be with you!"
   ]
  },
  {
   "cell_type": "markdown",
   "metadata": {},
   "source": [
    "# data"
   ]
  },
  {
   "cell_type": "code",
   "execution_count": 4,
   "metadata": {
    "ExecuteTime": {
     "end_time": "2023-01-27T15:59:03.458564Z",
     "start_time": "2023-01-27T15:58:58.675607Z"
    }
   },
   "outputs": [
    {
     "data": {
      "text/plain": [
       "(244768, 12)"
      ]
     },
     "execution_count": 4,
     "metadata": {},
     "output_type": "execute_result"
    }
   ],
   "source": [
    "# !wget https://ysda-seminars.s3.eu-central-1.amazonaws.com/Train_rev1.zip\n",
    "# data = pd.read_csv(\"./Train_rev1.zip\", compression='zip', index_col=None)\n",
    "data = pd.read_csv(\"./Train_rev1.csv\", index_col=None)\n",
    "data.shape"
   ]
  },
  {
   "cell_type": "markdown",
   "metadata": {},
   "source": [
    "## целевое событие"
   ]
  },
  {
   "cell_type": "code",
   "execution_count": 5,
   "metadata": {
    "ExecuteTime": {
     "end_time": "2023-01-27T15:59:03.791470Z",
     "start_time": "2023-01-27T15:59:03.460762Z"
    }
   },
   "outputs": [
    {
     "data": {
      "image/png": "[encoded data removed]",
      "text/plain": [
       "<Figure size 800x400 with 2 Axes>"
      ]
     },
     "metadata": {},
     "output_type": "display_data"
    }
   ],
   "source": [
    "data['Log1pSalary'] = np.log1p(data['SalaryNormalized']).astype('float32')\n",
    "\n",
    "plt.figure(figsize=[8, 4])\n",
    "plt.subplot(1, 2, 1)\n",
    "plt.hist(data[\"SalaryNormalized\"], bins=20);\n",
    "\n",
    "plt.subplot(1, 2, 2)\n",
    "plt.hist(data['Log1pSalary'], bins=20);"
   ]
  },
  {
   "cell_type": "markdown",
   "metadata": {},
   "source": [
    "## группы полей объясняющих признаков"
   ]
  },
  {
   "cell_type": "code",
   "execution_count": 6,
   "metadata": {
    "ExecuteTime": {
     "end_time": "2023-01-27T15:59:04.210020Z",
     "start_time": "2023-01-27T15:59:03.793342Z"
    }
   },
   "outputs": [
    {
     "data": {
      "text/html": [
       "<div>\n",
       "<style scoped>\n",
       "    .dataframe tbody tr th:only-of-type {\n",
       "        vertical-align: middle;\n",
       "    }\n",
       "\n",
       "    .dataframe tbody tr th {\n",
       "        vertical-align: top;\n",
       "    }\n",
       "\n",
       "    .dataframe thead th {\n",
       "        text-align: right;\n",
       "    }\n",
       "</style>\n",
       "<table border=\"1\" class=\"dataframe\">\n",
       "  <thead>\n",
       "    <tr style=\"text-align: right;\">\n",
       "      <th></th>\n",
       "      <th>Id</th>\n",
       "      <th>Title</th>\n",
       "      <th>FullDescription</th>\n",
       "      <th>LocationRaw</th>\n",
       "      <th>LocationNormalized</th>\n",
       "      <th>ContractType</th>\n",
       "      <th>ContractTime</th>\n",
       "      <th>Company</th>\n",
       "      <th>Category</th>\n",
       "      <th>SalaryRaw</th>\n",
       "      <th>SalaryNormalized</th>\n",
       "      <th>SourceName</th>\n",
       "      <th>Log1pSalary</th>\n",
       "    </tr>\n",
       "  </thead>\n",
       "  <tbody>\n",
       "    <tr>\n",
       "      <th>144881</th>\n",
       "      <td>70676364</td>\n",
       "      <td>Account Manager / Sales Executive</td>\n",
       "      <td>Job Title Account Manager / Sales Executive / ...</td>\n",
       "      <td>South East England,London,Reading,Staines,Woki...</td>\n",
       "      <td>London</td>\n",
       "      <td>NaN</td>\n",
       "      <td>permanent</td>\n",
       "      <td>Mead House</td>\n",
       "      <td>Sales Jobs</td>\n",
       "      <td>35k - 45k pa + OTE 70-90k + Car + Benefits</td>\n",
       "      <td>40000</td>\n",
       "      <td>jobsite.co.uk</td>\n",
       "      <td>10.596660</td>\n",
       "    </tr>\n",
       "    <tr>\n",
       "      <th>123669</th>\n",
       "      <td>69961646</td>\n",
       "      <td>Junior Account Manager</td>\n",
       "      <td>Manchester based PR Agency is looking for a Ju...</td>\n",
       "      <td>Manchester</td>\n",
       "      <td>Manchester</td>\n",
       "      <td>NaN</td>\n",
       "      <td>NaN</td>\n",
       "      <td>NaN</td>\n",
       "      <td>PR, Advertising &amp; Marketing Jobs</td>\n",
       "      <td>22,000 - 25,000</td>\n",
       "      <td>23500</td>\n",
       "      <td>onlymarketingjobs.com</td>\n",
       "      <td>10.064798</td>\n",
       "    </tr>\n",
       "    <tr>\n",
       "      <th>31299</th>\n",
       "      <td>68074751</td>\n",
       "      <td>Relief Support Workers</td>\n",
       "      <td>We are looking to recruit a talented and highl...</td>\n",
       "      <td>Bradford West Yorkshire Yorkshire</td>\n",
       "      <td>Bradford</td>\n",
       "      <td>part_time</td>\n",
       "      <td>NaN</td>\n",
       "      <td>Creative Support</td>\n",
       "      <td>Charity &amp; Voluntary Jobs</td>\n",
       "      <td>7.10 per hour plus accrued holiday credit</td>\n",
       "      <td>13632</td>\n",
       "      <td>totaljobs.com</td>\n",
       "      <td>9.520248</td>\n",
       "    </tr>\n",
       "  </tbody>\n",
       "</table>\n",
       "</div>"
      ],
      "text/plain": [
       "              Id                              Title  \\\n",
       "144881  70676364  Account Manager / Sales Executive   \n",
       "123669  69961646             Junior Account Manager   \n",
       "31299   68074751             Relief Support Workers   \n",
       "\n",
       "                                          FullDescription  \\\n",
       "144881  Job Title Account Manager / Sales Executive / ...   \n",
       "123669  Manchester based PR Agency is looking for a Ju...   \n",
       "31299   We are looking to recruit a talented and highl...   \n",
       "\n",
       "                                              LocationRaw LocationNormalized  \\\n",
       "144881  South East England,London,Reading,Staines,Woki...             London   \n",
       "123669                                         Manchester         Manchester   \n",
       "31299                   Bradford West Yorkshire Yorkshire           Bradford   \n",
       "\n",
       "       ContractType ContractTime           Company  \\\n",
       "144881          NaN    permanent        Mead House   \n",
       "123669          NaN          NaN               NaN   \n",
       "31299     part_time          NaN  Creative Support   \n",
       "\n",
       "                                Category  \\\n",
       "144881                        Sales Jobs   \n",
       "123669  PR, Advertising & Marketing Jobs   \n",
       "31299           Charity & Voluntary Jobs   \n",
       "\n",
       "                                         SalaryRaw  SalaryNormalized  \\\n",
       "144881  35k - 45k pa + OTE 70-90k + Car + Benefits             40000   \n",
       "123669                             22,000 - 25,000             23500   \n",
       "31299    7.10 per hour plus accrued holiday credit             13632   \n",
       "\n",
       "                   SourceName  Log1pSalary  \n",
       "144881          jobsite.co.uk    10.596660  \n",
       "123669  onlymarketingjobs.com    10.064798  \n",
       "31299           totaljobs.com     9.520248  "
      ]
     },
     "execution_count": 6,
     "metadata": {},
     "output_type": "execute_result"
    }
   ],
   "source": [
    "text_columns = [\"Title\", \"FullDescription\"]\n",
    "categorical_columns = [\"Category\", \"Company\", \"LocationNormalized\", \"ContractType\", \"ContractTime\"]\n",
    "TARGET_COLUMN = \"Log1pSalary\"\n",
    "\n",
    "data[categorical_columns] = data[categorical_columns].fillna('NaN') # cast missing values to string \"NaN\"\n",
    "\n",
    "data.sample(3)"
   ]
  },
  {
   "cell_type": "markdown",
   "metadata": {},
   "source": [
    "## преобразование категориальных данных"
   ]
  },
  {
   "cell_type": "code",
   "execution_count": 7,
   "metadata": {
    "ExecuteTime": {
     "end_time": "2023-01-27T15:59:08.850817Z",
     "start_time": "2023-01-27T15:59:04.213018Z"
    }
   },
   "outputs": [
    {
     "data": {
      "text/html": [
       "<style>#sk-container-id-1 {color: black;background-color: white;}#sk-container-id-1 pre{padding: 0;}#sk-container-id-1 div.sk-toggleable {background-color: white;}#sk-container-id-1 label.sk-toggleable__label {cursor: pointer;display: block;width: 100%;margin-bottom: 0;padding: 0.3em;box-sizing: border-box;text-align: center;}#sk-container-id-1 label.sk-toggleable__label-arrow:before {content: \"▸\";float: left;margin-right: 0.25em;color: #696969;}#sk-container-id-1 label.sk-toggleable__label-arrow:hover:before {color: black;}#sk-container-id-1 div.sk-estimator:hover label.sk-toggleable__label-arrow:before {color: black;}#sk-container-id-1 div.sk-toggleable__content {max-height: 0;max-width: 0;overflow: hidden;text-align: left;background-color: #f0f8ff;}#sk-container-id-1 div.sk-toggleable__content pre {margin: 0.2em;color: black;border-radius: 0.25em;background-color: #f0f8ff;}#sk-container-id-1 input.sk-toggleable__control:checked~div.sk-toggleable__content {max-height: 200px;max-width: 100%;overflow: auto;}#sk-container-id-1 input.sk-toggleable__control:checked~label.sk-toggleable__label-arrow:before {content: \"▾\";}#sk-container-id-1 div.sk-estimator input.sk-toggleable__control:checked~label.sk-toggleable__label {background-color: #d4ebff;}#sk-container-id-1 div.sk-label input.sk-toggleable__control:checked~label.sk-toggleable__label {background-color: #d4ebff;}#sk-container-id-1 input.sk-hidden--visually {border: 0;clip: rect(1px 1px 1px 1px);clip: rect(1px, 1px, 1px, 1px);height: 1px;margin: -1px;overflow: hidden;padding: 0;position: absolute;width: 1px;}#sk-container-id-1 div.sk-estimator {font-family: monospace;background-color: #f0f8ff;border: 1px dotted black;border-radius: 0.25em;box-sizing: border-box;margin-bottom: 0.5em;}#sk-container-id-1 div.sk-estimator:hover {background-color: #d4ebff;}#sk-container-id-1 div.sk-parallel-item::after {content: \"\";width: 100%;border-bottom: 1px solid gray;flex-grow: 1;}#sk-container-id-1 div.sk-label:hover label.sk-toggleable__label {background-color: #d4ebff;}#sk-container-id-1 div.sk-serial::before {content: \"\";position: absolute;border-left: 1px solid gray;box-sizing: border-box;top: 0;bottom: 0;left: 50%;z-index: 0;}#sk-container-id-1 div.sk-serial {display: flex;flex-direction: column;align-items: center;background-color: white;padding-right: 0.2em;padding-left: 0.2em;position: relative;}#sk-container-id-1 div.sk-item {position: relative;z-index: 1;}#sk-container-id-1 div.sk-parallel {display: flex;align-items: stretch;justify-content: center;background-color: white;position: relative;}#sk-container-id-1 div.sk-item::before, #sk-container-id-1 div.sk-parallel-item::before {content: \"\";position: absolute;border-left: 1px solid gray;box-sizing: border-box;top: 0;bottom: 0;left: 50%;z-index: -1;}#sk-container-id-1 div.sk-parallel-item {display: flex;flex-direction: column;z-index: 1;position: relative;background-color: white;}#sk-container-id-1 div.sk-parallel-item:first-child::after {align-self: flex-end;width: 50%;}#sk-container-id-1 div.sk-parallel-item:last-child::after {align-self: flex-start;width: 50%;}#sk-container-id-1 div.sk-parallel-item:only-child::after {width: 0;}#sk-container-id-1 div.sk-dashed-wrapped {border: 1px dashed gray;margin: 0 0.4em 0.5em 0.4em;box-sizing: border-box;padding-bottom: 0.4em;background-color: white;}#sk-container-id-1 div.sk-label label {font-family: monospace;font-weight: bold;display: inline-block;line-height: 1.2em;}#sk-container-id-1 div.sk-label-container {text-align: center;}#sk-container-id-1 div.sk-container {/* jupyter's `normalize.less` sets `[hidden] { display: none; }` but bootstrap.min.css set `[hidden] { display: none !important; }` so we also need the `!important` here to be able to override the default hidden behavior on the sphinx rendered scikit-learn.org. See: https://github.com/scikit-learn/scikit-learn/issues/21755 */display: inline-block !important;position: relative;}#sk-container-id-1 div.sk-text-repr-fallback {display: none;}</style><div id=\"sk-container-id-1\" class=\"sk-top-container\"><div class=\"sk-text-repr-fallback\"><pre>DictVectorizer(dtype=&lt;class &#x27;numpy.float32&#x27;&gt;, sparse=False)</pre><b>In a Jupyter environment, please rerun this cell to show the HTML representation or trust the notebook. <br />On GitHub, the HTML representation is unable to render, please try loading this page with nbviewer.org.</b></div><div class=\"sk-container\" hidden><div class=\"sk-item\"><div class=\"sk-estimator sk-toggleable\"><input class=\"sk-toggleable__control sk-hidden--visually\" id=\"sk-estimator-id-1\" type=\"checkbox\" checked><label for=\"sk-estimator-id-1\" class=\"sk-toggleable__label sk-toggleable__label-arrow\">DictVectorizer</label><div class=\"sk-toggleable__content\"><pre>DictVectorizer(dtype=&lt;class &#x27;numpy.float32&#x27;&gt;, sparse=False)</pre></div></div></div></div></div>"
      ],
      "text/plain": [
       "DictVectorizer(dtype=<class 'numpy.float32'>, sparse=False)"
      ]
     },
     "execution_count": 7,
     "metadata": {},
     "output_type": "execute_result"
    }
   ],
   "source": [
    "top_companies, top_counts = zip(*Counter(data['Company']).most_common(1000))\n",
    "recognized_companies = set(top_companies)\n",
    "data[\"Company\"] = data[\"Company\"].apply(lambda comp: comp if comp in recognized_companies else \"Other\")\n",
    "\n",
    "categorical_vectorizer = DictVectorizer(dtype=np.float32, sparse=False)\n",
    "categorical_vectorizer.fit(data[categorical_columns].apply(dict, axis=1))"
   ]
  },
  {
   "cell_type": "markdown",
   "metadata": {},
   "source": [
    "## преобразование текстовых данных"
   ]
  },
  {
   "cell_type": "markdown",
   "metadata": {},
   "source": [
    "### токенизация текстовых полей"
   ]
  },
  {
   "cell_type": "code",
   "execution_count": 8,
   "metadata": {
    "ExecuteTime": {
     "end_time": "2023-01-27T15:59:56.349213Z",
     "start_time": "2023-01-27T15:59:08.855171Z"
    }
   },
   "outputs": [
    {
     "data": {
      "text/html": [
       "<div>\n",
       "<style scoped>\n",
       "    .dataframe tbody tr th:only-of-type {\n",
       "        vertical-align: middle;\n",
       "    }\n",
       "\n",
       "    .dataframe tbody tr th {\n",
       "        vertical-align: top;\n",
       "    }\n",
       "\n",
       "    .dataframe thead th {\n",
       "        text-align: right;\n",
       "    }\n",
       "</style>\n",
       "<table border=\"1\" class=\"dataframe\">\n",
       "  <thead>\n",
       "    <tr style=\"text-align: right;\">\n",
       "      <th></th>\n",
       "      <th>Id</th>\n",
       "      <th>Title</th>\n",
       "      <th>FullDescription</th>\n",
       "      <th>LocationRaw</th>\n",
       "      <th>LocationNormalized</th>\n",
       "      <th>ContractType</th>\n",
       "      <th>ContractTime</th>\n",
       "      <th>Company</th>\n",
       "      <th>Category</th>\n",
       "      <th>SalaryRaw</th>\n",
       "      <th>SalaryNormalized</th>\n",
       "      <th>SourceName</th>\n",
       "      <th>Log1pSalary</th>\n",
       "    </tr>\n",
       "  </thead>\n",
       "  <tbody>\n",
       "    <tr>\n",
       "      <th>179242</th>\n",
       "      <td>71560416</td>\n",
       "      <td>[branch, assistant]</td>\n",
       "      <td>[standards, at, all, times, ?, then, working, ...</td>\n",
       "      <td>Cwmbran</td>\n",
       "      <td>Cwmbran</td>\n",
       "      <td>part_time</td>\n",
       "      <td>NaN</td>\n",
       "      <td>Other</td>\n",
       "      <td>Customer Services Jobs</td>\n",
       "      <td>6.19 - 6.47 per hour</td>\n",
       "      <td>12153</td>\n",
       "      <td>Jobcentre Plus</td>\n",
       "      <td>9.405414</td>\n",
       "    </tr>\n",
       "    <tr>\n",
       "      <th>152112</th>\n",
       "      <td>70772444</td>\n",
       "      <td>[contentious, constuction, solicitor, ****, pqe]</td>\n",
       "      <td>[contentious, construction, solicitor, ****, p...</td>\n",
       "      <td>West Midlands</td>\n",
       "      <td>West Midlands</td>\n",
       "      <td>NaN</td>\n",
       "      <td>permanent</td>\n",
       "      <td>Other</td>\n",
       "      <td>Legal Jobs</td>\n",
       "      <td>30000 - 40000 per annum</td>\n",
       "      <td>35000</td>\n",
       "      <td>legalweekjobs.com</td>\n",
       "      <td>10.463132</td>\n",
       "    </tr>\n",
       "    <tr>\n",
       "      <th>185861</th>\n",
       "      <td>71676414</td>\n",
       "      <td>[production, manager]</td>\n",
       "      <td>[a, rapidly, growing, production, company, are...</td>\n",
       "      <td>Didcot Oxfordshire South East</td>\n",
       "      <td>Didcot</td>\n",
       "      <td>NaN</td>\n",
       "      <td>permanent</td>\n",
       "      <td>Other</td>\n",
       "      <td>Engineering Jobs</td>\n",
       "      <td>From 25,000 to 25,000 per annum</td>\n",
       "      <td>25000</td>\n",
       "      <td>totaljobs.com</td>\n",
       "      <td>10.126671</td>\n",
       "    </tr>\n",
       "  </tbody>\n",
       "</table>\n",
       "</div>"
      ],
      "text/plain": [
       "              Id                                             Title  \\\n",
       "179242  71560416                               [branch, assistant]   \n",
       "152112  70772444  [contentious, constuction, solicitor, ****, pqe]   \n",
       "185861  71676414                             [production, manager]   \n",
       "\n",
       "                                          FullDescription  \\\n",
       "179242  [standards, at, all, times, ?, then, working, ...   \n",
       "152112  [contentious, construction, solicitor, ****, p...   \n",
       "185861  [a, rapidly, growing, production, company, are...   \n",
       "\n",
       "                          LocationRaw LocationNormalized ContractType  \\\n",
       "179242                        Cwmbran            Cwmbran    part_time   \n",
       "152112                  West Midlands      West Midlands          NaN   \n",
       "185861  Didcot Oxfordshire South East             Didcot          NaN   \n",
       "\n",
       "       ContractTime Company                Category  \\\n",
       "179242          NaN   Other  Customer Services Jobs   \n",
       "152112    permanent   Other              Legal Jobs   \n",
       "185861    permanent   Other        Engineering Jobs   \n",
       "\n",
       "                              SalaryRaw  SalaryNormalized         SourceName  \\\n",
       "179242             6.19 - 6.47 per hour             12153     Jobcentre Plus   \n",
       "152112          30000 - 40000 per annum             35000  legalweekjobs.com   \n",
       "185861  From 25,000 to 25,000 per annum             25000      totaljobs.com   \n",
       "\n",
       "        Log1pSalary  \n",
       "179242     9.405414  \n",
       "152112    10.463132  \n",
       "185861    10.126671  "
      ]
     },
     "execution_count": 8,
     "metadata": {},
     "output_type": "execute_result"
    }
   ],
   "source": [
    "tokenizer = nltk.tokenize.WordPunctTokenizer()\n",
    "\n",
    "for i in text_columns:\n",
    "    data[i] = data[i].str.lower()\n",
    "    data[i] = data[i].astype(str).apply(tokenizer.tokenize)\n",
    "    \n",
    "data.sample(3)"
   ]
  },
  {
   "cell_type": "markdown",
   "metadata": {},
   "source": [
    "### создание Словаря"
   ]
  },
  {
   "cell_type": "markdown",
   "metadata": {},
   "source": [
    "##### подсчитываем, сколько раз каждое слово встречалось"
   ]
  },
  {
   "cell_type": "code",
   "execution_count": 9,
   "metadata": {
    "ExecuteTime": {
     "end_time": "2023-01-27T16:01:43.006804Z",
     "start_time": "2023-01-27T15:59:56.356241Z"
    }
   },
   "outputs": [
    {
     "data": {
      "image/png": "[encoded data removed]",
      "text/plain": [
       "<Figure size 640x480 with 1 Axes>"
      ]
     },
     "metadata": {},
     "output_type": "display_data"
    }
   ],
   "source": [
    "word_list_1 = data[\"Title\"].tolist()\n",
    "word_list_1 = list(itertools.chain(*word_list_1))\n",
    "\n",
    "word_list_2 = data[\"FullDescription\"].tolist()\n",
    "word_list_2 = list(itertools.chain(*word_list_2))\n",
    "\n",
    "word_list_1.extend(word_list_2)\n",
    "token_counts = Counter(word_list_1)\n",
    "\n",
    "plt.hist(list(token_counts.values()), range=[0, 10**4], bins=50, log=True)\n",
    "plt.xlabel(\"Word counts\");"
   ]
  },
  {
   "cell_type": "markdown",
   "metadata": {},
   "source": [
    "##### удаляем редкие слова, добавляем управляющих токены unknown и empty words -> список токенов"
   ]
  },
  {
   "cell_type": "code",
   "execution_count": 10,
   "metadata": {
    "ExecuteTime": {
     "end_time": "2023-01-27T16:01:43.364999Z",
     "start_time": "2023-01-27T16:01:43.021576Z"
    }
   },
   "outputs": [],
   "source": [
    "min_count = 10\n",
    "\n",
    "tokens = sorted(t for t, c in token_counts.items() if c >= min_count)\n",
    "\n",
    "UNK, PAD = \"UNK\", \"PAD\"\n",
    "tokens = [UNK, PAD] + tokens"
   ]
  },
  {
   "cell_type": "markdown",
   "metadata": {},
   "source": [
    "##### индексация каждого токена"
   ]
  },
  {
   "cell_type": "code",
   "execution_count": 11,
   "metadata": {
    "ExecuteTime": {
     "end_time": "2023-01-27T16:02:05.624245Z",
     "start_time": "2023-01-27T16:01:43.366899Z"
    }
   },
   "outputs": [],
   "source": [
    "token_to_id = {i: tokens.index(i) for i in tokens} "
   ]
  },
  {
   "cell_type": "markdown",
   "metadata": {},
   "source": [
    "### конвертация листа токенов в матрицу с паддингом"
   ]
  },
  {
   "cell_type": "code",
   "execution_count": 12,
   "metadata": {
    "ExecuteTime": {
     "end_time": "2023-01-27T16:02:05.638479Z",
     "start_time": "2023-01-27T16:02:05.626717Z"
    }
   },
   "outputs": [],
   "source": [
    "# получение индексов для управляющих токенов\n",
    "UNK_IX, PAD_IX = map(token_to_id.get, [UNK, PAD])\n",
    "\n",
    "def as_matrix(sequences, max_len=10): #max_len=None):\n",
    "    \"\"\" Convert a list of tokens into a matrix with padding \"\"\"\n",
    "    # если строка не токенезирована, сделаем это \n",
    "    if isinstance(sequences[0], str):\n",
    "        sequences = list(map(str.split, sequences))\n",
    "\n",
    "    # матрица, заполненная индексом [PAD] размерности n x max_len\n",
    "    matrix = np.full((len(sequences), max_len), np.int32(PAD_IX))\n",
    "    # заполняем созданную матрицу \"словами\"\n",
    "    for i,seq in enumerate(sequences):\n",
    "        # если встречается незнакомый токен, то ставин индекс токена [UNK]\n",
    "        row_ix = [token_to_id.get(word, UNK_IX) for word in seq[:max_len]]\n",
    "        # замена соответсвующих строк в ранее созданной матрице нулей\n",
    "        matrix[i, :len(row_ix)] = row_ix\n",
    "    \n",
    "    return matrix"
   ]
  },
  {
   "cell_type": "markdown",
   "metadata": {
    "ExecuteTime": {
     "end_time": "2023-01-17T16:34:51.545584Z",
     "start_time": "2023-01-17T16:34:51.541440Z"
    }
   },
   "source": [
    "# train-test split"
   ]
  },
  {
   "cell_type": "code",
   "execution_count": 13,
   "metadata": {
    "ExecuteTime": {
     "end_time": "2023-01-27T16:02:07.140452Z",
     "start_time": "2023-01-27T16:02:05.646204Z"
    }
   },
   "outputs": [
    {
     "name": "stdout",
     "output_type": "stream",
     "text": [
      "Train size =  195814\n",
      "Validation size =  48954\n"
     ]
    }
   ],
   "source": [
    "from sklearn.model_selection import train_test_split\n",
    "\n",
    "data_train, data_val = train_test_split(data, test_size=0.2, random_state=42)\n",
    "data_train.index = range(len(data_train))\n",
    "data_val.index = range(len(data_val))\n",
    "\n",
    "print(\"Train size = \", len(data_train))\n",
    "print(\"Validation size = \", len(data_val))"
   ]
  },
  {
   "cell_type": "markdown",
   "metadata": {},
   "source": [
    "# функция создание батчей"
   ]
  },
  {
   "cell_type": "code",
   "execution_count": 14,
   "metadata": {
    "ExecuteTime": {
     "end_time": "2023-01-27T16:02:07.154801Z",
     "start_time": "2023-01-27T16:02:07.143261Z"
    },
    "code_folding": [
     0,
     9,
     17
    ]
   },
   "outputs": [],
   "source": [
    "def to_tensors(batch, device):\n",
    "    batch_tensors = dict()\n",
    "    for key, arr in batch.items():\n",
    "        if key in [\"FullDescription\", \"Title\"]:\n",
    "            batch_tensors[key] = torch.tensor(arr, device=device, dtype=torch.int64)\n",
    "        else:\n",
    "            batch_tensors[key] = torch.tensor(arr, device=device)\n",
    "    return batch_tensors\n",
    "\n",
    "def apply_word_dropout(matrix, keep_prop, replace_with=UNK_IX, pad_ix=PAD_IX,):\n",
    "    # бинарная матрица, отвечающая за взятие (0) или исключение (1) элементов\n",
    "    dropout_mask = np.random.choice(2, np.shape(matrix), p=[keep_prop, 1 - keep_prop])\n",
    "    # корректируем бинарную матрицу, если токен [PAD] (пустое слово), то ставим 0\n",
    "    dropout_mask &= matrix != pad_ix\n",
    "    # dropout_mask: 0 - берется элемент из левой матрицы, 1 - из правой\n",
    "    return np.choose(dropout_mask, [matrix, np.full_like(matrix, replace_with)])\n",
    "\n",
    "def make_batch(data, max_len=None, word_dropout=0, device=device):\n",
    "    \"\"\"\n",
    "    Creates a keras-friendly dict from the batch data.\n",
    "    :param word_dropout: replaces token index with UNK_IX with this probability\n",
    "    :returns: a dict with {'title' : int64[batch, title_max_len]\n",
    "    \"\"\"\n",
    "    batch = {}\n",
    "    batch[\"Title\"] = as_matrix(data[\"Title\"].values, max_len)\n",
    "    batch[\"FullDescription\"] = as_matrix(data[\"FullDescription\"].values, max_len)\n",
    "    batch['Categorical'] = categorical_vectorizer.transform(data[categorical_columns].apply(dict, axis=1))\n",
    "    \n",
    "    if word_dropout != 0:\n",
    "        batch[\"FullDescription\"] = apply_word_dropout(batch[\"FullDescription\"], 1. - word_dropout)\n",
    "    \n",
    "    if TARGET_COLUMN in data.columns:\n",
    "        batch[TARGET_COLUMN] = data[TARGET_COLUMN].values\n",
    "    \n",
    "    return to_tensors(batch, device)"
   ]
  },
  {
   "cell_type": "markdown",
   "metadata": {},
   "source": [
    "# функции итерирования батче и визуализации прогресса обучения"
   ]
  },
  {
   "cell_type": "code",
   "execution_count": 15,
   "metadata": {
    "ExecuteTime": {
     "end_time": "2023-01-27T16:02:07.174212Z",
     "start_time": "2023-01-27T16:02:07.158270Z"
    },
    "code_folding": [
     3,
     16
    ]
   },
   "outputs": [],
   "source": [
    "BATCH_SIZE = 16\n",
    "EPOCHS = 5\n",
    "\n",
    "def iterate_minibatches(data, batch_size=256, shuffle=True, cycle=False, device=device, **kwargs):\n",
    "    \"\"\" iterates minibatches of data in random order \"\"\"\n",
    "    while True:\n",
    "        indices = np.arange(len(data))\n",
    "        if shuffle:\n",
    "            indices = np.random.permutation(indices)\n",
    "\n",
    "        for start in range(0, len(indices), batch_size):\n",
    "            batch = make_batch(data.iloc[indices[start : start + batch_size]], device=device, max_len=898, **kwargs)\n",
    "            yield batch\n",
    "        \n",
    "        if not cycle: break\n",
    "            \n",
    "def print_metrics(model, data, batch_size=BATCH_SIZE, name=\"\", device=torch.device('cpu'), **kw):\n",
    "    squared_error = abs_error = num_samples = 0.0\n",
    "    model.eval()\n",
    "    with torch.no_grad():\n",
    "        for batch in iterate_minibatches(data, batch_size=batch_size, shuffle=False, device=device, **kw):\n",
    "            print('-')\n",
    "            batch_pred = model(batch)\n",
    "            squared_error += torch.sum(torch.square(batch_pred - batch[TARGET_COLUMN]))\n",
    "            abs_error += torch.sum(torch.abs(batch_pred - batch[TARGET_COLUMN]))\n",
    "            num_samples += len(batch_pred)\n",
    "            break\n",
    "    mse = squared_error.detach().cpu().numpy() / num_samples\n",
    "    mae = abs_error.detach().cpu().numpy() / num_samples\n",
    "    print(\"%s results:\" % (name or \"\"))\n",
    "    print(\"Mean square error: %.5f\" % mse)\n",
    "    print(\"Mean absolute error: %.5f\" % mae)\n",
    "    return mse, mae"
   ]
  },
  {
   "cell_type": "markdown",
   "metadata": {},
   "source": [
    "# обучение модели"
   ]
  },
  {
   "cell_type": "markdown",
   "metadata": {},
   "source": [
    "## base-модель"
   ]
  },
  {
   "cell_type": "code",
   "execution_count": 16,
   "metadata": {
    "ExecuteTime": {
     "end_time": "2023-01-27T16:02:07.203344Z",
     "start_time": "2023-01-27T16:02:07.176693Z"
    }
   },
   "outputs": [],
   "source": [
    "class SalaryPredictor_1(nn.Module):\n",
    "    # конструктор класса\n",
    "    def __init__(self, n_tokens=len(tokens), n_cat_features=len(categorical_vectorizer.vocabulary_), hid_size=64):\n",
    "        # создание сетки по канонам созданного класса\n",
    "        super().__init__()\n",
    "        \n",
    "        self.embedding = nn.Embedding(num_embeddings=n_tokens, embedding_dim=256)\n",
    "        self.conv_t = nn.Conv1d(898, hid_size, kernel_size=7, padding=\"same\")\n",
    "        self.pool = nn.MaxPool1d(4)\n",
    "        #-----------------------------------------\n",
    "        self.conv_d = nn.Conv1d(898, hid_size, kernel_size=7, padding=\"same\")\n",
    "        #-----------------------------------------\n",
    "        self.fc1 = nn.Linear(n_cat_features, hid_size)\n",
    "        self.ac1 = nn.Sigmoid()\n",
    "        #-----------------------------------------\n",
    "        self.fc2 = nn.Linear(hid_size, 1 )\n",
    "        self.fc3 = nn.Linear(192, 1 )\n",
    "        self.relu = nn.ReLU()\n",
    "        \n",
    "    def forward(self, batch):\n",
    "        x_tit = batch['Title']\n",
    "        x_tit = self.embedding(x_tit)\n",
    "        x_tit = self.conv_t(x_tit)\n",
    "        x_tit = self.relu(x_tit)\n",
    "        x_tit = self.pool(x_tit)\n",
    "        #-----------------------------------------\n",
    "        x_des = batch['FullDescription']\n",
    "        x_des = self.embedding(x_des)\n",
    "        x_des = self.conv_d(x_des)\n",
    "        x_des = self.relu(x_des)\n",
    "        x_des = self.pool(x_des)\n",
    "        #-----------------------------------------\n",
    "        x_cat = batch['Categorical']\n",
    "        x_cat = self.fc1(x_cat)\n",
    "        x_cat = self.ac1(x_cat)\n",
    "        #-----------------------------------------\n",
    "        x_cat = x_cat.unsqueeze(2).expand(-1, -1, 64)\n",
    "        x = torch.cat((x_tit, x_des, x_cat), dim=1)\n",
    "\n",
    "        x = self.fc2(x)\n",
    "        x.squeeze_()\n",
    "        x = self.relu(x)\n",
    "        \n",
    "        x = self.fc3(x)\n",
    "        x.squeeze_()\n",
    "        x = self.relu(x)\n",
    "        \n",
    "        return x      "
   ]
  },
  {
   "cell_type": "code",
   "execution_count": 17,
   "metadata": {
    "ExecuteTime": {
     "end_time": "2023-01-27T16:02:08.345685Z",
     "start_time": "2023-01-27T16:02:07.209982Z"
    }
   },
   "outputs": [
    {
     "data": {
      "text/plain": [
       "tensor([0.1202, 0.1729, 0.1301, 0.1577, 0.1173, 0.1380, 0.1262, 0.1442, 0.1336,\n",
       "        0.1429, 0.1368, 0.0615, 0.1561, 0.0879, 0.1698, 0.1755, 0.0919, 0.1441,\n",
       "        0.1524, 0.1676, 0.0934, 0.1082, 0.0524, 0.1336, 0.1759, 0.0976, 0.0815,\n",
       "        0.1036, 0.1405, 0.1345, 0.1409, 0.1286, 0.1526, 0.1093, 0.0465, 0.1579,\n",
       "        0.1271, 0.1449, 0.1497, 0.0742, 0.1506, 0.1016, 0.1114, 0.1475, 0.1955,\n",
       "        0.1061, 0.0823, 0.1458, 0.0865, 0.1209, 0.1283, 0.1658, 0.1106, 0.1013,\n",
       "        0.1408, 0.1395, 0.1035, 0.1631, 0.1300, 0.1521, 0.1063, 0.1048, 0.1266,\n",
       "        0.0991, 0.1269, 0.1130, 0.1595, 0.1175, 0.1707, 0.0916, 0.1446, 0.1052,\n",
       "        0.1390, 0.1528, 0.1393, 0.0799, 0.0836, 0.0890, 0.1279, 0.1376, 0.1325,\n",
       "        0.1510, 0.1816, 0.2021, 0.1381, 0.0595, 0.1075, 0.0916, 0.0999, 0.1424,\n",
       "        0.0923, 0.1436, 0.1880, 0.1488, 0.1078, 0.1523, 0.1242, 0.1739, 0.0658,\n",
       "        0.1472], grad_fn=<ReluBackward0>)"
      ]
     },
     "execution_count": 17,
     "metadata": {},
     "output_type": "execute_result"
    }
   ],
   "source": [
    "torch.manual_seed(43)\n",
    "\n",
    "model = SalaryPredictor_1()\n",
    "batch = make_batch(data_train[:100], max_len=898)\n",
    "criterion = nn.MSELoss()\n",
    "\n",
    "model(batch)"
   ]
  },
  {
   "cell_type": "code",
   "execution_count": 18,
   "metadata": {
    "ExecuteTime": {
     "end_time": "2023-01-27T17:18:24.306050Z",
     "start_time": "2023-01-27T16:02:08.347935Z"
    },
    "scrolled": true
   },
   "outputs": [
    {
     "name": "stdout",
     "output_type": "stream",
     "text": [
      "epoch: 0\n"
     ]
    },
    {
     "name": "stderr",
     "output_type": "stream",
     "text": [
      "12239it [1:16:15,  2.67it/s]                                                    "
     ]
    },
    {
     "name": "stdout",
     "output_type": "stream",
     "text": [
      "-\n",
      " results:\n",
      "Mean square error: 0.08757\n",
      "Mean absolute error: 0.23446\n"
     ]
    },
    {
     "name": "stderr",
     "output_type": "stream",
     "text": [
      "\n"
     ]
    }
   ],
   "source": [
    "torch.manual_seed(43)\n",
    "\n",
    "model = SalaryPredictor_1().to(device)\n",
    "criterion = nn.MSELoss(reduction='sum')\n",
    "optimizer = torch.optim.Adam(model.parameters(), lr=1e-4)\n",
    "\n",
    "for epoch in range(EPOCHS):\n",
    "    print(f\"epoch: {epoch}\")\n",
    "    model.train()\n",
    "    for i, batch in tqdm(enumerate(\n",
    "            iterate_minibatches(data_train, batch_size=BATCH_SIZE, device=device)),\n",
    "            total=len(data_train) // BATCH_SIZE\n",
    "        ):\n",
    "        optimizer.zero_grad()\n",
    "        pred = model(batch)\n",
    "        loss = criterion(pred, batch[TARGET_COLUMN])\n",
    "        loss.backward()\n",
    "        optimizer.step()\n",
    "        \n",
    "        #if i==10: break\n",
    "        \n",
    "    print_metrics(model, data_val, device=device)"
   ]
  },
  {
   "cell_type": "markdown",
   "metadata": {},
   "source": [
    "## модель A"
   ]
  },
  {
   "cell_type": "code",
   "execution_count": 19,
   "metadata": {
    "ExecuteTime": {
     "end_time": "2023-01-27T17:18:24.341302Z",
     "start_time": "2023-01-27T17:18:24.311561Z"
    },
    "code_folding": []
   },
   "outputs": [],
   "source": [
    "class SalaryPredictor_2(nn.Module):\n",
    "    # конструктор класса\n",
    "    def __init__(self, \n",
    "                 n_tokens=len(tokens), \n",
    "                 n_cat_features=len(categorical_vectorizer.vocabulary_), \n",
    "                 hid_size=64,\n",
    "                 p_dropout = 0.1\n",
    "                ):\n",
    "        # создание сетки по канонам созданного класса\n",
    "        super().__init__()\n",
    "        \n",
    "        # YOUR CODE HERE\n",
    "        self.embedding = nn.Embedding(num_embeddings=n_tokens, embedding_dim=256)\n",
    "        \n",
    "        self.conv_t_1 = nn.Conv1d(898, hid_size, kernel_size=7, padding=\"same\")\n",
    "        self.norm_t_1 = nn.BatchNorm1d(hid_size)\n",
    "        self.conv_t_2 = nn.Conv1d(898, hid_size, kernel_size=7, padding=\"same\")\n",
    "        self.norm_t_2 = nn.BatchNorm1d(hid_size)\n",
    "        self.dropout = nn.Dropout(p_dropout)\n",
    "        self.pooling = nn.MaxPool1d(4) #256 / 64\n",
    "        #-----------------------------------------\n",
    "        self.conv_d = nn.Conv1d(898, hid_size, kernel_size=7, padding=\"same\")\n",
    "        self.norm_d = nn.BatchNorm1d(hid_size)\n",
    "        #-----------------------------------------\n",
    "        self.fc1 = nn.Linear(n_cat_features, hid_size)\n",
    "        self.ac1 = nn.Sigmoid()\n",
    "        #-----------------------------------------\n",
    "        self.fc2 = nn.Linear(hid_size, 1 )\n",
    "        self.fc3 = nn.Linear(320, 1 )\n",
    "        \n",
    "    def forward(self, batch):\n",
    "        # YOUR CODE HERE\n",
    "        \n",
    "        x_tit = batch['Title']\n",
    "        x_tit = self.embedding(x_tit)\n",
    "        \n",
    "        x_tit_1 = self.conv_t_1(x_tit)\n",
    "        x_tit_1 = torch.relu(x_tit_1)\n",
    "        x_tit_1 = self.norm_t_1(x_tit_1)\n",
    "        x_tit_1 = self.dropout(x_tit_1)        \n",
    "        x_tit_1 = self.pooling(x_tit_1)\n",
    "        \n",
    "        x_tit_2 = self.conv_t_2(x_tit)\n",
    "        x_tit_2 = torch.relu(x_tit_2)\n",
    "        x_tit_2 = self.norm_t_2(x_tit_2)\n",
    "        x_tit_2 = self.dropout(x_tit_2)        \n",
    "        x_tit_2 = self.pooling(x_tit_2)\n",
    "        \n",
    "        x_tit = torch.cat((x_tit_1, x_tit_2), dim=1)\n",
    "        #-----------------------------------------\n",
    "        x_des = batch['FullDescription']\n",
    "        x_des = self.embedding(x_des)\n",
    "        \n",
    "        x_des_1 = self.conv_t_1(x_des)\n",
    "        x_des_1 = torch.relu(x_des_1)\n",
    "        x_des_1 = self.norm_t_1(x_des_1)\n",
    "        x_des_1 = self.dropout(x_des_1)        \n",
    "        x_des_1 = self.pooling(x_des_1)\n",
    "        \n",
    "        x_des_2 = self.conv_t_2(x_des)\n",
    "        x_des_2 = torch.relu(x_des_2)\n",
    "        x_des_2 = self.norm_t_2(x_des_2)\n",
    "        x_des_2 = self.dropout(x_des_2)        \n",
    "        x_des_2 = self.pooling(x_des_2)\n",
    "        \n",
    "        x_des = torch.cat((x_des_1, x_des_2), dim=1)\n",
    "        #-----------------------------------------\n",
    "        x_cat = batch['Categorical']\n",
    "        x_cat = self.fc1(x_cat)\n",
    "        x_cat = self.ac1(x_cat)\n",
    "        x_cat = x_cat.unsqueeze(2).expand(-1, -1, 64)\n",
    "        #-----------------------------------------\n",
    "        \n",
    "        x = torch.cat((x_tit, x_des, x_cat), dim=1)\n",
    "        \n",
    "        x = self.fc2(x)\n",
    "        x.squeeze_()\n",
    "        x = torch.relu(x)\n",
    "        \n",
    "        x = self.fc3(x)\n",
    "        x.squeeze_()\n",
    "        x = torch.relu(x)\n",
    "        \n",
    "        return x      "
   ]
  },
  {
   "cell_type": "code",
   "execution_count": 20,
   "metadata": {
    "ExecuteTime": {
     "end_time": "2023-01-27T17:18:25.734341Z",
     "start_time": "2023-01-27T17:18:24.347028Z"
    },
    "scrolled": true
   },
   "outputs": [
    {
     "name": "stdout",
     "output_type": "stream",
     "text": [
      "Title\n"
     ]
    },
    {
     "data": {
      "text/plain": [
       "tensor([0.0000, 0.0000, 0.0000, 0.0299, 0.0000, 0.0268, 0.0000, 0.0090, 0.0000,\n",
       "        0.0000, 0.0973, 0.0361, 0.0303, 0.0000, 0.0075, 0.0022, 0.0000, 0.0000,\n",
       "        0.0000, 0.0000, 0.0000, 0.1105, 0.0703, 0.1905, 0.0000, 0.0000, 0.0000,\n",
       "        0.0000, 0.1032, 0.0000, 0.0448, 0.0056, 0.0000, 0.0000, 0.0000, 0.0000,\n",
       "        0.0000, 0.0000, 0.0065, 0.0591, 0.0000, 0.0000, 0.0000, 0.0000, 0.0000,\n",
       "        0.1079, 0.0000, 0.1210, 0.0000, 0.0000, 0.0000, 0.0000, 0.0000, 0.0000,\n",
       "        0.0000, 0.0000, 0.0000, 0.0000, 0.0000, 0.0000, 0.0000, 0.0050, 0.0000,\n",
       "        0.0000, 0.0000, 0.0000, 0.0000, 0.0151, 0.0000, 0.1022, 0.0000, 0.0000,\n",
       "        0.0559, 0.0000, 0.0000, 0.0000, 0.1374, 0.1148, 0.0000, 0.0000, 0.0000,\n",
       "        0.0000, 0.0000, 0.0000, 0.0603, 0.1678, 0.0000, 0.0010, 0.0179, 0.0000,\n",
       "        0.0000, 0.0000, 0.0000, 0.0000, 0.0050, 0.0000, 0.0000, 0.0000, 0.0883,\n",
       "        0.1282], grad_fn=<ReluBackward0>)"
      ]
     },
     "execution_count": 20,
     "metadata": {},
     "output_type": "execute_result"
    }
   ],
   "source": [
    "torch.manual_seed(43)\n",
    "\n",
    "model = SalaryPredictor_2()\n",
    "batch = make_batch(data_train[:100], max_len=898)\n",
    "criterion = nn.MSELoss()\n",
    "\n",
    "model(batch)"
   ]
  },
  {
   "cell_type": "code",
   "execution_count": 21,
   "metadata": {
    "ExecuteTime": {
     "end_time": "2023-01-27T17:18:33.338320Z",
     "start_time": "2023-01-27T17:18:25.738600Z"
    },
    "scrolled": true
   },
   "outputs": [
    {
     "name": "stdout",
     "output_type": "stream",
     "text": [
      "epoch: 0\n"
     ]
    },
    {
     "name": "stderr",
     "output_type": "stream",
     "text": [
      "\r",
      "  0%|                                                 | 0/12238 [00:00<?, ?it/s]"
     ]
    },
    {
     "name": "stdout",
     "output_type": "stream",
     "text": [
      "Title\n"
     ]
    },
    {
     "name": "stderr",
     "output_type": "stream",
     "text": [
      "\r",
      "  0%|                                       | 1/12238 [00:00<2:29:04,  1.37it/s]"
     ]
    },
    {
     "name": "stdout",
     "output_type": "stream",
     "text": [
      "Title\n"
     ]
    },
    {
     "name": "stderr",
     "output_type": "stream",
     "text": [
      "\r",
      "  0%|                                       | 2/12238 [00:01<2:22:16,  1.43it/s]"
     ]
    },
    {
     "name": "stdout",
     "output_type": "stream",
     "text": [
      "Title\n"
     ]
    },
    {
     "name": "stderr",
     "output_type": "stream",
     "text": [
      "\r",
      "  0%|                                       | 3/12238 [00:02<2:20:19,  1.45it/s]"
     ]
    },
    {
     "name": "stdout",
     "output_type": "stream",
     "text": [
      "Title\n"
     ]
    },
    {
     "name": "stderr",
     "output_type": "stream",
     "text": [
      "\r",
      "  0%|                                       | 4/12238 [00:02<2:17:12,  1.49it/s]"
     ]
    },
    {
     "name": "stdout",
     "output_type": "stream",
     "text": [
      "Title\n"
     ]
    },
    {
     "name": "stderr",
     "output_type": "stream",
     "text": [
      "\r",
      "  0%|                                       | 5/12238 [00:03<2:16:22,  1.49it/s]"
     ]
    },
    {
     "name": "stdout",
     "output_type": "stream",
     "text": [
      "Title\n"
     ]
    },
    {
     "name": "stderr",
     "output_type": "stream",
     "text": [
      "\r",
      "  0%|                                       | 6/12238 [00:04<2:14:23,  1.52it/s]"
     ]
    },
    {
     "name": "stdout",
     "output_type": "stream",
     "text": [
      "Title\n"
     ]
    },
    {
     "name": "stderr",
     "output_type": "stream",
     "text": [
      "\r",
      "  0%|                                       | 7/12238 [00:04<2:14:10,  1.52it/s]"
     ]
    },
    {
     "name": "stdout",
     "output_type": "stream",
     "text": [
      "Title\n"
     ]
    },
    {
     "name": "stderr",
     "output_type": "stream",
     "text": [
      "\r",
      "  0%|                                       | 8/12238 [00:05<2:12:50,  1.53it/s]"
     ]
    },
    {
     "name": "stdout",
     "output_type": "stream",
     "text": [
      "Title\n"
     ]
    },
    {
     "name": "stderr",
     "output_type": "stream",
     "text": [
      "\r",
      "  0%|                                       | 9/12238 [00:05<2:12:32,  1.54it/s]"
     ]
    },
    {
     "name": "stdout",
     "output_type": "stream",
     "text": [
      "Title\n"
     ]
    },
    {
     "name": "stderr",
     "output_type": "stream",
     "text": [
      "\r",
      "  0%|                                      | 10/12238 [00:06<2:12:41,  1.54it/s]"
     ]
    },
    {
     "name": "stdout",
     "output_type": "stream",
     "text": [
      "Title\n"
     ]
    },
    {
     "name": "stderr",
     "output_type": "stream",
     "text": [
      "\r",
      "  0%|                                      | 10/12238 [00:07<2:28:18,  1.37it/s]"
     ]
    },
    {
     "name": "stdout",
     "output_type": "stream",
     "text": [
      "-\n",
      "Title\n",
      " results:\n",
      "Mean square error: 54.91571\n",
      "Mean absolute error: 7.39182\n"
     ]
    },
    {
     "name": "stderr",
     "output_type": "stream",
     "text": [
      "\n"
     ]
    }
   ],
   "source": [
    "torch.manual_seed(43)\n",
    "\n",
    "model = SalaryPredictor_2().to(device)\n",
    "criterion = nn.MSELoss(reduction='sum')\n",
    "optimizer = torch.optim.Adam(model.parameters(), lr=1e-4)\n",
    "\n",
    "for epoch in range(EPOCHS):\n",
    "    print(f\"epoch: {epoch}\")\n",
    "    model.train()\n",
    "    for i, batch in tqdm(enumerate(\n",
    "            iterate_minibatches(data_train, batch_size=BATCH_SIZE, device=device)),\n",
    "            total=len(data_train) // BATCH_SIZE\n",
    "        ):\n",
    "        optimizer.zero_grad()\n",
    "        pred = model(batch)\n",
    "        loss = criterion(pred, batch[TARGET_COLUMN])\n",
    "        loss.backward()\n",
    "        optimizer.step()\n",
    "        \n",
    "        if i==10: break\n",
    "        \n",
    "    print_metrics(model, data_val, device=device)\n",
    "    \n",
    "    # break"
   ]
  },
  {
   "cell_type": "markdown",
   "metadata": {},
   "source": [
    "## модель B"
   ]
  },
  {
   "cell_type": "markdown",
   "metadata": {
    "ExecuteTime": {
     "end_time": "2023-01-24T09:01:44.666183Z",
     "start_time": "2023-01-24T09:01:44.646914Z"
    }
   },
   "source": [
    " Play with pooling\n",
    "\n",
    "There's more than one way to perform pooling:\n",
    "* Max over time (independently for each feature)\n",
    "* Average over time (excluding PAD)\n",
    "* Softmax-pooling:\n",
    "$$ out_{i, t} = \\sum_t {h_{i,t} \\cdot {{e ^ {h_{i, t}}} \\over \\sum_\\tau e ^ {h_{j, \\tau}} } }$$\n",
    "\n",
    "* Attentive pooling\n",
    "$$ out_{i, t} = \\sum_t {h_{i,t} \\cdot Attn(h_t)}$$\n",
    "\n",
    ", where $$ Attn(h_t) = {{e ^ {NN_{attn}(h_t)}} \\over \\sum_\\tau e ^ {NN_{attn}(h_\\tau)}}  $$\n",
    "and $NN_{attn}$ is a dense layer.\n",
    "\n",
    "The optimal score is usually achieved by concatenating several different poolings, including several attentive pooling with different $NN_{attn}$ (aka multi-headed attention).\n",
    "\n",
    "The catch is that keras layers do not inlude those toys. You will have to [write your own keras layer](https://keras.io/layers/writing-your-own-keras-layers/). Or use pure tensorflow, it might even be easier :)"
   ]
  },
  {
   "cell_type": "markdown",
   "metadata": {},
   "source": [
    "## другие модели"
   ]
  },
  {
   "cell_type": "markdown",
   "metadata": {},
   "source": [
    "#### C) Fun with words\n",
    "\n",
    "It's not always a good idea to train embeddings from scratch. Here's a few tricks:\n",
    "\n",
    "* Use a pre-trained embeddings from `gensim.downloader.load`. See last lecture.\n",
    "* Start with pre-trained embeddings, then fine-tune them with gradient descent. You may or may not download pre-trained embeddings from [here](http://nlp.stanford.edu/data/glove.6B.zip) and follow this [manual](https://keras.io/examples/nlp/pretrained_word_embeddings/) to initialize your Keras embedding layer with downloaded weights.\n",
    "* Use the same embedding matrix in title and desc vectorizer\n",
    "\n",
    "\n",
    "#### D) Going recurrent\n",
    "\n",
    "We've already learned that recurrent networks can do cool stuff in sequence modelling. Turns out, they're not useless for classification as well. With some tricks of course..\n",
    "\n",
    "* Like convolutional layers, LSTM should be pooled into a fixed-size vector with some of the poolings.\n",
    "* Since you know all the text in advance, use bidirectional RNN\n",
    "  * Run one LSTM from left to right\n",
    "  * Run another in parallel from right to left \n",
    "  * Concatenate their output sequences along unit axis (dim=-1)\n",
    "\n",
    "* It might be good idea to mix convolutions and recurrent layers differently for title and description\n",
    "\n",
    "\n",
    "#### E) Optimizing seriously\n",
    "\n",
    "* You don't necessarily need 100 epochs. Use early stopping. If you've never done this before, take a look at [early stopping callback(keras)](https://keras.io/callbacks/#earlystopping) or in [pytorch(lightning)](https://pytorch-lightning.readthedocs.io/en/latest/common/early_stopping.html).\n",
    "  * In short, train until you notice that validation\n",
    "  * Maintain the best-on-validation snapshot via `model.save(file_name)`\n",
    "  * Plotting learning curves is usually a good idea"
   ]
  },
  {
   "cell_type": "code",
   "execution_count": null,
   "metadata": {},
   "outputs": [],
   "source": []
  }
 ],
 "metadata": {
  "kernelspec": {
   "display_name": "Python 3 (ipykernel)",
   "language": "python",
   "name": "python3"
  },
  "language_info": {
   "codemirror_mode": {
    "name": "ipython",
    "version": 3
   },
   "file_extension": ".py",
   "mimetype": "text/x-python",
   "name": "python",
   "nbconvert_exporter": "python",
   "pygments_lexer": "ipython3",
   "version": "3.8.10"
  },
  "toc": {
   "base_numbering": 1,
   "nav_menu": {},
   "number_sections": true,
   "sideBar": true,
   "skip_h1_title": false,
   "title_cell": "Table of Contents",
   "title_sidebar": "Contents",
   "toc_cell": false,
   "toc_position": {},
   "toc_section_display": true,
   "toc_window_display": false
  }
 },
 "nbformat": 4,
 "nbformat_minor": 2
}
