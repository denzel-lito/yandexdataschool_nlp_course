{
 "cells": [
  {
   "cell_type": "code",
   "execution_count": 3,
   "metadata": {
    "ExecuteTime": {
     "end_time": "2023-01-20T09:02:20.333520Z",
     "start_time": "2023-01-20T09:02:20.320615Z"
    }
   },
   "outputs": [
    {
     "data": {
      "text/html": [
       "<style>.container { width:80% !important; }</style>"
      ],
      "text/plain": [
       "<IPython.core.display.HTML object>"
      ]
     },
     "metadata": {},
     "output_type": "display_data"
    }
   ],
   "source": [
    "from IPython.display import display, HTML\n",
    "display(HTML(\"<style>.container { width:80% !important; }</style>\"))"
   ]
  },
  {
   "cell_type": "markdown",
   "metadata": {},
   "source": [
    "# Large scale text analysis with deep learning (3 points)\n",
    "\n",
    "Today we're gonna apply the newly learned tools for the task of predicting job salary.\n",
    "\n",
    "<img src=\"https://storage.googleapis.com/kaggle-competitions/kaggle/3342/media/salary%20prediction%20engine%20v2.png\" width=400px>\n",
    "\n",
    "_Special thanks to [Oleg Vasilev](https://github.com/Omrigan/) for the core assignment idea._"
   ]
  },
  {
   "cell_type": "code",
   "execution_count": 4,
   "metadata": {
    "ExecuteTime": {
     "end_time": "2023-01-20T09:02:21.509530Z",
     "start_time": "2023-01-20T09:02:20.337963Z"
    }
   },
   "outputs": [],
   "source": [
    "import numpy as np\n",
    "import pandas as pd\n",
    "import matplotlib.pyplot as plt\n",
    "%matplotlib inline"
   ]
  },
  {
   "cell_type": "markdown",
   "metadata": {},
   "source": [
    "### About the challenge\n",
    "For starters, let's download and unpack the data from [here]. \n",
    "\n",
    "You can also get it from [yadisk url](https://yadi.sk/d/vVEOWPFY3NruT7) the competition [page](https://www.kaggle.com/c/job-salary-prediction/data) (pick `Train_rev1.*`)."
   ]
  },
  {
   "cell_type": "code",
   "execution_count": 5,
   "metadata": {
    "ExecuteTime": {
     "end_time": "2023-01-20T09:02:26.403513Z",
     "start_time": "2023-01-20T09:02:21.511287Z"
    },
    "scrolled": true
   },
   "outputs": [
    {
     "name": "stdout",
     "output_type": "stream",
     "text": [
      "/bin/bash: wget: command not found\r\n"
     ]
    },
    {
     "data": {
      "text/plain": [
       "(244768, 12)"
      ]
     },
     "execution_count": 5,
     "metadata": {},
     "output_type": "execute_result"
    }
   ],
   "source": [
    "!wget https://ysda-seminars.s3.eu-central-1.amazonaws.com/Train_rev1.zip\n",
    "# data = pd.read_csv(\"./Train_rev1.zip\", compression='zip', index_col=None)\n",
    "data = pd.read_csv(\"./Train_rev1.csv\", index_col=None)\n",
    "data.shape"
   ]
  },
  {
   "cell_type": "code",
   "execution_count": 6,
   "metadata": {
    "ExecuteTime": {
     "end_time": "2023-01-20T09:02:26.431784Z",
     "start_time": "2023-01-20T09:02:26.408406Z"
    }
   },
   "outputs": [
    {
     "data": {
      "text/html": [
       "<div>\n",
       "<style scoped>\n",
       "    .dataframe tbody tr th:only-of-type {\n",
       "        vertical-align: middle;\n",
       "    }\n",
       "\n",
       "    .dataframe tbody tr th {\n",
       "        vertical-align: top;\n",
       "    }\n",
       "\n",
       "    .dataframe thead th {\n",
       "        text-align: right;\n",
       "    }\n",
       "</style>\n",
       "<table border=\"1\" class=\"dataframe\">\n",
       "  <thead>\n",
       "    <tr style=\"text-align: right;\">\n",
       "      <th></th>\n",
       "      <th>Id</th>\n",
       "      <th>Title</th>\n",
       "      <th>FullDescription</th>\n",
       "      <th>LocationRaw</th>\n",
       "      <th>LocationNormalized</th>\n",
       "      <th>ContractType</th>\n",
       "      <th>ContractTime</th>\n",
       "      <th>Company</th>\n",
       "      <th>Category</th>\n",
       "      <th>SalaryRaw</th>\n",
       "      <th>SalaryNormalized</th>\n",
       "      <th>SourceName</th>\n",
       "    </tr>\n",
       "  </thead>\n",
       "  <tbody>\n",
       "    <tr>\n",
       "      <th>0</th>\n",
       "      <td>12612628</td>\n",
       "      <td>Engineering Systems Analyst</td>\n",
       "      <td>Engineering Systems Analyst Dorking Surrey Sal...</td>\n",
       "      <td>Dorking, Surrey, Surrey</td>\n",
       "      <td>Dorking</td>\n",
       "      <td>NaN</td>\n",
       "      <td>permanent</td>\n",
       "      <td>Gregory Martin International</td>\n",
       "      <td>Engineering Jobs</td>\n",
       "      <td>20000 - 30000/annum 20-30K</td>\n",
       "      <td>25000</td>\n",
       "      <td>cv-library.co.uk</td>\n",
       "    </tr>\n",
       "    <tr>\n",
       "      <th>1</th>\n",
       "      <td>12612830</td>\n",
       "      <td>Stress Engineer Glasgow</td>\n",
       "      <td>Stress Engineer Glasgow Salary **** to **** We...</td>\n",
       "      <td>Glasgow, Scotland, Scotland</td>\n",
       "      <td>Glasgow</td>\n",
       "      <td>NaN</td>\n",
       "      <td>permanent</td>\n",
       "      <td>Gregory Martin International</td>\n",
       "      <td>Engineering Jobs</td>\n",
       "      <td>25000 - 35000/annum 25-35K</td>\n",
       "      <td>30000</td>\n",
       "      <td>cv-library.co.uk</td>\n",
       "    </tr>\n",
       "    <tr>\n",
       "      <th>2</th>\n",
       "      <td>12612844</td>\n",
       "      <td>Modelling and simulation analyst</td>\n",
       "      <td>Mathematical Modeller / Simulation Analyst / O...</td>\n",
       "      <td>Hampshire, South East, South East</td>\n",
       "      <td>Hampshire</td>\n",
       "      <td>NaN</td>\n",
       "      <td>permanent</td>\n",
       "      <td>Gregory Martin International</td>\n",
       "      <td>Engineering Jobs</td>\n",
       "      <td>20000 - 40000/annum 20-40K</td>\n",
       "      <td>30000</td>\n",
       "      <td>cv-library.co.uk</td>\n",
       "    </tr>\n",
       "    <tr>\n",
       "      <th>3</th>\n",
       "      <td>12613049</td>\n",
       "      <td>Engineering Systems Analyst / Mathematical Mod...</td>\n",
       "      <td>Engineering Systems Analyst / Mathematical Mod...</td>\n",
       "      <td>Surrey, South East, South East</td>\n",
       "      <td>Surrey</td>\n",
       "      <td>NaN</td>\n",
       "      <td>permanent</td>\n",
       "      <td>Gregory Martin International</td>\n",
       "      <td>Engineering Jobs</td>\n",
       "      <td>25000 - 30000/annum 25K-30K negotiable</td>\n",
       "      <td>27500</td>\n",
       "      <td>cv-library.co.uk</td>\n",
       "    </tr>\n",
       "    <tr>\n",
       "      <th>4</th>\n",
       "      <td>12613647</td>\n",
       "      <td>Pioneer, Miser Engineering Systems Analyst</td>\n",
       "      <td>Pioneer, Miser  Engineering Systems Analyst Do...</td>\n",
       "      <td>Surrey, South East, South East</td>\n",
       "      <td>Surrey</td>\n",
       "      <td>NaN</td>\n",
       "      <td>permanent</td>\n",
       "      <td>Gregory Martin International</td>\n",
       "      <td>Engineering Jobs</td>\n",
       "      <td>20000 - 30000/annum 20-30K</td>\n",
       "      <td>25000</td>\n",
       "      <td>cv-library.co.uk</td>\n",
       "    </tr>\n",
       "  </tbody>\n",
       "</table>\n",
       "</div>"
      ],
      "text/plain": [
       "         Id                                              Title  \\\n",
       "0  12612628                        Engineering Systems Analyst   \n",
       "1  12612830                            Stress Engineer Glasgow   \n",
       "2  12612844                   Modelling and simulation analyst   \n",
       "3  12613049  Engineering Systems Analyst / Mathematical Mod...   \n",
       "4  12613647         Pioneer, Miser Engineering Systems Analyst   \n",
       "\n",
       "                                     FullDescription  \\\n",
       "0  Engineering Systems Analyst Dorking Surrey Sal...   \n",
       "1  Stress Engineer Glasgow Salary **** to **** We...   \n",
       "2  Mathematical Modeller / Simulation Analyst / O...   \n",
       "3  Engineering Systems Analyst / Mathematical Mod...   \n",
       "4  Pioneer, Miser  Engineering Systems Analyst Do...   \n",
       "\n",
       "                         LocationRaw LocationNormalized ContractType  \\\n",
       "0            Dorking, Surrey, Surrey            Dorking          NaN   \n",
       "1        Glasgow, Scotland, Scotland            Glasgow          NaN   \n",
       "2  Hampshire, South East, South East          Hampshire          NaN   \n",
       "3     Surrey, South East, South East             Surrey          NaN   \n",
       "4     Surrey, South East, South East             Surrey          NaN   \n",
       "\n",
       "  ContractTime                       Company          Category  \\\n",
       "0    permanent  Gregory Martin International  Engineering Jobs   \n",
       "1    permanent  Gregory Martin International  Engineering Jobs   \n",
       "2    permanent  Gregory Martin International  Engineering Jobs   \n",
       "3    permanent  Gregory Martin International  Engineering Jobs   \n",
       "4    permanent  Gregory Martin International  Engineering Jobs   \n",
       "\n",
       "                                SalaryRaw  SalaryNormalized        SourceName  \n",
       "0              20000 - 30000/annum 20-30K             25000  cv-library.co.uk  \n",
       "1              25000 - 35000/annum 25-35K             30000  cv-library.co.uk  \n",
       "2              20000 - 40000/annum 20-40K             30000  cv-library.co.uk  \n",
       "3  25000 - 30000/annum 25K-30K negotiable             27500  cv-library.co.uk  \n",
       "4              20000 - 30000/annum 20-30K             25000  cv-library.co.uk  "
      ]
     },
     "execution_count": 6,
     "metadata": {},
     "output_type": "execute_result"
    }
   ],
   "source": [
    "data.head()"
   ]
  },
  {
   "cell_type": "markdown",
   "metadata": {},
   "source": [
    "One problem with salary prediction is that it's oddly distributed: there are many people who are paid standard salaries and a few that get tons o money. The distribution is fat-tailed on the right side, which is inconvenient for MSE minimization.\n",
    "\n",
    "There are several techniques to combat this: using a different loss function, predicting log-target instead of raw target or even replacing targets with their percentiles among all salaries in the training set. We gonna use logarithm for now.\n",
    "\n",
    "_You can read more [in the official description](https://www.kaggle.com/c/job-salary-prediction#description)._"
   ]
  },
  {
   "cell_type": "code",
   "execution_count": 7,
   "metadata": {
    "ExecuteTime": {
     "end_time": "2023-01-20T09:02:26.797779Z",
     "start_time": "2023-01-20T09:02:26.433904Z"
    }
   },
   "outputs": [
    {
     "data": {
      "image/png": "[encoded data removed]",
      "text/plain": [
       "<Figure size 800x400 with 2 Axes>"
      ]
     },
     "metadata": {},
     "output_type": "display_data"
    }
   ],
   "source": [
    "data['Log1pSalary'] = np.log1p(data['SalaryNormalized']).astype('float32')\n",
    "\n",
    "plt.figure(figsize=[8, 4])\n",
    "plt.subplot(1, 2, 1)\n",
    "plt.hist(data[\"SalaryNormalized\"], bins=20);\n",
    "\n",
    "plt.subplot(1, 2, 2)\n",
    "plt.hist(data['Log1pSalary'], bins=20);"
   ]
  },
  {
   "cell_type": "markdown",
   "metadata": {},
   "source": [
    "Our task is to predict one number, __Log1pSalary__.\n",
    "\n",
    "To do so, our model can access a number of features:\n",
    "* Free text: __`Title`__ and  __`FullDescription`__\n",
    "* Categorical: __`Category`__, __`Company`__, __`LocationNormalized`__, __`ContractType`__, and __`ContractTime`__."
   ]
  },
  {
   "cell_type": "code",
   "execution_count": 8,
   "metadata": {
    "ExecuteTime": {
     "end_time": "2023-01-20T09:02:27.291303Z",
     "start_time": "2023-01-20T09:02:26.799320Z"
    }
   },
   "outputs": [
    {
     "data": {
      "text/html": [
       "<div>\n",
       "<style scoped>\n",
       "    .dataframe tbody tr th:only-of-type {\n",
       "        vertical-align: middle;\n",
       "    }\n",
       "\n",
       "    .dataframe tbody tr th {\n",
       "        vertical-align: top;\n",
       "    }\n",
       "\n",
       "    .dataframe thead th {\n",
       "        text-align: right;\n",
       "    }\n",
       "</style>\n",
       "<table border=\"1\" class=\"dataframe\">\n",
       "  <thead>\n",
       "    <tr style=\"text-align: right;\">\n",
       "      <th></th>\n",
       "      <th>Id</th>\n",
       "      <th>Title</th>\n",
       "      <th>FullDescription</th>\n",
       "      <th>LocationRaw</th>\n",
       "      <th>LocationNormalized</th>\n",
       "      <th>ContractType</th>\n",
       "      <th>ContractTime</th>\n",
       "      <th>Company</th>\n",
       "      <th>Category</th>\n",
       "      <th>SalaryRaw</th>\n",
       "      <th>SalaryNormalized</th>\n",
       "      <th>SourceName</th>\n",
       "      <th>Log1pSalary</th>\n",
       "    </tr>\n",
       "  </thead>\n",
       "  <tbody>\n",
       "    <tr>\n",
       "      <th>64693</th>\n",
       "      <td>68708316</td>\n",
       "      <td>Tax Consultant</td>\n",
       "      <td>Tax Consultant  This is a newly created role w...</td>\n",
       "      <td>Birmingham West Midlands (County) West Midlands</td>\n",
       "      <td>UK</td>\n",
       "      <td>NaN</td>\n",
       "      <td>permanent</td>\n",
       "      <td>Michael Page Finance</td>\n",
       "      <td>Accounting &amp; Finance Jobs</td>\n",
       "      <td>20000 to 25000 per annum</td>\n",
       "      <td>22500</td>\n",
       "      <td>totaljobs.com</td>\n",
       "      <td>10.021315</td>\n",
       "    </tr>\n",
       "    <tr>\n",
       "      <th>184207</th>\n",
       "      <td>71643495</td>\n",
       "      <td>Senior Project Manager</td>\n",
       "      <td>The ideal candidate will have a background in ...</td>\n",
       "      <td>Scotland</td>\n",
       "      <td>Scotland</td>\n",
       "      <td>NaN</td>\n",
       "      <td>NaN</td>\n",
       "      <td>Spencer Ogden</td>\n",
       "      <td>Other/General Jobs</td>\n",
       "      <td>50,000-74,999 yearly</td>\n",
       "      <td>62499</td>\n",
       "      <td>theladders.co.uk</td>\n",
       "      <td>11.042922</td>\n",
       "    </tr>\n",
       "    <tr>\n",
       "      <th>121558</th>\n",
       "      <td>69933168</td>\n",
       "      <td>Mechanical Design Engineer</td>\n",
       "      <td>My client a global manufacturer and specialist...</td>\n",
       "      <td>Ipswich, Suffolk</td>\n",
       "      <td>Ipswich</td>\n",
       "      <td>NaN</td>\n",
       "      <td>permanent</td>\n",
       "      <td>White Recruitment Ltd</td>\n",
       "      <td>Manufacturing Jobs</td>\n",
       "      <td>30000 - 40000/annum</td>\n",
       "      <td>35000</td>\n",
       "      <td>cv-library.co.uk</td>\n",
       "      <td>10.463132</td>\n",
       "    </tr>\n",
       "  </tbody>\n",
       "</table>\n",
       "</div>"
      ],
      "text/plain": [
       "              Id                       Title  \\\n",
       "64693   68708316              Tax Consultant   \n",
       "184207  71643495      Senior Project Manager   \n",
       "121558  69933168  Mechanical Design Engineer   \n",
       "\n",
       "                                          FullDescription  \\\n",
       "64693   Tax Consultant  This is a newly created role w...   \n",
       "184207  The ideal candidate will have a background in ...   \n",
       "121558  My client a global manufacturer and specialist...   \n",
       "\n",
       "                                            LocationRaw LocationNormalized  \\\n",
       "64693   Birmingham West Midlands (County) West Midlands                 UK   \n",
       "184207                                         Scotland           Scotland   \n",
       "121558                                 Ipswich, Suffolk            Ipswich   \n",
       "\n",
       "       ContractType ContractTime                Company  \\\n",
       "64693           NaN    permanent   Michael Page Finance   \n",
       "184207          NaN          NaN          Spencer Ogden   \n",
       "121558          NaN    permanent  White Recruitment Ltd   \n",
       "\n",
       "                         Category                 SalaryRaw  SalaryNormalized  \\\n",
       "64693   Accounting & Finance Jobs  20000 to 25000 per annum             22500   \n",
       "184207         Other/General Jobs      50,000-74,999 yearly             62499   \n",
       "121558         Manufacturing Jobs       30000 - 40000/annum             35000   \n",
       "\n",
       "              SourceName  Log1pSalary  \n",
       "64693      totaljobs.com    10.021315  \n",
       "184207  theladders.co.uk    11.042922  \n",
       "121558  cv-library.co.uk    10.463132  "
      ]
     },
     "execution_count": 8,
     "metadata": {},
     "output_type": "execute_result"
    }
   ],
   "source": [
    "text_columns = [\"Title\", \"FullDescription\"]\n",
    "categorical_columns = [\"Category\", \"Company\", \"LocationNormalized\", \"ContractType\", \"ContractTime\"]\n",
    "TARGET_COLUMN = \"Log1pSalary\"\n",
    "\n",
    "data[categorical_columns] = data[categorical_columns].fillna('NaN') # cast missing values to string \"NaN\"\n",
    "\n",
    "data.sample(3)"
   ]
  },
  {
   "cell_type": "markdown",
   "metadata": {},
   "source": [
    "### Preprocessing text data\n",
    "\n",
    "Just like last week, applying NLP to a problem begins from tokenization: splitting raw text into sequences of tokens (words, punctuation, etc).\n",
    "\n",
    "__Your task__ is to lowercase and tokenize all texts under `Title` and `FullDescription` columns. Store the tokenized data as a __space-separated__ string of tokens for performance reasons.\n",
    "\n",
    "It's okay to use nltk tokenizers. Assertions were designed for WordPunctTokenizer, slight deviations are okay."
   ]
  },
  {
   "cell_type": "code",
   "execution_count": 9,
   "metadata": {
    "ExecuteTime": {
     "end_time": "2023-01-20T09:02:27.300567Z",
     "start_time": "2023-01-20T09:02:27.293313Z"
    },
    "scrolled": true
   },
   "outputs": [
    {
     "name": "stdout",
     "output_type": "stream",
     "text": [
      "Raw text:\n",
      "2         Mathematical Modeller / Simulation Analyst / O...\n",
      "100002    A successful and high achieving specialist sch...\n",
      "200002    Web Designer  HTML, CSS, JavaScript, Photoshop...\n",
      "Name: FullDescription, dtype: object\n"
     ]
    }
   ],
   "source": [
    "print(\"Raw text:\")\n",
    "print(data[\"FullDescription\"][2::100000])"
   ]
  },
  {
   "cell_type": "code",
   "execution_count": 10,
   "metadata": {
    "ExecuteTime": {
     "end_time": "2023-01-20T09:03:00.532318Z",
     "start_time": "2023-01-20T09:02:27.303087Z"
    }
   },
   "outputs": [],
   "source": [
    "import nltk\n",
    "#TODO YOUR CODE HERE\n",
    "for i in text_columns:\n",
    "    data[i] = data[i].str.lower()\n",
    "\n",
    "tokenizer = nltk.tokenize.WordPunctTokenizer()\n",
    "# YOUR CODE HERE\n",
    "for i in text_columns:\n",
    "    data[i] = data[i].astype(str).apply(tokenizer.tokenize)"
   ]
  },
  {
   "cell_type": "markdown",
   "metadata": {},
   "source": [
    "Now we can assume that our text is a space-separated list of tokens:"
   ]
  },
  {
   "cell_type": "code",
   "execution_count": 11,
   "metadata": {
    "ExecuteTime": {
     "end_time": "2023-01-20T09:03:00.587839Z",
     "start_time": "2023-01-20T09:03:00.552574Z"
    }
   },
   "outputs": [
    {
     "name": "stdout",
     "output_type": "stream",
     "text": [
      "Tokenized:\n",
      "2         [mathematical, modeller, /, simulation, analys...\n",
      "100002    [a, successful, and, high, achieving, speciali...\n",
      "200002    [web, designer, html, ,, css, ,, javascript, ,...\n",
      "Name: FullDescription, dtype: object\n"
     ]
    }
   ],
   "source": [
    "print(\"Tokenized:\")\n",
    "print(data[\"FullDescription\"][2::100000])\n",
    "assert ' '.join( data[\"FullDescription\"][2] )[:50] == 'mathematical modeller / simulation analyst / opera'\n",
    "assert ' '.join( data[\"Title\"][54321] ) == 'international digital account manager ( german )'"
   ]
  },
  {
   "cell_type": "markdown",
   "metadata": {},
   "source": [
    "Not all words are equally useful. Some of them are typos or rare words that are only present a few times. \n",
    "\n",
    "Let's count how many times is each word present in the data so that we can build a \"white list\" of known words."
   ]
  },
  {
   "cell_type": "code",
   "execution_count": 12,
   "metadata": {
    "ExecuteTime": {
     "end_time": "2023-01-20T09:03:41.954232Z",
     "start_time": "2023-01-20T09:03:00.599598Z"
    },
    "code_folding": []
   },
   "outputs": [],
   "source": [
    "from collections import Counter\n",
    "\n",
    "# Count how many times does each token occur in both \"Title\" and \"FullDescription\" in total\n",
    "#TODO <YOUR CODE>\n",
    "import itertools\n",
    "word_list_1 = data[\"Title\"].tolist()\n",
    "word_list_1 = list(itertools.chain(*word_list_1))\n",
    "\n",
    "word_list_2 = data[\"FullDescription\"].tolist()\n",
    "word_list_2 = list(itertools.chain(*word_list_2))\n",
    "\n",
    "word_list_1.extend(word_list_2)\n",
    "token_counts = Counter(word_list_1)"
   ]
  },
  {
   "cell_type": "code",
   "execution_count": 13,
   "metadata": {
    "ExecuteTime": {
     "end_time": "2023-01-20T09:04:26.753190Z",
     "start_time": "2023-01-20T09:03:41.988671Z"
    }
   },
   "outputs": [
    {
     "name": "stdout",
     "output_type": "stream",
     "text": [
      "Total unique tokens : 202704\n",
      "('and', 2657388)\n",
      "('.', 2523216)\n",
      "(',', 2318606)\n",
      "('the', 2080994)\n",
      "('to', 2019884)\n",
      "...\n",
      "('stephanietraveltraderecruitmnt', 1)\n",
      "('ruabon', 1)\n",
      "('lowehays', 1)\n",
      "Correct!\n"
     ]
    }
   ],
   "source": [
    "print(\"Total unique tokens :\", len(token_counts))\n",
    "print('\\n'.join(map(str, token_counts.most_common(n=5))))\n",
    "print('...')\n",
    "print('\\n'.join(map(str, token_counts.most_common()[-3:])))\n",
    "\n",
    "assert token_counts.most_common(1)[0][1] in  range(2600000, 2700000)\n",
    "assert len(token_counts) in range(200000, 210000)\n",
    "print('Correct!')"
   ]
  },
  {
   "cell_type": "code",
   "execution_count": 14,
   "metadata": {
    "ExecuteTime": {
     "end_time": "2023-01-20T09:05:30.860788Z",
     "start_time": "2023-01-20T09:04:26.764345Z"
    }
   },
   "outputs": [
    {
     "data": {
      "image/png": "[encoded data removed]",
      "text/plain": [
       "<Figure size 640x480 with 1 Axes>"
      ]
     },
     "metadata": {},
     "output_type": "display_data"
    }
   ],
   "source": [
    "# Let's see how many words are there for each count\n",
    "plt.hist(list(token_counts.values()), range=[0, 10**4], bins=50, log=True)\n",
    "plt.xlabel(\"Word counts\");"
   ]
  },
  {
   "cell_type": "markdown",
   "metadata": {},
   "source": [
    "__Task 1.1__ Get a list of all tokens that occur at least 10 times."
   ]
  },
  {
   "cell_type": "code",
   "execution_count": 15,
   "metadata": {
    "ExecuteTime": {
     "end_time": "2023-01-20T09:05:31.134204Z",
     "start_time": "2023-01-20T09:05:30.866755Z"
    }
   },
   "outputs": [],
   "source": [
    "min_count = 10\n",
    "\n",
    "# tokens from token_counts keys that had at least min_count occurrences throughout the dataset\n",
    "tokens = sorted(t for t, c in token_counts.items() if c >= min_count)#TODO<YOUR CODE HERE>\n",
    "\n",
    "# Add a special tokens for unknown and empty words\n",
    "UNK, PAD = \"UNK\", \"PAD\"\n",
    "tokens = [UNK, PAD] + tokens"
   ]
  },
  {
   "cell_type": "code",
   "execution_count": 16,
   "metadata": {
    "ExecuteTime": {
     "end_time": "2023-01-20T09:05:31.149050Z",
     "start_time": "2023-01-20T09:05:31.136516Z"
    }
   },
   "outputs": [
    {
     "name": "stdout",
     "output_type": "stream",
     "text": [
      "Vocabulary size: 34158\n",
      "Correct!\n"
     ]
    }
   ],
   "source": [
    "print(\"Vocabulary size:\", len(tokens))\n",
    "assert type(tokens) == list\n",
    "assert len(tokens) in range(32000, 35000)\n",
    "assert 'me' in tokens\n",
    "assert UNK in tokens\n",
    "print(\"Correct!\")"
   ]
  },
  {
   "cell_type": "markdown",
   "metadata": {},
   "source": [
    "__Task 1.2__ Build an inverse token index: a dictionary from token(string) to it's index in `tokens` (int)"
   ]
  },
  {
   "cell_type": "code",
   "execution_count": 17,
   "metadata": {
    "ExecuteTime": {
     "end_time": "2023-01-20T09:05:52.378764Z",
     "start_time": "2023-01-20T09:05:31.152234Z"
    }
   },
   "outputs": [],
   "source": [
    "token_to_id = {i: tokens.index(i) for i in tokens} #<your code here - dict of token name to its index in tokens>"
   ]
  },
  {
   "cell_type": "code",
   "execution_count": 18,
   "metadata": {
    "ExecuteTime": {
     "end_time": "2023-01-20T09:05:52.397560Z",
     "start_time": "2023-01-20T09:05:52.381238Z"
    }
   },
   "outputs": [
    {
     "name": "stdout",
     "output_type": "stream",
     "text": [
      "Correct!\n"
     ]
    }
   ],
   "source": [
    "assert isinstance(token_to_id, dict)\n",
    "assert len(token_to_id) == len(tokens)\n",
    "for tok in tokens:\n",
    "    assert tokens[token_to_id[tok]] == tok\n",
    "\n",
    "print(\"Correct!\")"
   ]
  },
  {
   "cell_type": "markdown",
   "metadata": {},
   "source": [
    "And finally, let's use the vocabulary you've built to map text lines into neural network-digestible matrices."
   ]
  },
  {
   "cell_type": "code",
   "execution_count": 19,
   "metadata": {
    "ExecuteTime": {
     "end_time": "2023-01-20T09:05:52.411958Z",
     "start_time": "2023-01-20T09:05:52.400628Z"
    },
    "code_folding": []
   },
   "outputs": [],
   "source": [
    "# получение индексов для управляющих токенов\n",
    "UNK_IX, PAD_IX = map(token_to_id.get, [UNK, PAD])\n",
    "\n",
    "def as_matrix(sequences, max_len=10): #max_len=None):\n",
    "    \"\"\" Convert a list of tokens into a matrix with padding \"\"\"\n",
    "    # если предложения не побиты на токены, сделаем это прямолинейно - разобьем посимвольно\n",
    "    if isinstance(sequences[0], str):\n",
    "        sequences = list(map(str.split, sequences))\n",
    "        \n",
    "    # максимальная длина предложений\n",
    "    #max_len = min(max(map(len, sequences)), max_len or float('inf')) #- НУЖНА ЕДИНАЯ РАЗМЕРНОСТЬ\n",
    "    \n",
    "    # матрица размерности n x max_len\n",
    "    matrix = np.full((len(sequences), max_len), np.int32(PAD_IX))\n",
    "    for i,seq in enumerate(sequences):\n",
    "        # если встречается незнакомый токен, то ставин индекс токена [UNK]\n",
    "        row_ix = [token_to_id.get(word, UNK_IX) for word in seq[:max_len]]\n",
    "        # замена соответсвующих строк в ранее созданной матрице нулей\n",
    "        matrix[i, :len(row_ix)] = row_ix\n",
    "    \n",
    "    return matrix"
   ]
  },
  {
   "cell_type": "code",
   "execution_count": 20,
   "metadata": {
    "ExecuteTime": {
     "end_time": "2023-01-20T09:05:52.425536Z",
     "start_time": "2023-01-20T09:05:52.414041Z"
    }
   },
   "outputs": [
    {
     "name": "stdout",
     "output_type": "stream",
     "text": [
      "Lines:\n",
      "[list(['engineering', 'systems', 'analyst']) list(['hr', 'assistant'])\n",
      " list(['senior', 'ec', '&', 'i', 'engineer'])]\n",
      "\n",
      "Matrix:\n",
      "[[10807 30161  2166     1     1     1     1     1     1     1]\n",
      " [15020  2844     1     1     1     1     1     1     1     1]\n",
      " [27645 10201    16 15215 10804     1     1     1     1     1]]\n"
     ]
    }
   ],
   "source": [
    "print(\"Lines:\")\n",
    "print(data[\"Title\"][::100000].values, end='\\n\\n')\n",
    "print(\"Matrix:\")\n",
    "print(as_matrix(data[\"Title\"][::100000]))"
   ]
  },
  {
   "cell_type": "code",
   "execution_count": 21,
   "metadata": {
    "ExecuteTime": {
     "end_time": "2023-01-20T09:05:52.438385Z",
     "start_time": "2023-01-20T09:05:52.427824Z"
    }
   },
   "outputs": [
    {
     "data": {
      "text/plain": [
       "array([list(['engineering', 'systems', 'analyst']),\n",
       "       list(['hr', 'assistant']),\n",
       "       list(['senior', 'ec', '&', 'i', 'engineer'])], dtype=object)"
      ]
     },
     "execution_count": 21,
     "metadata": {},
     "output_type": "execute_result"
    }
   ],
   "source": [
    "data[\"Title\"][::100000].values"
   ]
  },
  {
   "cell_type": "markdown",
   "metadata": {},
   "source": [
    "Now let's  encode the categirical data we have.\n",
    "\n",
    "As usual, we shall use one-hot encoding for simplicity. Kudos if you implement more advanced encodings: tf-idf, pseudo-time-series, etc."
   ]
  },
  {
   "cell_type": "code",
   "execution_count": 22,
   "metadata": {
    "ExecuteTime": {
     "end_time": "2023-01-20T09:05:57.966428Z",
     "start_time": "2023-01-20T09:05:52.442283Z"
    }
   },
   "outputs": [
    {
     "data": {
      "text/html": [
       "<style>#sk-container-id-1 {color: black;background-color: white;}#sk-container-id-1 pre{padding: 0;}#sk-container-id-1 div.sk-toggleable {background-color: white;}#sk-container-id-1 label.sk-toggleable__label {cursor: pointer;display: block;width: 100%;margin-bottom: 0;padding: 0.3em;box-sizing: border-box;text-align: center;}#sk-container-id-1 label.sk-toggleable__label-arrow:before {content: \"▸\";float: left;margin-right: 0.25em;color: #696969;}#sk-container-id-1 label.sk-toggleable__label-arrow:hover:before {color: black;}#sk-container-id-1 div.sk-estimator:hover label.sk-toggleable__label-arrow:before {color: black;}#sk-container-id-1 div.sk-toggleable__content {max-height: 0;max-width: 0;overflow: hidden;text-align: left;background-color: #f0f8ff;}#sk-container-id-1 div.sk-toggleable__content pre {margin: 0.2em;color: black;border-radius: 0.25em;background-color: #f0f8ff;}#sk-container-id-1 input.sk-toggleable__control:checked~div.sk-toggleable__content {max-height: 200px;max-width: 100%;overflow: auto;}#sk-container-id-1 input.sk-toggleable__control:checked~label.sk-toggleable__label-arrow:before {content: \"▾\";}#sk-container-id-1 div.sk-estimator input.sk-toggleable__control:checked~label.sk-toggleable__label {background-color: #d4ebff;}#sk-container-id-1 div.sk-label input.sk-toggleable__control:checked~label.sk-toggleable__label {background-color: #d4ebff;}#sk-container-id-1 input.sk-hidden--visually {border: 0;clip: rect(1px 1px 1px 1px);clip: rect(1px, 1px, 1px, 1px);height: 1px;margin: -1px;overflow: hidden;padding: 0;position: absolute;width: 1px;}#sk-container-id-1 div.sk-estimator {font-family: monospace;background-color: #f0f8ff;border: 1px dotted black;border-radius: 0.25em;box-sizing: border-box;margin-bottom: 0.5em;}#sk-container-id-1 div.sk-estimator:hover {background-color: #d4ebff;}#sk-container-id-1 div.sk-parallel-item::after {content: \"\";width: 100%;border-bottom: 1px solid gray;flex-grow: 1;}#sk-container-id-1 div.sk-label:hover label.sk-toggleable__label {background-color: #d4ebff;}#sk-container-id-1 div.sk-serial::before {content: \"\";position: absolute;border-left: 1px solid gray;box-sizing: border-box;top: 0;bottom: 0;left: 50%;z-index: 0;}#sk-container-id-1 div.sk-serial {display: flex;flex-direction: column;align-items: center;background-color: white;padding-right: 0.2em;padding-left: 0.2em;position: relative;}#sk-container-id-1 div.sk-item {position: relative;z-index: 1;}#sk-container-id-1 div.sk-parallel {display: flex;align-items: stretch;justify-content: center;background-color: white;position: relative;}#sk-container-id-1 div.sk-item::before, #sk-container-id-1 div.sk-parallel-item::before {content: \"\";position: absolute;border-left: 1px solid gray;box-sizing: border-box;top: 0;bottom: 0;left: 50%;z-index: -1;}#sk-container-id-1 div.sk-parallel-item {display: flex;flex-direction: column;z-index: 1;position: relative;background-color: white;}#sk-container-id-1 div.sk-parallel-item:first-child::after {align-self: flex-end;width: 50%;}#sk-container-id-1 div.sk-parallel-item:last-child::after {align-self: flex-start;width: 50%;}#sk-container-id-1 div.sk-parallel-item:only-child::after {width: 0;}#sk-container-id-1 div.sk-dashed-wrapped {border: 1px dashed gray;margin: 0 0.4em 0.5em 0.4em;box-sizing: border-box;padding-bottom: 0.4em;background-color: white;}#sk-container-id-1 div.sk-label label {font-family: monospace;font-weight: bold;display: inline-block;line-height: 1.2em;}#sk-container-id-1 div.sk-label-container {text-align: center;}#sk-container-id-1 div.sk-container {/* jupyter's `normalize.less` sets `[hidden] { display: none; }` but bootstrap.min.css set `[hidden] { display: none !important; }` so we also need the `!important` here to be able to override the default hidden behavior on the sphinx rendered scikit-learn.org. See: https://github.com/scikit-learn/scikit-learn/issues/21755 */display: inline-block !important;position: relative;}#sk-container-id-1 div.sk-text-repr-fallback {display: none;}</style><div id=\"sk-container-id-1\" class=\"sk-top-container\"><div class=\"sk-text-repr-fallback\"><pre>DictVectorizer(dtype=&lt;class &#x27;numpy.float32&#x27;&gt;, sparse=False)</pre><b>In a Jupyter environment, please rerun this cell to show the HTML representation or trust the notebook. <br />On GitHub, the HTML representation is unable to render, please try loading this page with nbviewer.org.</b></div><div class=\"sk-container\" hidden><div class=\"sk-item\"><div class=\"sk-estimator sk-toggleable\"><input class=\"sk-toggleable__control sk-hidden--visually\" id=\"sk-estimator-id-1\" type=\"checkbox\" checked><label for=\"sk-estimator-id-1\" class=\"sk-toggleable__label sk-toggleable__label-arrow\">DictVectorizer</label><div class=\"sk-toggleable__content\"><pre>DictVectorizer(dtype=&lt;class &#x27;numpy.float32&#x27;&gt;, sparse=False)</pre></div></div></div></div></div>"
      ],
      "text/plain": [
       "DictVectorizer(dtype=<class 'numpy.float32'>, sparse=False)"
      ]
     },
     "execution_count": 22,
     "metadata": {},
     "output_type": "execute_result"
    }
   ],
   "source": [
    "from sklearn.feature_extraction import DictVectorizer\n",
    "\n",
    "# we only consider top-1k most frequent companies to minimize memory usage\n",
    "top_companies, top_counts = zip(*Counter(data['Company']).most_common(1000))\n",
    "recognized_companies = set(top_companies)\n",
    "data[\"Company\"] = data[\"Company\"].apply(lambda comp: comp if comp in recognized_companies else \"Other\")\n",
    "\n",
    "categorical_vectorizer = DictVectorizer(dtype=np.float32, sparse=False)\n",
    "categorical_vectorizer.fit(data[categorical_columns].apply(dict, axis=1))"
   ]
  },
  {
   "cell_type": "markdown",
   "metadata": {},
   "source": [
    "### The deep learning part\n",
    "\n",
    "Once we've learned to tokenize the data, let's design a machine learning experiment.\n",
    "\n",
    "As before, we won't focus too much on validation, opting for a simple train-test split.\n",
    "\n",
    "__To be completely rigorous,__ we've comitted a small crime here: we used the whole data for tokenization and vocabulary building. A more strict way would be to do that part on training set only. You may want to do that and measure the magnitude of changes."
   ]
  },
  {
   "cell_type": "code",
   "execution_count": 23,
   "metadata": {
    "ExecuteTime": {
     "end_time": "2023-01-20T09:05:58.120549Z",
     "start_time": "2023-01-20T09:05:57.972136Z"
    }
   },
   "outputs": [
    {
     "name": "stdout",
     "output_type": "stream",
     "text": [
      "Train size =  195814\n",
      "Validation size =  48954\n"
     ]
    }
   ],
   "source": [
    "from sklearn.model_selection import train_test_split\n",
    "\n",
    "data_train, data_val = train_test_split(data, test_size=0.2, random_state=42)\n",
    "data_train.index = range(len(data_train))\n",
    "data_val.index = range(len(data_val))\n",
    "\n",
    "print(\"Train size = \", len(data_train))\n",
    "print(\"Validation size = \", len(data_val))"
   ]
  },
  {
   "cell_type": "code",
   "execution_count": 24,
   "metadata": {
    "ExecuteTime": {
     "end_time": "2023-01-20T09:06:00.616460Z",
     "start_time": "2023-01-20T09:05:58.122102Z"
    }
   },
   "outputs": [
    {
     "name": "stderr",
     "output_type": "stream",
     "text": [
      "/Users/16971921/.conda/envs/py38_venv/lib/python3.8/site-packages/tqdm/auto.py:22: TqdmWarning: IProgress not found. Please update jupyter and ipywidgets. See https://ipywidgets.readthedocs.io/en/stable/user_install.html\n",
      "  from .autonotebook import tqdm as notebook_tqdm\n"
     ]
    }
   ],
   "source": [
    "import torch\n",
    "import torch.nn as nn\n",
    "import torch.functional as F\n",
    "\n",
    "from torchsummary import summary # + liba\n",
    "\n",
    "\n",
    "device = 'cuda' if torch.cuda.is_available() else 'cpu'\n",
    "\n",
    "\n",
    "def to_tensors(batch, device):\n",
    "    batch_tensors = dict()\n",
    "    for key, arr in batch.items():\n",
    "        if key in [\"FullDescription\", \"Title\"]:\n",
    "            batch_tensors[key] = torch.tensor(arr, device=device, dtype=torch.int64)\n",
    "        else:\n",
    "            batch_tensors[key] = torch.tensor(arr, device=device)\n",
    "    return batch_tensors\n",
    "\n",
    "\n",
    "def make_batch(data, max_len=None, word_dropout=0, device=device):\n",
    "    \"\"\"\n",
    "    Creates a keras-friendly dict from the batch data.\n",
    "    :param word_dropout: replaces token index with UNK_IX with this probability\n",
    "    :returns: a dict with {'title' : int64[batch, title_max_len]\n",
    "    \"\"\"\n",
    "    batch = {}\n",
    "    batch[\"Title\"] = as_matrix(data[\"Title\"].values, max_len)\n",
    "    batch[\"FullDescription\"] = as_matrix(data[\"FullDescription\"].values, max_len)\n",
    "    batch['Categorical'] = categorical_vectorizer.transform(data[categorical_columns].apply(dict, axis=1))\n",
    "    \n",
    "    if word_dropout != 0:\n",
    "        batch[\"FullDescription\"] = apply_word_dropout(batch[\"FullDescription\"], 1. - word_dropout)\n",
    "    \n",
    "    if TARGET_COLUMN in data.columns:\n",
    "        batch[TARGET_COLUMN] = data[TARGET_COLUMN].values\n",
    "    \n",
    "    return to_tensors(batch, device)\n",
    "\n",
    "def apply_word_dropout(matrix, keep_prop, replace_with=UNK_IX, pad_ix=PAD_IX,):\n",
    "    # бинарная матрица, отвечающая за взятие (0) или исключение (1) элементов\n",
    "    dropout_mask = np.random.choice(2, np.shape(matrix), p=[keep_prop, 1 - keep_prop])\n",
    "    # корректируем бинарную матрицу, если токен [PAD] (пустое слово), то ставим 0\n",
    "    dropout_mask &= matrix != pad_ix\n",
    "    # dropout_mask: 0 - берется элемент из левой матрицы, 1 - из правой\n",
    "    return np.choose(dropout_mask, [matrix, np.full_like(matrix, replace_with)])"
   ]
  },
  {
   "cell_type": "code",
   "execution_count": 25,
   "metadata": {
    "ExecuteTime": {
     "end_time": "2023-01-20T09:06:00.647828Z",
     "start_time": "2023-01-20T09:06:00.618963Z"
    },
    "scrolled": true
   },
   "outputs": [
    {
     "data": {
      "text/plain": [
       "{'Title': tensor([[27645, 29893, 33674,     1,     1,     1,     1,     1,     1,     1],\n",
       "         [29239,   197, 19175, 20042, 15554, 23162,  4051,     1,     1,     1],\n",
       "         [10609, 30412, 17746,    33,  8705, 29157,    65,     1,     1,     1]]),\n",
       " 'FullDescription': tensor([[27645, 29893, 33674, 32939,   982, 27645, 29893, 33674, 16451, 32939],\n",
       "         [29239,   197, 19175, 20042, 15554, 23162,  4051, 25511,   907,    82],\n",
       "         [30746, 21956, 20601,  6409, 16451,  8165, 27493,   982, 30412, 17746]]),\n",
       " 'Categorical': tensor([[0., 0., 0.,  ..., 0., 0., 0.],\n",
       "         [0., 0., 0.,  ..., 0., 0., 0.],\n",
       "         [0., 0., 0.,  ..., 0., 0., 0.]]),\n",
       " 'Log1pSalary': tensor([ 9.7115, 10.4631, 10.7144])}"
      ]
     },
     "execution_count": 25,
     "metadata": {},
     "output_type": "execute_result"
    }
   ],
   "source": [
    "make_batch(data_train[:3], max_len=10)"
   ]
  },
  {
   "cell_type": "markdown",
   "metadata": {},
   "source": [
    "#### Architecture\n",
    "\n",
    "Our basic model consists of three branches:\n",
    "* Title encoder\n",
    "* Description encoder\n",
    "* Categorical features encoder\n",
    "\n",
    "We will then feed all 3 branches into one common network that predicts salary.\n",
    "\n",
    "![scheme](https://github.com/yandexdataschool/nlp_course/raw/master/resources/w2_conv_arch.png)"
   ]
  },
  {
   "cell_type": "markdown",
   "metadata": {},
   "source": [
    "This clearly doesn't fit into keras' __Sequential__ interface. To build such a network, one will have to use PyTorch."
   ]
  },
  {
   "cell_type": "code",
   "execution_count": 26,
   "metadata": {
    "ExecuteTime": {
     "end_time": "2023-01-20T09:06:00.781667Z",
     "start_time": "2023-01-20T09:06:00.652046Z"
    }
   },
   "outputs": [],
   "source": [
    "class SalaryPredictor(nn.Module):\n",
    "    # конструктор класса\n",
    "    def __init__(self, n_tokens=len(tokens), n_cat_features=len(categorical_vectorizer.vocabulary_), hid_size=64):\n",
    "        # создание сетки по канонам созданного класса\n",
    "        super().__init__()\n",
    "        \n",
    "        # YOUR CODE HERE\n",
    "        \n",
    "        self.embedding = nn.Embedding(num_embeddings=n_tokens, embedding_dim=256)\n",
    "        self.conv_t = nn.Conv1d(898, hid_size, kernel_size=7, padding=\"same\")\n",
    "        self.pooling = nn.MaxPool1d(4)\n",
    "        #-----------------------------------------\n",
    "        self.conv_d = nn.Conv1d(898, hid_size, kernel_size=7, padding=\"same\")\n",
    "        #-----------------------------------------\n",
    "        self.fc1 = nn.Linear(n_cat_features, hid_size)\n",
    "        self.ac1 = nn.Sigmoid()\n",
    "        #-----------------------------------------\n",
    "        self.fc2 = nn.Linear(hid_size, 1 )\n",
    "        self.fc3 = nn.Linear(192, 1 )\n",
    "        self.relu = nn.ReLU()\n",
    "        \n",
    "    def forward(self, batch):\n",
    "        # YOUR CODE HERE\n",
    "        \n",
    "        \n",
    "        x_tit = batch['Title']\n",
    "        print('base ',x_tit.size())\n",
    "        x_tit = self.embedding(x_tit)\n",
    "        print('embe ',x_tit.size())\n",
    "        x_tit = self.conv_t(x_tit)\n",
    "        print('conv ',x_tit.size())\n",
    "        x_tit = self.pooling(x_tit)\n",
    "        print('pool ',x_tit.size(), '\\n\\n')\n",
    "        #-----------------------------------------\n",
    "        x_des = batch['FullDescription']\n",
    "        print('base ',x_tit.size())\n",
    "        x_des = self.embedding(x_des)\n",
    "        print('embe ',x_tit.size())\n",
    "        x_des = self.conv_d(x_des)\n",
    "        print('conv ',x_tit.size())\n",
    "        x_des = self.pooling(x_des)\n",
    "        print('pool ',x_tit.size(), '\\n\\n')\n",
    "        #-----------------------------------------\n",
    "        x_cat = batch['Categorical']\n",
    "        print('base ',x_cat.size())\n",
    "        x_cat = self.fc1(x_cat)\n",
    "        print('lien ',x_cat.size())\n",
    "        x_cat = self.ac1(x_cat)\n",
    "        print('act ',x_cat.size(), '\\n\\n')\n",
    "        #-----------------------------------------\n",
    "        x_cat = x_cat.unsqueeze(2).expand(-1, -1, 64)\n",
    "        print('unsq ',x_cat.size())\n",
    "        \n",
    "        x = torch.cat((x_tit, x_des, x_cat), dim=1)\n",
    "        print('conc ',x.size(), '\\n\\n')\n",
    "        \n",
    "        \n",
    "        x = self.fc2(x)\n",
    "        print('fc2 ', x.size())\n",
    "        x.squeeze_()\n",
    "        print('sqe ', x.size())\n",
    "        \n",
    "        x = self.fc3(x)\n",
    "        print('fc3 ', x.size())\n",
    "        x.squeeze_()\n",
    "        print('sqe ', x.size())\n",
    "        \n",
    "        x = self.relu(x)\n",
    "        print('relu ', x.size())\n",
    "        \n",
    "        return x\n",
    "        "
   ]
  },
  {
   "cell_type": "code",
   "execution_count": 27,
   "metadata": {
    "ExecuteTime": {
     "end_time": "2023-01-20T09:06:01.711162Z",
     "start_time": "2023-01-20T09:06:00.783572Z"
    },
    "scrolled": false
   },
   "outputs": [
    {
     "name": "stdout",
     "output_type": "stream",
     "text": [
      "base  torch.Size([100, 898])\n",
      "embe  torch.Size([100, 898, 256])\n",
      "conv  torch.Size([100, 64, 256])\n",
      "pool  torch.Size([100, 64, 64]) \n",
      "\n",
      "\n",
      "base  torch.Size([100, 898])\n",
      "embe  torch.Size([100, 898, 256])\n",
      "conv  torch.Size([100, 64, 256])\n",
      "pool  torch.Size([100, 64, 64]) \n",
      "\n",
      "\n",
      "base  torch.Size([100, 3768])\n",
      "lien  torch.Size([100, 64])\n",
      "act  torch.Size([100, 64]) \n",
      "\n",
      "\n",
      "unsq  torch.Size([100, 64, 64])\n",
      "conc  torch.Size([100, 192, 64]) \n",
      "\n",
      "\n",
      "fc2  torch.Size([100, 192, 1])\n",
      "sqe  torch.Size([100, 192])\n",
      "fc3  torch.Size([100, 1])\n",
      "sqe  torch.Size([100])\n",
      "relu  torch.Size([100])\n"
     ]
    }
   ],
   "source": [
    "model = SalaryPredictor()\n",
    "batch = make_batch(data_train[:100], max_len=898)\n",
    "criterion = nn.MSELoss()\n",
    "\n",
    "dummy_pred = model(batch)\n",
    "dummy_loss = criterion(dummy_pred, batch[TARGET_COLUMN])"
   ]
  },
  {
   "cell_type": "code",
   "execution_count": 56,
   "metadata": {
    "ExecuteTime": {
     "end_time": "2023-01-20T10:37:36.542843Z",
     "start_time": "2023-01-20T10:37:36.531080Z"
    }
   },
   "outputs": [],
   "source": [
    "class SalaryPredictor(nn.Module):\n",
    "    # конструктор класса\n",
    "    def __init__(self, n_tokens=len(tokens), n_cat_features=len(categorical_vectorizer.vocabulary_), hid_size=64):\n",
    "        # создание сетки по канонам созданного класса\n",
    "        super().__init__()\n",
    "        \n",
    "        # YOUR CODE HERE\n",
    "        \n",
    "        self.embedding = nn.Embedding(num_embeddings=n_tokens, embedding_dim=256)\n",
    "        self.conv_t = nn.Conv1d(898, hid_size, kernel_size=7, padding=\"same\")\n",
    "        self.pooling = nn.MaxPool1d(4)\n",
    "        #-----------------------------------------\n",
    "        self.conv_d = nn.Conv1d(898, hid_size, kernel_size=7, padding=\"same\")\n",
    "        #-----------------------------------------\n",
    "        self.fc1 = nn.Linear(n_cat_features, hid_size)\n",
    "        self.ac1 = nn.Sigmoid()\n",
    "        #-----------------------------------------\n",
    "        self.fc2 = nn.Linear(hid_size, 1 )\n",
    "        self.fc3 = nn.Linear(192, 1 )\n",
    "        self.relu = nn.ReLU()\n",
    "        \n",
    "    def forward(self, batch):\n",
    "        # YOUR CODE HERE\n",
    "        \n",
    "        x_tit = batch['Title']\n",
    "        x_tit = self.embedding(x_tit)\n",
    "        x_tit = self.conv_t(x_tit)\n",
    "        x_tit = self.pooling(x_tit)\n",
    "        #-----------------------------------------\n",
    "        x_des = batch['FullDescription']\n",
    "        x_des = self.embedding(x_des)\n",
    "        x_des = self.conv_d(x_des)\n",
    "        x_des = self.pooling(x_des)\n",
    "        #-----------------------------------------\n",
    "        x_cat = batch['Categorical']\n",
    "        x_cat = self.fc1(x_cat)\n",
    "        x_cat = self.ac1(x_cat)\n",
    "        #-----------------------------------------\n",
    "        x_cat = x_cat.unsqueeze(2).expand(-1, -1, 64)\n",
    "        x = torch.cat((x_tit, x_des, x_cat), dim=1)\n",
    "\n",
    "        x = self.fc2(x)\n",
    "        x.squeeze_()\n",
    "        \n",
    "        x = self.fc3(x)\n",
    "        x.squeeze_()\n",
    "        x = self.relu(x)\n",
    "        \n",
    "        return x      "
   ]
  },
  {
   "cell_type": "code",
   "execution_count": 57,
   "metadata": {
    "ExecuteTime": {
     "end_time": "2023-01-20T10:37:37.066298Z",
     "start_time": "2023-01-20T10:37:37.060283Z"
    }
   },
   "outputs": [],
   "source": [
    "# self.title = nn.Sequential(\n",
    "#             nn.Conv1d(100,1,7),\n",
    "#             nn.MaxPool2d(2),\n",
    "#             nn.ReLU()\n",
    "#         )"
   ]
  },
  {
   "cell_type": "code",
   "execution_count": 58,
   "metadata": {
    "ExecuteTime": {
     "end_time": "2023-01-20T10:37:38.106075Z",
     "start_time": "2023-01-20T10:37:37.313285Z"
    },
    "scrolled": false
   },
   "outputs": [],
   "source": [
    "model = SalaryPredictor()\n",
    "batch = make_batch(data_train[:100], max_len=898)\n",
    "criterion = nn.MSELoss()\n",
    "\n",
    "dummy_pred = model(batch)\n",
    "dummy_loss = criterion(dummy_pred, batch[TARGET_COLUMN])\n",
    "\n",
    "assert dummy_pred.shape == torch.Size([100])\n",
    "assert len(torch.unique(dummy_pred)) > 20, \"model returns suspiciously few unique outputs. Check your initialization\"\n",
    "assert dummy_loss.ndim == 0 and 0. <= dummy_loss <= 250., \"make sure you minimize MSE\""
   ]
  },
  {
   "cell_type": "markdown",
   "metadata": {},
   "source": [
    "#### Training and evaluation\n",
    "\n",
    "As usual, we gonna feed our monster with random minibatches of data. \n",
    "\n",
    "As we train, we want to monitor not only loss function, which is computed in log-space, but also the actual error measured in dollars."
   ]
  },
  {
   "cell_type": "code",
   "execution_count": 29,
   "metadata": {
    "ExecuteTime": {
     "end_time": "2023-01-19T06:42:54.826218Z",
     "start_time": "2023-01-19T06:42:54.819914Z"
    }
   },
   "outputs": [],
   "source": [
    "def iterate_minibatches(data, batch_size=256, shuffle=True, cycle=False, device=device, **kwargs):\n",
    "    \"\"\" iterates minibatches of data in random order \"\"\"\n",
    "    while True:\n",
    "        indices = np.arange(len(data))\n",
    "        if shuffle:\n",
    "            indices = np.random.permutation(indices)\n",
    "\n",
    "        for start in range(0, len(indices), batch_size):\n",
    "            batch = make_batch(data.iloc[indices[start : start + batch_size]], device=device, max_len=898, **kwargs)\n",
    "            yield batch\n",
    "        \n",
    "        if not cycle: break"
   ]
  },
  {
   "cell_type": "markdown",
   "metadata": {},
   "source": [
    "### Model training\n",
    "\n",
    "We can now fit our model the usual minibatch way. The interesting part is that we train on an infinite stream of minibatches, produced by `iterate_minibatches` function."
   ]
  },
  {
   "cell_type": "code",
   "execution_count": 30,
   "metadata": {
    "ExecuteTime": {
     "end_time": "2023-01-19T06:42:54.832852Z",
     "start_time": "2023-01-19T06:42:54.829426Z"
    }
   },
   "outputs": [],
   "source": [
    "from tqdm.auto import tqdm\n",
    "\n",
    "BATCH_SIZE = 16\n",
    "EPOCHS = 5"
   ]
  },
  {
   "cell_type": "code",
   "execution_count": 31,
   "metadata": {
    "ExecuteTime": {
     "end_time": "2023-01-19T06:42:54.842335Z",
     "start_time": "2023-01-19T06:42:54.834938Z"
    }
   },
   "outputs": [],
   "source": [
    "def print_metrics(model, data, batch_size=BATCH_SIZE, name=\"\", device=torch.device('cpu'), **kw):\n",
    "    squared_error = abs_error = num_samples = 0.0\n",
    "    model.eval()\n",
    "    with torch.no_grad():\n",
    "        for batch in iterate_minibatches(data, batch_size=batch_size, shuffle=False, device=device, **kw):\n",
    "            print('-')\n",
    "            batch_pred = model(batch)\n",
    "            squared_error += torch.sum(torch.square(batch_pred - batch[TARGET_COLUMN]))\n",
    "            abs_error += torch.sum(torch.abs(batch_pred - batch[TARGET_COLUMN]))\n",
    "            num_samples += len(batch_pred)\n",
    "            break\n",
    "    mse = squared_error.detach().cpu().numpy() / num_samples\n",
    "    mae = abs_error.detach().cpu().numpy() / num_samples\n",
    "    print(\"%s results:\" % (name or \"\"))\n",
    "    print(\"Mean square error: %.5f\" % mse)\n",
    "    print(\"Mean absolute error: %.5f\" % mae)\n",
    "    return mse, mae\n"
   ]
  },
  {
   "cell_type": "markdown",
   "metadata": {},
   "source": [
    "модель <br>\n",
    "выбираем алгоритм оптимизации <br>\n",
    "выбираем функцию потерь <br>\n",
    "итерация по эпохам: <br>\n",
    "<p>   обнуляем градиент            optimizer.zero_grad() <br>\n",
    "   предсказание (forward pass)  pred <br>\n",
    "   подсчет функции потерь       loss <br>\n",
    "   bаckpropagation (вычисление градиентов)       loss.backward() <br>\n",
    "   обновление параметров сети   optimizer.step() <br>"
   ]
  },
  {
   "cell_type": "code",
   "execution_count": 32,
   "metadata": {
    "ExecuteTime": {
     "end_time": "2023-01-19T12:06:37.957782Z",
     "start_time": "2023-01-19T06:42:54.844232Z"
    },
    "scrolled": true
   },
   "outputs": [
    {
     "name": "stdout",
     "output_type": "stream",
     "text": [
      "epoch: 0\n"
     ]
    },
    {
     "name": "stderr",
     "output_type": "stream",
     "text": [
      "12239it [1:03:55,  3.19it/s]                                                    \n"
     ]
    },
    {
     "name": "stdout",
     "output_type": "stream",
     "text": [
      "-\n",
      " results:\n",
      "Mean square error: 0.20169\n",
      "Mean absolute error: 0.33253\n",
      "epoch: 1\n"
     ]
    },
    {
     "name": "stderr",
     "output_type": "stream",
     "text": [
      "12239it [1:03:42,  3.20it/s]                                                    \n"
     ]
    },
    {
     "name": "stdout",
     "output_type": "stream",
     "text": [
      "-\n",
      " results:\n",
      "Mean square error: 0.19749\n",
      "Mean absolute error: 0.36940\n",
      "epoch: 2\n"
     ]
    },
    {
     "name": "stderr",
     "output_type": "stream",
     "text": [
      "12239it [1:05:10,  3.13it/s]                                                    \n"
     ]
    },
    {
     "name": "stdout",
     "output_type": "stream",
     "text": [
      "-\n",
      " results:\n",
      "Mean square error: 0.17184\n",
      "Mean absolute error: 0.32301\n",
      "epoch: 3\n"
     ]
    },
    {
     "name": "stderr",
     "output_type": "stream",
     "text": [
      "12239it [1:04:40,  3.15it/s]                                                    \n"
     ]
    },
    {
     "name": "stdout",
     "output_type": "stream",
     "text": [
      "-\n",
      " results:\n",
      "Mean square error: 0.16463\n",
      "Mean absolute error: 0.32057\n",
      "epoch: 4\n"
     ]
    },
    {
     "name": "stderr",
     "output_type": "stream",
     "text": [
      "12239it [1:06:13,  3.08it/s]                                                    \n"
     ]
    },
    {
     "name": "stdout",
     "output_type": "stream",
     "text": [
      "-\n",
      " results:\n",
      "Mean square error: 0.15759\n",
      "Mean absolute error: 0.30778\n"
     ]
    }
   ],
   "source": [
    "torch.manual_seed(43)\n",
    "\n",
    "model = SalaryPredictor().to(device)\n",
    "criterion = nn.MSELoss(reduction='sum')\n",
    "optimizer = torch.optim.SGD(model.parameters(), lr=1e-5) #lr=1e-4\n",
    "# optimizer = torch.optim.Adam(model.parameters(), lr=1e-4)\n",
    "\n",
    "for epoch in range(EPOCHS):\n",
    "    print(f\"epoch: {epoch}\")\n",
    "    model.train()\n",
    "    for i, batch in tqdm(enumerate(\n",
    "            iterate_minibatches(data_train, batch_size=BATCH_SIZE, device=device)),\n",
    "            total=len(data_train) // BATCH_SIZE\n",
    "        ):\n",
    "        optimizer.zero_grad()\n",
    "        pred = model(batch)\n",
    "        loss = criterion(pred, batch[TARGET_COLUMN])\n",
    "        loss.backward()\n",
    "        optimizer.step()\n",
    "        \n",
    "        #print(pred, '\\n\\n')\n",
    "        \n",
    "        #if i == 100: break\n",
    "        \n",
    "    print_metrics(model, data_val, device=device)\n",
    "    \n",
    "    #break"
   ]
  },
  {
   "cell_type": "markdown",
   "metadata": {},
   "source": [
    "### Bonus part: explaining model predictions\n",
    "\n",
    "It's usually a good idea to understand how your model works before you let it make actual decisions. It's simple for linear models: just see which words learned positive or negative weights. However, its much harder for neural networks that learn complex nonlinear dependencies.\n",
    "\n",
    "There are, however, some ways to look inside the black box:\n",
    "* Seeing how model responds to input perturbations\n",
    "* Finding inputs that maximize/minimize activation of some chosen neurons (_read more [on distill.pub](https://distill.pub/2018/building-blocks/)_)\n",
    "* Building local linear approximations to your neural network: [article](https://arxiv.org/abs/1602.04938), [eli5 library](https://github.com/TeamHG-Memex/eli5/tree/master/eli5/formatters)\n",
    "\n",
    "Today we gonna try the first method just because it's the simplest one."
   ]
  },
  {
   "cell_type": "code",
   "execution_count": 33,
   "metadata": {
    "ExecuteTime": {
     "end_time": "2023-01-19T12:06:38.020707Z",
     "start_time": "2023-01-19T12:06:37.976194Z"
    }
   },
   "outputs": [],
   "source": [
    "def explain(model, sample, col_name='Title'):\n",
    "    \"\"\" Computes the effect each word had on model predictions \"\"\"\n",
    "    sample = dict(sample)\n",
    "    sample_col_tokens = [tokens[token_to_id.get(tok, 0)] for tok in sample[col_name]]#.split()]\n",
    "    data_drop_one_token = pd.DataFrame([sample] * (len(sample_col_tokens) + 1))\n",
    "\n",
    "    for drop_i in range(len(sample_col_tokens)):\n",
    "        data_drop_one_token.loc[drop_i, col_name] = ' '.join(UNK if i == drop_i else tok\n",
    "                                                   for i, tok in enumerate(sample_col_tokens))\n",
    "        data_drop_one_token.loc[drop_i+1, col_name] = ' '.join(data_drop_one_token.loc[drop_i+1, col_name])\n",
    "                                                #model.predict                         ------------\n",
    "    *predictions_drop_one_token, baseline_pred = model(make_batch(data_drop_one_token, max_len=898, device=device)).detach().cpu() \n",
    "    diffs = baseline_pred - torch.Tensor(predictions_drop_one_token)\n",
    "    return list(zip(sample_col_tokens, diffs))"
   ]
  },
  {
   "cell_type": "code",
   "execution_count": 34,
   "metadata": {
    "ExecuteTime": {
     "end_time": "2023-01-19T12:06:38.053814Z",
     "start_time": "2023-01-19T12:06:38.025010Z"
    }
   },
   "outputs": [],
   "source": [
    "from IPython.display import HTML, display_html\n",
    "\n",
    "\n",
    "def draw_html(tokens_and_weights, cmap=plt.get_cmap(\"bwr\"), display=True,\n",
    "              token_template=\"\"\"<span style=\"background-color: {color_hex}\">{token}</span>\"\"\",\n",
    "              font_style=\"font-size:14px;\"\n",
    "             ):\n",
    "    \n",
    "    def get_color_hex(weight):\n",
    "        rgba = cmap(1. / (1 + np.exp(float(weight))), bytes=True)\n",
    "        return '#%02X%02X%02X' % rgba[:3]\n",
    "    \n",
    "    tokens_html = [\n",
    "        token_template.format(token=token, color_hex=get_color_hex(weight))\n",
    "        for token, weight in tokens_and_weights\n",
    "    ]\n",
    "    \n",
    "    \n",
    "    raw_html = \"\"\"<p style=\"{}\">{}</p>\"\"\".format(font_style, ' '.join(tokens_html))\n",
    "    if display:\n",
    "        display_html(HTML(raw_html))\n",
    "        \n",
    "    return raw_html\n",
    "    "
   ]
  },
  {
   "cell_type": "markdown",
   "metadata": {},
   "source": [
    "##### подсвечивает текст в зависимости от того, как то или иное слово влияет на зп"
   ]
  },
  {
   "cell_type": "code",
   "execution_count": 35,
   "metadata": {
    "ExecuteTime": {
     "end_time": "2023-01-19T12:06:40.848933Z",
     "start_time": "2023-01-19T12:06:38.056602Z"
    }
   },
   "outputs": [
    {
     "data": {
      "text/html": [
       "<p style=\"font-size:20px;\"><span style=\"background-color: #FFDADA\">sales</span> <span style=\"background-color: #D6D6FF\">specialist</span> <span style=\"background-color: #EAEAFF\">iv</span> <span style=\"background-color: #F6F6FF\">access</span> <span style=\"background-color: #FEFEFF\">and</span> <span style=\"background-color: #FAFAFF\">infusion</span></p>"
      ]
     },
     "metadata": {},
     "output_type": "display_data"
    },
    {
     "data": {
      "text/html": [
       "<p style=\"font-size:14px;\"><span style=\"background-color: #F2F2FF\">sales</span> <span style=\"background-color: #EAEAFF\">representative</span> <span style=\"background-color: #EEEEFF\">medical</span> <span style=\"background-color: #FCFCFF\">sales</span> <span style=\"background-color: #FAFAFF\">iv</span> <span style=\"background-color: #FCFCFF\">access</span> <span style=\"background-color: #FEFEFF\">and</span> <span style=\"background-color: #F6F6FF\">infusion</span> <span style=\"background-color: #F6F6FF\">an</span> <span style=\"background-color: #FCFCFF\">opportunity</span> <span style=\"background-color: #F8F8FF\">to</span> <span style=\"background-color: #FEFEFF\">work</span> <span style=\"background-color: #FFF6F6\">for</span> <span style=\"background-color: #FFFEFE\">the</span> <span style=\"background-color: #FAFAFF\">industry</span> <span style=\"background-color: #FFF8F8\">leading</span> <span style=\"background-color: #FFF8F8\">manufacturer</span> <span style=\"background-color: #F3F3FF\">of</span> <span style=\"background-color: #FEFEFF\">iv</span> <span style=\"background-color: #F8F8FF\">access</span> <span style=\"background-color: #FFFEFE\">and</span> <span style=\"background-color: #F8F8FF\">infusion</span> <span style=\"background-color: #FFFCFC\">solutions</span> <span style=\"background-color: #FEFEFF\">.</span> <span style=\"background-color: #FFFCFC\">formally</span> <span style=\"background-color: #FFFEFE\">recognised</span> <span style=\"background-color: #FFFEFE\">as</span> <span style=\"background-color: #FEFEFF\">the</span> <span style=\"background-color: #FFFCFC\">number</span> <span style=\"background-color: #FFFEFE\">****</span> <span style=\"background-color: #FFFCFC\">company</span> <span style=\"background-color: #F3F3FF\">in</span> <span style=\"background-color: #FFFEFE\">this</span> <span style=\"background-color: #FFFEFE\">market</span> <span style=\"background-color: #FFFEFE\">space</span> <span style=\"background-color: #F2F2FF\">,</span> <span style=\"background-color: #FFFCFC\">our</span> <span style=\"background-color: #FCFCFF\">client</span> <span style=\"background-color: #F8F8FF\">are</span> <span style=\"background-color: #F2F2FF\">an</span> <span style=\"background-color: #ECECFF\">ethical</span> <span style=\"background-color: #F6F6FF\">and</span> <span style=\"background-color: #FEFEFF\">dynamic</span> <span style=\"background-color: #FEFEFF\">organisation</span> <span style=\"background-color: #FFFAFA\">absolutely</span> <span style=\"background-color: #FFF6F6\">committed</span> <span style=\"background-color: #FFFEFE\">to</span> <span style=\"background-color: #FCFCFF\">the</span> <span style=\"background-color: #F6F6FF\">advancement</span> <span style=\"background-color: #E6E6FF\">of</span> <span style=\"background-color: #FFFEFE\">innovative</span> <span style=\"background-color: #FFF4F4\">technologies</span> <span style=\"background-color: #FFF8F8\">.</span> <span style=\"background-color: #FFFCFC\">job</span> <span style=\"background-color: #FCFCFF\">title</span> <span style=\"background-color: #FAFAFF\">:</span> <span style=\"background-color: #FFFCFC\">sales</span> <span style=\"background-color: #FFFEFE\">specialist</span> <span style=\"background-color: #FFFAFA\">iv</span> <span style=\"background-color: #FFFCFC\">access</span> <span style=\"background-color: #FFFCFC\">and</span> <span style=\"background-color: #F2F2FF\">infusion</span> <span style=\"background-color: #F8F8FF\">selling</span> <span style=\"background-color: #FAFAFF\">:</span> <span style=\"background-color: #F6F6FF\">medication</span> <span style=\"background-color: #F6F6FF\">delivery</span> <span style=\"background-color: #FEFEFF\">solutions</span> <span style=\"background-color: #FFFAFA\">selling</span> <span style=\"background-color: #F6F6FF\">to</span> <span style=\"background-color: #FFFEFE\">:</span> <span style=\"background-color: #FFFEFE\">iv</span> <span style=\"background-color: #F8F8FF\">teams</span> <span style=\"background-color: #FFFEFE\">,</span> <span style=\"background-color: #FFFEFE\">infection</span> <span style=\"background-color: #FFFCFC\">control</span> <span style=\"background-color: #FAFAFF\">,</span> <span style=\"background-color: #FCFCFF\">lead</span> <span style=\"background-color: #EEEEFF\">intensive</span> <span style=\"background-color: #FFF6F6\">care</span> <span style=\"background-color: #FAFAFF\">nurse</span> <span style=\"background-color: #FCFCFF\">specialists</span> <span style=\"background-color: #F3F3FF\">,</span> <span style=\"background-color: #FEFEFF\">ward</span> <span style=\"background-color: #F3F3FF\">managers</span> <span style=\"background-color: #FEFEFF\">territory</span> <span style=\"background-color: #FAFAFF\">:</span> <span style=\"background-color: #FFF8F8\">east</span> <span style=\"background-color: #FFFAFA\">midlands</span> <span style=\"background-color: #FEFEFF\">location</span> <span style=\"background-color: #F6F6FF\">:</span> <span style=\"background-color: #FEFEFF\">east</span> <span style=\"background-color: #FFF8F8\">midlands</span> <span style=\"background-color: #FCFCFF\">package</span> <span style=\"background-color: #FCFCFF\">:</span> <span style=\"background-color: #FAFAFF\">basic</span> <span style=\"background-color: #FFEAEA\">:</span> <span style=\"background-color: #FFF8F8\">****</span> <span style=\"background-color: #FFFCFC\">k</span> <span style=\"background-color: #FFF8F8\">****</span> <span style=\"background-color: #FFFCFC\">k</span> <span style=\"background-color: #FEFEFF\">,</span> <span style=\"background-color: #FFF8F8\">uncapped</span> <span style=\"background-color: #FFFCFC\">bonus</span> <span style=\"background-color: #FEFEFF\">in</span> <span style=\"background-color: #FCFCFF\">addition</span> <span style=\"background-color: #FAFAFF\">,</span> <span style=\"background-color: #FFFEFE\">full</span> <span style=\"background-color: #FFFEFE\">corporate</span> <span style=\"background-color: #FFFCFC\">benefits</span> <span style=\"background-color: #FEFEFF\">company</span> <span style=\"background-color: #FFFAFA\">information</span> <span style=\"background-color: #FAFAFF\">hugely</span> <span style=\"background-color: #FFFEFE\">ethical</span> <span style=\"background-color: #FFFCFC\">and</span> <span style=\"background-color: #FFFAFA\">professional</span> <span style=\"background-color: #FFF8F8\">global</span> <span style=\"background-color: #FFFAFA\">organisation</span> <span style=\"background-color: #FAFAFF\">extremely</span> <span style=\"background-color: #FAFAFF\">well</span> <span style=\"background-color: #FFFCFC\">established</span> <span style=\"background-color: #F6F6FF\">in</span> <span style=\"background-color: #FFFAFA\">the</span> <span style=\"background-color: #FEFEFF\">uk</span> <span style=\"background-color: #FFFCFC\">the</span> <span style=\"background-color: #FEFEFF\">market</span> <span style=\"background-color: #F8F8FF\">leader</span> <span style=\"background-color: #FAFAFF\">across</span> <span style=\"background-color: #FFF6F6\">all</span> <span style=\"background-color: #FCFCFF\">of</span> <span style=\"background-color: #FFFEFE\">their</span> <span style=\"background-color: #FCFCFF\">core</span> <span style=\"background-color: #FAFAFF\">business</span> <span style=\"background-color: #F2F2FF\">areas</span> <span style=\"background-color: #FFFCFC\">focus</span> <span style=\"background-color: #FFFAFA\">on</span> <span style=\"background-color: #FFF4F4\">providing</span> <span style=\"background-color: #FAFAFF\">cutting</span> <span style=\"background-color: #FFFCFC\">edge</span> <span style=\"background-color: #FAFAFF\">solutions</span> <span style=\"background-color: #FEFEFF\">along</span> <span style=\"background-color: #FCFCFF\">with</span> <span style=\"background-color: #FEFEFF\">outstanding</span> <span style=\"background-color: #FEFEFF\">service</span> <span style=\"background-color: #FFFAFA\">and</span> <span style=\"background-color: #FFFCFC\">support</span> <span style=\"background-color: #FEFEFF\">a</span> <span style=\"background-color: #FAFAFF\">business</span> <span style=\"background-color: #FEFEFF\">that</span> <span style=\"background-color: #FFF2F2\">retain</span> <span style=\"background-color: #FFFEFE\">talented</span> <span style=\"background-color: #FFFCFC\">personnel</span> <span style=\"background-color: #FFEEEE\">by</span> <span style=\"background-color: #FFFCFC\">offering</span> <span style=\"background-color: #FFFAFA\">a</span> <span style=\"background-color: #FCFCFF\">strong</span> <span style=\"background-color: #F2F2FF\">platform</span> <span style=\"background-color: #FFFCFC\">for</span> <span style=\"background-color: #FFF6F6\">career</span> <span style=\"background-color: #FEFEFF\">development</span> <span style=\"background-color: #FEFEFF\">sales</span> <span style=\"background-color: #FFFCFC\">specialist</span> <span style=\"background-color: #EEEEFF\">iv</span> <span style=\"background-color: #FFFAFA\">access</span> <span style=\"background-color: #FFF8F8\">and</span> <span style=\"background-color: #FEFEFF\">infusion</span> <span style=\"background-color: #FFFCFC\">you</span> <span style=\"background-color: #FFFEFE\">must</span> <span style=\"background-color: #FEFEFF\">have</span> <span style=\"background-color: #F3F3FF\">/</span> <span style=\"background-color: #FAFAFF\">be</span> <span style=\"background-color: #FFFCFC\">the</span> <span style=\"background-color: #FFF2F2\">following</span> <span style=\"background-color: #FFFEFE\">at</span> <span style=\"background-color: #F6F6FF\">least</span> <span style=\"background-color: #F8F8FF\">2</span> <span style=\"background-color: #FFF6F6\">years</span> <span style=\"background-color: #FFFAFA\">medical</span> <span style=\"background-color: #FFF6F6\">device</span> <span style=\"background-color: #FCFCFF\">sales</span> <span style=\"background-color: #FFF6F6\">experience</span> <span style=\"background-color: #FEFEFF\">.</span> <span style=\"background-color: #F6F6FF\">candidates</span> <span style=\"background-color: #FFFEFE\">who</span> <span style=\"background-color: #FEFEFF\">have</span> <span style=\"background-color: #FFF6F6\">sold</span> <span style=\"background-color: #FCFCFF\">disposables</span> <span style=\"background-color: #FEFEFF\">/</span> <span style=\"background-color: #FFFCFC\">consumables</span> <span style=\"background-color: #F8F8FF\">or</span> <span style=\"background-color: #FFF8F8\">similar</span> <span style=\"background-color: #FCFCFF\">into</span> <span style=\"background-color: #FFFAFA\">hospitals</span> <span style=\"background-color: #FFFCFC\">would</span> <span style=\"background-color: #F8F8FF\">be</span> <span style=\"background-color: #FFF6F6\">of</span> <span style=\"background-color: #FCFCFF\">particular</span> <span style=\"background-color: #FFF8F8\">interest</span> <span style=\"background-color: #F6F6FF\">.</span> <span style=\"background-color: #FFF0F0\">candidates</span> <span style=\"background-color: #FAFAFF\">must</span> <span style=\"background-color: #FAFAFF\">have</span> <span style=\"background-color: #FCFCFF\">sold</span> <span style=\"background-color: #FFF8F8\">into</span> <span style=\"background-color: #F2F2FF\">hospitals</span> <span style=\"background-color: #FEFEFF\">demonstrable</span> <span style=\"background-color: #FFFAFA\">performance</span> <span style=\"background-color: #FEFEFF\">and</span> <span style=\"background-color: #FFF8F8\">achievements</span> <span style=\"background-color: #F2F2FF\">so</span> <span style=\"background-color: #FAFAFF\">far</span> <span style=\"background-color: #FFFAFA\">personable</span> <span style=\"background-color: #FFFAFA\">,</span> <span style=\"background-color: #F6F6FF\">adaptable</span> <span style=\"background-color: #FAFAFF\">and</span> <span style=\"background-color: #FFFAFA\">willing</span> <span style=\"background-color: #FFFCFC\">to</span> <span style=\"background-color: #FFF2F2\">learn</span> <span style=\"background-color: #FFFCFC\">keen</span> <span style=\"background-color: #FAFAFF\">and</span> <span style=\"background-color: #FFF4F4\">eager</span> <span style=\"background-color: #FFF4F4\">to</span> <span style=\"background-color: #F2F2FF\">be</span> <span style=\"background-color: #FFF8F8\">a</span> <span style=\"background-color: #FEFEFF\">success</span> <span style=\"background-color: #FFF4F4\">candidates</span> <span style=\"background-color: #FEFEFF\">must</span> <span style=\"background-color: #FFF6F6\">have</span> <span style=\"background-color: #F2F2FF\">a</span> <span style=\"background-color: #FFFCFC\">degree</span> <span style=\"background-color: #F3F3FF\">or</span> <span style=\"background-color: #FAFAFF\">at</span> <span style=\"background-color: #FAFAFF\">least</span> <span style=\"background-color: #F3F3FF\">be</span> <span style=\"background-color: #FFFEFE\">able</span> <span style=\"background-color: #FFFAFA\">to</span> <span style=\"background-color: #FEFEFF\">show</span> <span style=\"background-color: #FAFAFF\">a</span> <span style=\"background-color: #F2F2FF\">strong</span> <span style=\"background-color: #FAFAFF\">ability</span> <span style=\"background-color: #FFFAFA\">to</span> <span style=\"background-color: #F3F3FF\">learn</span> <span style=\"background-color: #FFF8F8\">role</span> <span style=\"background-color: #FFFCFC\">information</span> <span style=\"background-color: #FEFEFF\">managing</span> <span style=\"background-color: #F8F8FF\">the</span> <span style=\"background-color: #FFFEFE\">east</span> <span style=\"background-color: #FFFCFC\">midlands</span> <span style=\"background-color: #FFFCFC\">region</span> <span style=\"background-color: #F3F3FF\">selling</span> <span style=\"background-color: #FFFCFC\">across</span> <span style=\"background-color: #FCFCFF\">the</span> <span style=\"background-color: #F6F6FF\">company</span> <span style=\"background-color: #FFFAFA\">'</span> <span style=\"background-color: #FAFAFF\">s</span> <span style=\"background-color: #FFFAFA\">range</span> <span style=\"background-color: #FCFCFF\">of</span> <span style=\"background-color: #FFF6F6\">iv</span> <span style=\"background-color: #FFFCFC\">and</span> <span style=\"background-color: #FFFEFE\">infusion</span> <span style=\"background-color: #FAFAFF\">solutions</span> <span style=\"background-color: #FFFEFE\">portfolio</span> <span style=\"background-color: #F8F8FF\">selling</span> <span style=\"background-color: #F8F8FF\">into</span> <span style=\"background-color: #FAFAFF\">lead</span> <span style=\"background-color: #FFF8F8\">intensive</span> <span style=\"background-color: #FFF6F6\">care</span> <span style=\"background-color: #FFFCFC\">nurse</span> <span style=\"background-color: #FAFAFF\">specialists</span> <span style=\"background-color: #FFF2F2\">,</span> <span style=\"background-color: #FFF8F8\">ward</span> <span style=\"background-color: #FEFEFF\">managers</span> <span style=\"background-color: #F2F2FF\">,</span> <span style=\"background-color: #FFFEFE\">iv</span> <span style=\"background-color: #FEFEFF\">teams</span> <span style=\"background-color: #FAFAFF\">,</span> <span style=\"background-color: #FAFAFF\">infection</span> <span style=\"background-color: #FCFCFF\">control</span> <span style=\"background-color: #F6F6FF\">teams</span> <span style=\"background-color: #F0F0FF\">,</span> <span style=\"background-color: #FEFEFF\">procurement</span> <span style=\"background-color: #F6F6FF\">sales</span> <span style=\"background-color: #FFFAFA\">specialist</span> <span style=\"background-color: #F2F2FF\">iv</span> <span style=\"background-color: #F6F6FF\">access</span> <span style=\"background-color: #FFFEFE\">and</span> <span style=\"background-color: #FFFCFC\">infusion</span> <span style=\"background-color: #FEFEFF\">candidates</span> <span style=\"background-color: #EEEEFF\">must</span> <span style=\"background-color: #FAFAFF\">be</span> <span style=\"background-color: #FFF2F2\">eligible</span> <span style=\"background-color: #FFFCFC\">to</span> <span style=\"background-color: #FFF4F4\">work</span> <span style=\"background-color: #FFFCFC\">and</span> <span style=\"background-color: #FFFCFC\">live</span> <span style=\"background-color: #FFFEFE\">in</span> <span style=\"background-color: #FCFCFF\">the</span> <span style=\"background-color: #F2F2FF\">uk</span> <span style=\"background-color: #FCFCFF\">.</span> <span style=\"background-color: #FAFAFF\">please</span> <span style=\"background-color: #FAFAFF\">contact</span> <span style=\"background-color: #F3F3FF\">allan</span> <span style=\"background-color: #FAFAFF\">waller</span> <span style=\"background-color: #FFFEFE\">on</span> <span style=\"background-color: #FFF8F8\">****</span> <span style=\"background-color: #FFF4F4\">****</span> <span style=\"background-color: #FAFAFF\">****</span> <span style=\"background-color: #F8F8FF\">or</span> <span style=\"background-color: #FFF4F4\">please</span> <span style=\"background-color: #FAFAFF\">hit</span> <span style=\"background-color: #FFFCFC\">the</span> <span style=\"background-color: #F0F0FF\">apply</span> <span style=\"background-color: #FFF4F4\">button</span> <span style=\"background-color: #FFFAFA\">.</span> <span style=\"background-color: #F3F3FF\">this</span> <span style=\"background-color: #F6F6FF\">job</span> <span style=\"background-color: #FFFEFE\">was</span> <span style=\"background-color: #FEFEFF\">originally</span> <span style=\"background-color: #FCFCFF\">posted</span> <span style=\"background-color: #FCFCFF\">as</span> <span style=\"background-color: #FFFCFC\">www</span> <span style=\"background-color: #FFF6F6\">.</span> <span style=\"background-color: #FFFEFE\">salestarget</span> <span style=\"background-color: #F8F8FF\">.</span> <span style=\"background-color: #F2F2FF\">co</span> <span style=\"background-color: #FFF8F8\">.</span> <span style=\"background-color: #FFFEFE\">uk</span> <span style=\"background-color: #FAFAFF\">/</span> <span style=\"background-color: #FFFAFA\">jobseeking</span> <span style=\"background-color: #FAFAFF\">/</span> <span style=\"background-color: #FFFEFE\">UNK</span> <span style=\"background-color: #FFFEFE\">****</span></p>"
      ]
     },
     "metadata": {},
     "output_type": "display_data"
    }
   ],
   "source": [
    "i = 36605\n",
    "tokens_and_weights = explain(model, data.loc[i], \"Title\")\n",
    "draw_html([(tok, weight * 5) for tok, weight in tokens_and_weights], font_style='font-size:20px;');\n",
    "\n",
    "tokens_and_weights = explain(model, data.loc[i], \"FullDescription\")\n",
    "draw_html([(tok, weight * 10) for tok, weight in tokens_and_weights]);"
   ]
  },
  {
   "cell_type": "code",
   "execution_count": 36,
   "metadata": {
    "ExecuteTime": {
     "end_time": "2023-01-19T12:06:41.326743Z",
     "start_time": "2023-01-19T12:06:40.851743Z"
    }
   },
   "outputs": [
    {
     "data": {
      "text/html": [
       "<p style=\"font-size:20px;\"><span style=\"background-color: #FFDADA\">cleaning</span> <span style=\"background-color: #FFD6D6\">operative</span></p>"
      ]
     },
     "metadata": {},
     "output_type": "display_data"
    },
    {
     "data": {
      "text/html": [
       "<p style=\"font-size:14px;\"><span style=\"background-color: #ECECFF\">12</span> <span style=\"background-color: #F0F0FF\">.</span> <span style=\"background-color: #FFFAFA\">5</span> <span style=\"background-color: #F8F8FF\">hours</span> <span style=\"background-color: #FAFAFF\">per</span> <span style=\"background-color: #FCFCFF\">week</span> <span style=\"background-color: #FFF6F6\">monday</span> <span style=\"background-color: #FFFAFA\">friday</span> <span style=\"background-color: #F6F6FF\">9am</span> <span style=\"background-color: #D8D8FF\">11</span> <span style=\"background-color: #F8F8FF\">.</span> <span style=\"background-color: #FFF6F6\">30am</span> <span style=\"background-color: #FFFEFE\">duties</span> <span style=\"background-color: #FFF6F6\">to</span> <span style=\"background-color: #FFFEFE\">include</span> <span style=\"background-color: #F0F0FF\">sweeping</span> <span style=\"background-color: #EAEAFF\">,</span> <span style=\"background-color: #F6F6FF\">mopping</span> <span style=\"background-color: #FFFCFC\">,</span> <span style=\"background-color: #FFFCFC\">vacuuming</span> <span style=\"background-color: #FEFEFF\">,</span> <span style=\"background-color: #FAFAFF\">buffing</span> <span style=\"background-color: #F0F0FF\">,</span> <span style=\"background-color: #FFF8F8\">cleaning</span> <span style=\"background-color: #F8F8FF\">staff</span> <span style=\"background-color: #FEFEFF\">toilets</span> <span style=\"background-color: #FFFCFC\">and</span> <span style=\"background-color: #FEFEFF\">rest</span> <span style=\"background-color: #FFFEFE\">room</span> <span style=\"background-color: #FFF6F6\">.</span> <span style=\"background-color: #FFFAFA\">must</span> <span style=\"background-color: #FFFCFC\">be</span> <span style=\"background-color: #FEFEFF\">able</span> <span style=\"background-color: #FFF6F6\">to</span> <span style=\"background-color: #FFFEFE\">read</span> <span style=\"background-color: #F3F3FF\">as</span> <span style=\"background-color: #F2F2FF\">they</span> <span style=\"background-color: #FAFAFF\">will</span> <span style=\"background-color: #FFF0F0\">be</span> <span style=\"background-color: #FFFEFE\">using</span> <span style=\"background-color: #FFFEFE\">UNK</span> <span style=\"background-color: #FCFCFF\">which</span> <span style=\"background-color: #FCFCFF\">need</span> <span style=\"background-color: #FFFEFE\">UNK</span> <span style=\"background-color: #FFFAFA\">as</span> <span style=\"background-color: #FAFAFF\">per</span> <span style=\"background-color: #F3F3FF\">instructions</span> <span style=\"background-color: #FFF4F4\">on</span> <span style=\"background-color: #FFFCFC\">the</span> <span style=\"background-color: #F6F6FF\">containers</span> <span style=\"background-color: #FFF6F6\">.</span> <span style=\"background-color: #FFF2F2\">sucessfull</span> <span style=\"background-color: #FCFCFF\">applicants</span> <span style=\"background-color: #F8F8FF\">will</span> <span style=\"background-color: #FFFEFE\">be</span> <span style=\"background-color: #F8F8FF\">trained</span> <span style=\"background-color: #FAFAFF\">on</span> <span style=\"background-color: #FFFEFE\">all</span> <span style=\"background-color: #FFFEFE\">electrical</span> <span style=\"background-color: #FFFCFC\">appliances</span> <span style=\"background-color: #FFFCFC\">and</span> <span style=\"background-color: #FFFEFE\">UNK</span> <span style=\"background-color: #FCFCFF\">of</span> <span style=\"background-color: #FFFEFE\">cleaning</span> <span style=\"background-color: #FFFAFA\">materials</span> <span style=\"background-color: #F8F8FF\">.</span></p>"
      ]
     },
     "metadata": {},
     "output_type": "display_data"
    }
   ],
   "source": [
    "i = 12077\n",
    "tokens_and_weights = explain(model, data.loc[i], \"Title\")\n",
    "draw_html([(tok, weight * 5) for tok, weight in tokens_and_weights], font_style='font-size:20px;');\n",
    "\n",
    "tokens_and_weights = explain(model, data.loc[i], \"FullDescription\")\n",
    "draw_html([(tok, weight * 10) for tok, weight in tokens_and_weights]);"
   ]
  },
  {
   "cell_type": "code",
   "execution_count": 37,
   "metadata": {
    "ExecuteTime": {
     "end_time": "2023-01-19T12:06:42.607082Z",
     "start_time": "2023-01-19T12:06:41.329554Z"
    }
   },
   "outputs": [
    {
     "name": "stdout",
     "output_type": "stream",
     "text": [
      "Index: 225801\n",
      "Salary (gbp): tensor(26861.1875)\n"
     ]
    },
    {
     "data": {
      "text/html": [
       "<p style=\"font-size:20px;\"><span style=\"background-color: #FFDADA\">sales</span> <span style=\"background-color: #EAEAFF\">/</span> <span style=\"background-color: #F6F6FF\">applications</span> <span style=\"background-color: #E0E0FF\">engineer</span> <span style=\"background-color: #FFFCFC\">(</span> <span style=\"background-color: #FEFEFF\">east</span> <span style=\"background-color: #F6F6FF\">coast</span> <span style=\"background-color: #F3F3FF\">of</span> <span style=\"background-color: #FFFEFE\">scotland</span> <span style=\"background-color: #F3F3FF\">)</span></p>"
      ]
     },
     "metadata": {},
     "output_type": "display_data"
    },
    {
     "data": {
      "text/html": [
       "<p style=\"font-size:14px;\"><span style=\"background-color: #F6F6FF\">working</span> <span style=\"background-color: #EAEAFF\">as</span> <span style=\"background-color: #FFF2F2\">part</span> <span style=\"background-color: #FFFEFE\">of</span> <span style=\"background-color: #F2F2FF\">a</span> <span style=\"background-color: #FFF8F8\">team</span> <span style=\"background-color: #F0F0FF\">,</span> <span style=\"background-color: #FFEEEE\">the</span> <span style=\"background-color: #FCFCFF\">candidate</span> <span style=\"background-color: #F6F6FF\">will</span> <span style=\"background-color: #F0F0FF\">be</span> <span style=\"background-color: #FEFEFF\">required</span> <span style=\"background-color: #FFF6F6\">to</span> <span style=\"background-color: #FFFEFE\">contribute</span> <span style=\"background-color: #FCFCFF\">to</span> <span style=\"background-color: #FFF6F6\">the</span> <span style=\"background-color: #FEFEFF\">generation</span> <span style=\"background-color: #F6F6FF\">of</span> <span style=\"background-color: #FFF2F2\">sustained</span> <span style=\"background-color: #FFFEFE\">sales</span> <span style=\"background-color: #FEFEFF\">growth</span> <span style=\"background-color: #FFFCFC\">amp</span> <span style=\"background-color: #FFFCFC\">;</span> <span style=\"background-color: #FCFCFF\">expand</span> <span style=\"background-color: #FFFEFE\">market</span> <span style=\"background-color: #F2F2FF\">share</span> <span style=\"background-color: #FFF6F6\">.</span> <span style=\"background-color: #FFF8F8\">by</span> <span style=\"background-color: #FFF4F4\">maintaining</span> <span style=\"background-color: #FFF6F6\">amp</span> <span style=\"background-color: #FFF8F8\">;</span> <span style=\"background-color: #FFF8F8\">developing</span> <span style=\"background-color: #FCFCFF\">existing</span> <span style=\"background-color: #FFF8F8\">customer</span> <span style=\"background-color: #FEFEFF\">relationships</span> <span style=\"background-color: #FAFAFF\">amp</span> <span style=\"background-color: #FFF6F6\">;</span> <span style=\"background-color: #FFFEFE\">identifying</span> <span style=\"background-color: #FFFCFC\">new</span> <span style=\"background-color: #FFF6F6\">customers</span> <span style=\"background-color: #EAEAFF\">amp</span> <span style=\"background-color: #FCFCFF\">;</span> <span style=\"background-color: #FFFEFE\">opportunities</span> <span style=\"background-color: #FFFCFC\">,</span> <span style=\"background-color: #FFFAFA\">through</span> <span style=\"background-color: #FEFEFF\">suitable</span> <span style=\"background-color: #FAFAFF\">selection</span> <span style=\"background-color: #FEFEFF\">amp</span> <span style=\"background-color: #FFF8F8\">;</span> <span style=\"background-color: #FCFCFF\">application</span> <span style=\"background-color: #FAFAFF\">of</span> <span style=\"background-color: #FFFCFC\">products</span> <span style=\"background-color: #FFFCFC\">.</span> <span style=\"background-color: #FFF6F6\">working</span> <span style=\"background-color: #F8F8FF\">in</span> <span style=\"background-color: #F2F2FF\">an</span> <span style=\"background-color: #E8E8FF\">environment</span> <span style=\"background-color: #FFF6F6\">of</span> <span style=\"background-color: #FCFCFF\">direct</span> <span style=\"background-color: #F8F8FF\">face</span> <span style=\"background-color: #FFF8F8\">to</span> <span style=\"background-color: #FAFAFF\">face</span> <span style=\"background-color: #FFF8F8\">sales</span> <span style=\"background-color: #FFFCFC\">amp</span> <span style=\"background-color: #FFF2F2\">;</span> <span style=\"background-color: #F8F8FF\">applications</span> <span style=\"background-color: #FEFEFF\">.</span> <span style=\"background-color: #FFFCFC\">operating</span> <span style=\"background-color: #FAFAFF\">at</span> <span style=\"background-color: #FEFEFF\">multiple</span> <span style=\"background-color: #FFFCFC\">contact</span> <span style=\"background-color: #FFFEFE\">levels</span> <span style=\"background-color: #FFFEFE\">from</span> <span style=\"background-color: #F6F6FF\">shop</span> <span style=\"background-color: #FCFCFF\">floor</span> <span style=\"background-color: #FFF0F0\">to</span> <span style=\"background-color: #FFFCFC\">senior</span> <span style=\"background-color: #FAFAFF\">management</span> <span style=\"background-color: #FFF8F8\">.</span> <span style=\"background-color: #FEFEFF\">the</span> <span style=\"background-color: #FFFAFA\">ideal</span> <span style=\"background-color: #FCFCFF\">applicant</span> <span style=\"background-color: #FFFCFC\">will</span> <span style=\"background-color: #F2F2FF\">have</span> <span style=\"background-color: #FFFEFE\">:</span> <span style=\"background-color: #FFF0F0\">qualified</span> <span style=\"background-color: #FFF4F4\">to</span> <span style=\"background-color: #FFFAFA\">hnc</span> <span style=\"background-color: #FFF8F8\">or</span> <span style=\"background-color: #FFEEEE\">equivalent</span> <span style=\"background-color: #FEFEFF\">in</span> <span style=\"background-color: #FFEEEE\">mechanical</span> <span style=\"background-color: #FFF8F8\">engineering</span> <span style=\"background-color: #FAFAFF\">or</span> <span style=\"background-color: #F6F6FF\">production</span> <span style=\"background-color: #FFFEFE\">engineering</span> <span style=\"background-color: #FFF4F4\">.</span> <span style=\"background-color: #FCFCFF\">experience</span> <span style=\"background-color: #FEFEFF\">in</span> <span style=\"background-color: #FCFCFF\">technical</span> <span style=\"background-color: #FEFEFF\">cutting</span> <span style=\"background-color: #FFF6F6\">tool</span> <span style=\"background-color: #FFF4F4\">sales</span> <span style=\"background-color: #F8F8FF\">and</span> <span style=\"background-color: #FFFEFE\">/</span> <span style=\"background-color: #FFFEFE\">or</span> <span style=\"background-color: #F3F3FF\">a</span> <span style=\"background-color: #FFFCFC\">practical</span> <span style=\"background-color: #FFF6F6\">machining</span> <span style=\"background-color: #FFFEFE\">or</span> <span style=\"background-color: #FFFEFE\">production</span> <span style=\"background-color: #FAFAFF\">engineering</span> <span style=\"background-color: #FFF6F6\">background</span> <span style=\"background-color: #FFFCFC\">technically</span> <span style=\"background-color: #F2F2FF\">astute</span> <span style=\"background-color: #ECECFF\">with</span> <span style=\"background-color: #FFF8F8\">a</span> <span style=\"background-color: #FFFAFA\">good</span> <span style=\"background-color: #F8F8FF\">knowledge</span> <span style=\"background-color: #FCFCFF\">of</span> <span style=\"background-color: #F3F3FF\">metal</span> <span style=\"background-color: #F8F8FF\">cutting</span> <span style=\"background-color: #FCFCFF\">amp</span> <span style=\"background-color: #FEFEFF\">;</span> <span style=\"background-color: #FEFEFF\">machining</span> <span style=\"background-color: #F8F8FF\">processes</span> <span style=\"background-color: #FFF8F8\">sound</span> <span style=\"background-color: #FFFCFC\">computer</span> <span style=\"background-color: #FFF6F6\">skills</span> <span style=\"background-color: #FFF8F8\">amp</span> <span style=\"background-color: #FFF8F8\">;</span> <span style=\"background-color: #FEFEFF\">communication</span> <span style=\"background-color: #F8F8FF\">skills</span> <span style=\"background-color: #FEFEFF\">high</span> <span style=\"background-color: #FEFEFF\">degree</span> <span style=\"background-color: #FEFEFF\">of</span> <span style=\"background-color: #FFFCFC\">initiative</span> <span style=\"background-color: #FFF8F8\">amp</span> <span style=\"background-color: #FEFEFF\">;</span> <span style=\"background-color: #FCFCFF\">resourcefulness</span> <span style=\"background-color: #F8F8FF\">.</span> <span style=\"background-color: #FEFEFF\">the</span> <span style=\"background-color: #FFF8F8\">tenacity</span> <span style=\"background-color: #FFF8F8\">amp</span> <span style=\"background-color: #FFF2F2\">;</span> <span style=\"background-color: #FFE8E8\">determination</span> <span style=\"background-color: #FFF8F8\">to</span> <span style=\"background-color: #FFFAFA\">succeed</span> <span style=\"background-color: #FFF6F6\">,</span> <span style=\"background-color: #FAFAFF\">amp</span> <span style=\"background-color: #FEFEFF\">;</span> <span style=\"background-color: #FFF2F2\">the</span> <span style=\"background-color: #FFF6F6\">commitment</span> <span style=\"background-color: #FFF4F4\">and</span> <span style=\"background-color: #F0F0FF\">drive</span> <span style=\"background-color: #FFF8F8\">to</span> <span style=\"background-color: #FFF8F8\">do</span> <span style=\"background-color: #FFF2F2\">what</span> <span style=\"background-color: #FFF4F4\">it</span> <span style=\"background-color: #FFF4F4\">takes</span> <span style=\"background-color: #FFFAFA\">to</span> <span style=\"background-color: #FEFEFF\">get</span> <span style=\"background-color: #FFF8F8\">the</span> <span style=\"background-color: #FEFEFF\">job</span> <span style=\"background-color: #FFF8F8\">done</span> <span style=\"background-color: #FFFEFE\">.</span> <span style=\"background-color: #FEFEFF\">this</span> <span style=\"background-color: #F8F8FF\">job</span> <span style=\"background-color: #F8F8FF\">was</span> <span style=\"background-color: #FFFEFE\">originally</span> <span style=\"background-color: #FFF6F6\">posted</span> <span style=\"background-color: #FFF4F4\">as</span> <span style=\"background-color: #FFF4F4\">www</span> <span style=\"background-color: #FFFCFC\">.</span> <span style=\"background-color: #FFF8F8\">totaljobs</span> <span style=\"background-color: #FFF4F4\">.</span> <span style=\"background-color: #FFF4F4\">com</span> <span style=\"background-color: #FFFCFC\">/</span> <span style=\"background-color: #FCFCFF\">jobseeking</span> <span style=\"background-color: #FFF2F2\">/</span> <span style=\"background-color: #FFFEFE\">UNK</span> <span style=\"background-color: #FFFAFA\">****</span></p>"
      ]
     },
     "metadata": {},
     "output_type": "display_data"
    }
   ],
   "source": [
    "i = np.random.randint(len(data))\n",
    "print(\"Index:\", i)              #model.predict                      ------------\n",
    "print(\"Salary (gbp):\", np.expm1(model(make_batch(data.iloc[i: i+1], max_len=898, device=device)).detach().cpu()))\n",
    "\n",
    "tokens_and_weights = explain(model, data.loc[i], \"Title\")\n",
    "draw_html([(tok, weight * 5) for tok, weight in tokens_and_weights], font_style='font-size:20px;');\n",
    "\n",
    "tokens_and_weights = explain(model, data.loc[i], \"FullDescription\")\n",
    "draw_html([(tok, weight * 10) for tok, weight in tokens_and_weights]);"
   ]
  },
  {
   "cell_type": "markdown",
   "metadata": {},
   "source": [
    "__Terrible start-up idea #1962:__ make a tool that automaticaly rephrases your job description (or CV) to meet salary expectations :)"
   ]
  }
 ],
 "metadata": {
  "kernelspec": {
   "display_name": "Python 3 (ipykernel)",
   "language": "python",
   "name": "python3"
  },
  "language_info": {
   "codemirror_mode": {
    "name": "ipython",
    "version": 3
   },
   "file_extension": ".py",
   "mimetype": "text/x-python",
   "name": "python",
   "nbconvert_exporter": "python",
   "pygments_lexer": "ipython3",
   "version": "3.8.10"
  },
  "toc": {
   "base_numbering": 1,
   "nav_menu": {},
   "number_sections": true,
   "sideBar": true,
   "skip_h1_title": false,
   "title_cell": "Table of Contents",
   "title_sidebar": "Contents",
   "toc_cell": false,
   "toc_position": {},
   "toc_section_display": true,
   "toc_window_display": false
  }
 },
 "nbformat": 4,
 "nbformat_minor": 4
}
