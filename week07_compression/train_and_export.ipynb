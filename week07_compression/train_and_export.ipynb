{
 "cells": [
  {
   "cell_type": "markdown",
   "metadata": {},
   "source": [
    "__this notebook__ trains a small LSTM language model and showcases its predicitons in javascript"
   ]
  },
  {
   "cell_type": "code",
   "execution_count": 1,
   "metadata": {},
   "outputs": [
    {
     "name": "stdout",
     "output_type": "stream",
     "text": [
      "env: CUDA_VISIBLE_DEVICES=0,1,2,3\n",
      "Name: numpy\n",
      "Version: 1.18.2\n",
      "--\n",
      "Name: tensorflow\n",
      "Version: 2.2.0\n",
      "--\n",
      "Name: subword-nmt\n",
      "Version: 0.3.7\n",
      "--\n",
      "Name: nltk\n",
      "Version: 3.5\n",
      "--\n",
      "Name: prefetch-generator\n",
      "Version: 1.0.1\n",
      "--\n",
      "Name: tensorflowjs\n",
      "Version: 2.1.0\n"
     ]
    }
   ],
   "source": [
    "%env CUDA_VISIBLE_DEVICES=0,1,2,3\n",
    "!pip show numpy tensorflow subword_nmt nltk prefetch_generator tensorflowjs | grep -A1 Name\n",
    "# note: we *need* tf2.2+, the code doesn't work on tf1.x\n",
    "\n",
    "import numpy as np\n",
    "import tensorflow as tf\n",
    "from tensorflow import keras\n",
    "from tensorflow.keras import layers as L\n",
    "\n",
    "import nltk\n",
    "import pandas as pd\n",
    "import subword_nmt.learn_bpe, subword_nmt.apply_bpe\n",
    "from tqdm import tqdm\n",
    "from IPython.display import clear_output\n",
    "from prefetch_generator import background  # pip install prefetch_generator\n",
    "import matplotlib.pyplot as plt\n",
    "%matplotlib inline"
   ]
  },
  {
   "cell_type": "markdown",
   "metadata": {},
   "source": [
    "#### Read the data\n",
    "\n",
    "We're gonna train a model on arxiv papers based on [this dataset](https://www.kaggle.com/neelshah18/arxivdataset). We'll use the version of this dataset from [Yandex NLP course](https://github.com/yandexdataschool/nlp_course)"
   ]
  },
  {
   "cell_type": "code",
   "execution_count": 2,
   "metadata": {},
   "outputs": [
    {
     "name": "stdout",
     "output_type": "stream",
     "text": [
      "--2020-08-05 09:15:55--  https://www.dropbox.com/s/99az9n1b57qkd9j/arxivData.json.tar.gz?dl=1\n",
      "Resolving www.dropbox.com (www.dropbox.com)... 162.125.70.1, 2620:100:6026:1::a27d:4601\n",
      "Connecting to www.dropbox.com (www.dropbox.com)|162.125.70.1|:443... connected.\n",
      "HTTP request sent, awaiting response... 301 Moved Permanently\n",
      "Location: /s/dl/99az9n1b57qkd9j/arxivData.json.tar.gz [following]\n",
      "--2020-08-05 09:15:56--  https://www.dropbox.com/s/dl/99az9n1b57qkd9j/arxivData.json.tar.gz\n",
      "Reusing existing connection to www.dropbox.com:443.\n",
      "HTTP request sent, awaiting response... 302 Found\n",
      "Location: https://ucc53f33f2a074d99f985994595d.dl.dropboxusercontent.com/cd/0/get/A824sc_B_ysOFhi9yvGJVbno7uQGtB6LXL3NSnWTsCM1d8nU39SYYp_GO6MOnBPKi10wCDvdla6UtXKyrPOLgfJcDcArG5B4VHwwFkJgW1ovEg/file?dl=1# [following]\n",
      "--2020-08-05 09:15:56--  https://ucc53f33f2a074d99f985994595d.dl.dropboxusercontent.com/cd/0/get/A824sc_B_ysOFhi9yvGJVbno7uQGtB6LXL3NSnWTsCM1d8nU39SYYp_GO6MOnBPKi10wCDvdla6UtXKyrPOLgfJcDcArG5B4VHwwFkJgW1ovEg/file?dl=1\n",
      "Resolving ucc53f33f2a074d99f985994595d.dl.dropboxusercontent.com (ucc53f33f2a074d99f985994595d.dl.dropboxusercontent.com)... 162.125.70.15, 2620:100:6026:15::a27d:460f\n",
      "Connecting to ucc53f33f2a074d99f985994595d.dl.dropboxusercontent.com (ucc53f33f2a074d99f985994595d.dl.dropboxusercontent.com)|162.125.70.15|:443... connected.\n",
      "HTTP request sent, awaiting response... 200 OK\n",
      "Length: 18933283 (18M) [application/binary]\n",
      "Saving to: ‘arxivData.json.tar.gz’\n",
      "\n",
      "arxivData.json.tar. 100%[===================>]  18,06M  11,1MB/s    in 1,6s    \n",
      "\n",
      "2020-08-05 09:15:59 (11,1 MB/s) - ‘arxivData.json.tar.gz’ saved [18933283/18933283]\n",
      "\n",
      "arxivData.json\n",
      "dual recurrent attention units for visual question answering ; we propose an architecture for v@@ qa which util@@ izes recurrent layers to generate visual and textual attention . the memory character@@ istic of the proposed recurrent attention units offers a rich joint embedding of visual and textual features and enables the model to reason relations between several parts of the image and question . our single model outperforms the first place win@@ ner on the v@@ qa 1 . 0 dataset , performs within margin to the current state - of - the - art ensemble model . we also experiment with replac@@ ing attention mechanisms in other state - of - the - art models with our implementation and show increased accuracy . in both cases , our recurrent attention mechanism improves performance in tasks requiring sequential or relational reasoning on the v@@ qa dataset .\n"
     ]
    }
   ],
   "source": [
    "# Alternative manual download link: https://yadi.sk/d/_nGyU2IajjR9-w\n",
    "!wget \"https://www.dropbox.com/s/99az9n1b57qkd9j/arxivData.json.tar.gz?dl=1\" -O arxivData.json.tar.gz\n",
    "!tar -xvzf arxivData.json.tar.gz\n",
    "data = pd.read_json(\"./arxivData.json\")\n",
    "lines = data.apply(lambda row: row['title'] + ' ; ' + row['summary'], axis=1).tolist()\n",
    "\n",
    "tokenizer = nltk.tokenize.WordPunctTokenizer()\n",
    "lines = [' '.join(line).lower() for line in tokenizer.tokenize_sents(lines)]\n",
    "with open('lines.tok', 'w') as f:\n",
    "    for line in lines:\n",
    "        f.write(line + '\\n')\n",
    "        \n",
    "with open('lines.tok', 'r') as f_lines_tok, open('bpe_rules', 'w') as f_bpe:\n",
    "    subword_nmt.learn_bpe.learn_bpe(f_lines_tok, f_bpe, num_symbols=4000)\n",
    "with open('bpe_rules', 'r') as f_bpe:\n",
    "    bpeizer = subword_nmt.apply_bpe.BPE(f_bpe)\n",
    "lines = list(map(' '.join, map(bpeizer.segment_tokens, map(str.split, lines))))\n",
    "print(lines[0])"
   ]
  },
  {
   "cell_type": "code",
   "execution_count": 3,
   "metadata": {},
   "outputs": [
    {
     "name": "stdout",
     "output_type": "stream",
     "text": [
      "90-th percentile: 333\n"
     ]
    },
    {
     "data": {
      "image/png": "[encoded data removed]",
      "text/plain": [
       "<Figure size 432x288 with 1 Axes>"
      ]
     },
     "metadata": {
      "needs_background": "light"
     },
     "output_type": "display_data"
    }
   ],
   "source": [
    "num_tokens_per_line = list(map(len, map(str.split, lines)))\n",
    "max_len = int(np.percentile(num_tokens_per_line, 90))\n",
    "plt.hist(num_tokens_per_line, bins=20);\n",
    "print(\"90-th percentile:\", max_len)"
   ]
  },
  {
   "cell_type": "markdown",
   "metadata": {},
   "source": [
    "#### Vocabulary\n",
    "\n",
    "Let's define a special class that converts between text lines and tf tensors"
   ]
  },
  {
   "cell_type": "code",
   "execution_count": 5,
   "metadata": {},
   "outputs": [],
   "source": [
    "import nltk\n",
    "import json\n",
    "from collections import Counter\n",
    "\n",
    "class Vocab:\n",
    "    def __init__(self, tokens, bos=\"_BOS_\", eos=\"_EOS_\", unk='_UNK_'):\n",
    "        \"\"\"\n",
    "        A special class that converts lines of tokens into matrices and backwards\n",
    "        source: https://github.com/yandexdataschool/nlp_course/blob/2019/week04_seq2seq/utils.py\n",
    "        \"\"\"\n",
    "        assert all(tok in tokens for tok in (bos, eos, unk))\n",
    "        self.tokens = tokens\n",
    "        self.token_to_ix = {t:i for i, t in enumerate(tokens)}\n",
    "        self.bos, self.eos, self.unk = bos, eos, unk\n",
    "        self.bos_ix = self.token_to_ix[bos]\n",
    "        self.eos_ix = self.token_to_ix[eos]\n",
    "        self.unk_ix = self.token_to_ix[unk]\n",
    "\n",
    "    def __len__(self):\n",
    "        return len(self.tokens)\n",
    "\n",
    "    @classmethod\n",
    "    def from_data(cls, lines, max_tokens=None, bos=\"_BOS_\", eos=\"_EOS_\", unk='_UNK_'):\n",
    "        flat_lines = '\\n'.join(list(lines)).split()\n",
    "        tokens, counts = zip(*Counter(flat_lines).most_common(max_tokens))\n",
    "        tokens = [bos, eos, unk] + [t for t in sorted(tokens) if t not in (bos, eos, unk)]\n",
    "        return cls(tokens, bos, eos, unk)\n",
    "    \n",
    "    def save(self, path):\n",
    "        with open(path, 'w') as f:\n",
    "            json.dump((self.tokens, self.bos, self.eos, self.unk), f)\n",
    "    \n",
    "    @classmethod\n",
    "    def load(cls, path):\n",
    "        with open(path, 'r') as f:\n",
    "            return cls(*json.load(f))\n",
    "\n",
    "    def tokenize(self, string):\n",
    "        \"\"\"converts string to a list of tokens\"\"\"\n",
    "        tokens = [tok if tok in self.token_to_ix else self.unk for tok in string.split()]\n",
    "        return [self.bos] + tokens + [self.eos]\n",
    "\n",
    "    def to_matrix(self, lines, max_len=None):\n",
    "        \"\"\"\n",
    "        convert variable length token sequences into  fixed size matrix\n",
    "        example usage:\n",
    "        >>>print( as_matrix(words[:3],source_to_ix))\n",
    "        [[15 22 21 28 27 13 -1 -1 -1 -1 -1]\n",
    "         [30 21 15 15 21 14 28 27 13 -1 -1]\n",
    "         [25 37 31 34 21 20 37 21 28 19 13]]\n",
    "        \"\"\"\n",
    "        lines = list(map(self.tokenize, lines))\n",
    "        max_len = max_len or max(map(len, lines))\n",
    "        matrix = np.full((len(lines), max_len), self.eos_ix, dtype='int32')\n",
    "        for i, seq in enumerate(lines):\n",
    "            row_ix = list(map(self.token_to_ix.get, seq))[:max_len]\n",
    "            matrix[i, :len(row_ix)] = row_ix\n",
    "\n",
    "        return tf.convert_to_tensor(matrix)\n",
    "\n",
    "    def to_lines(self, matrix, crop=True):\n",
    "        \"\"\"\n",
    "        Convert matrix of token ids into strings\n",
    "        :param matrix: matrix of tokens of int32, shape=[batch,time]\n",
    "        :param crop: if True, crops BOS and EOS from line\n",
    "        :return:\n",
    "        \"\"\"\n",
    "        lines = []\n",
    "        for line_ix in map(list,matrix):\n",
    "            if crop:\n",
    "                if line_ix[0] == self.bos_ix:\n",
    "                    line_ix = line_ix[1:]\n",
    "                if self.eos_ix in line_ix:\n",
    "                    line_ix = line_ix[:line_ix.index(self.eos_ix)]\n",
    "            line = ' '.join(self.tokens[i] for i in line_ix)\n",
    "            lines.append(line)\n",
    "        return lines\n",
    "    \n",
    "    def infer_length(self, batch_ix: tf.Tensor, dtype=tf.int32):\n",
    "        \"\"\" compute length given output indices, return int32 vector [len(batch_ix)] \"\"\"\n",
    "        is_eos = tf.cast(tf.equal(batch_ix, self.eos_ix), dtype)\n",
    "        count_eos = tf.cumsum(is_eos, axis=1, exclusive=True)\n",
    "        lengths = tf.reduce_sum(tf.cast(tf.equal(count_eos, 0), dtype), axis=1)\n",
    "        return lengths\n",
    "\n",
    "\n",
    "    def infer_mask(self, batch_ix: tf.Tensor, dtype=tf.bool):\n",
    "        \"\"\" all tokens after (but not including) first EOS are masked out \"\"\"\n",
    "        lengths = self.infer_length(batch_ix)\n",
    "        return tf.sequence_mask(lengths, maxlen=tf.shape(batch_ix)[1], dtype=dtype)"
   ]
  },
  {
   "cell_type": "code",
   "execution_count": 7,
   "metadata": {},
   "outputs": [
    {
     "data": {
      "text/plain": [
       "<tf.Tensor: shape=(2, 149), dtype=int32, numpy=\n",
       "array([[   0, 1193, 3039,  445, 3885, 1589, 4000, 2981,  314,   87, 4025,\n",
       "        2924,  285,  358, 1589, 3930, 2962, 4045, 3925, 2080, 3039, 2152,\n",
       "        3758, 1674, 4000,  299, 3675,  445,   41, 3681, 2355,  690, 2045,\n",
       "        2576, 3681, 2925, 3039,  445, 3885, 2581,  113, 3161, 2088, 1262,\n",
       "        2576, 4000,  299, 3675, 1532,  299, 1282, 3681, 2408, 3758, 3016,\n",
       "        3079,  542, 3309, 2714, 2576, 3681, 1879,  299, 2981,   41, 2661,\n",
       "        3370, 2408, 2672, 3681, 1568, 2782, 4062, 2493, 2592, 3681, 3930,\n",
       "        2962,   51,   41,   47,  977,   35, 2751, 4069, 2297, 3758, 3681,\n",
       "         962, 3482,   37, 2576,   37, 3681,   37,  379, 1319, 2408,   41,\n",
       "        4025,  264, 1446, 4067, 3099, 1954,  445, 2345, 1905, 2654, 3482,\n",
       "          37, 2576,   37, 3681,   37,  379, 2413, 4067, 2661, 1889,  299,\n",
       "        3329, 1921,  140,   41, 1905,  577,  649,   35, 2661, 3039,  445,\n",
       "        2344, 1903, 2747, 1905, 3633, 3120, 3294, 2624, 3078, 3019, 2592,\n",
       "        3681, 3930, 2962,  977,   41,    1],\n",
       "       [   0, 3294, 3325,   37, 3672,  719, 4067, 3039,  299,  907, 2502,\n",
       "        2499,   87, 3023,  338,  499, 2592,  383, 2502, 2499,   23,  286,\n",
       "        2545,   26, 1769, 3333, 2912, 3148, 1589, 3325,   37, 3672,  719,\n",
       "          41, 1811,   35, 2290, 3325, 3674, 2570,  959, 1905, 3293,   23,\n",
       "        1204,   41, 1646,   42, 3285, 1905,  113, 1173, 2624, 3922, 3658,\n",
       "         297, 1905,  113, 1094, 1646,   28,  299, 2432, 1433,  286, 2459,\n",
       "          37,  499, 3608, 1170, 2539, 2182, 3681, 2839,  659, 1118, 3325,\n",
       "        3674, 4041,  723,  113, 3541, 3291, 1324, 2597,   41, 1905, 3707,\n",
       "        4076,   35, 4025, 2856,  113, 2408,  499, 2592, 3039, 2502, 2499,\n",
       "         299,  907, 2502, 2499, 3680, 1915,  420, 3681, 2839,  659, 1118,\n",
       "        3325, 3674,   41, 2661, 2408,  149, 3482,   37, 2576,   37, 3681,\n",
       "          37,  379, 3148, 2592, 3712, 1103,  978, 1589, 1094, 1646,  159,\n",
       "        2847,   41,    1,    1,    1,    1,    1,    1,    1,    1,    1,\n",
       "           1,    1,    1,    1,    1,    1]], dtype=int32)>"
      ]
     },
     "execution_count": 7,
     "metadata": {},
     "output_type": "execute_result"
    }
   ],
   "source": [
    "voc = Vocab.from_data(lines)\n",
    "voc.to_matrix(lines[:2])"
   ]
  },
  {
   "cell_type": "code",
   "execution_count": 8,
   "metadata": {},
   "outputs": [
    {
     "data": {
      "text/plain": [
       "['dual recurrent attention units for visual question answering ; we propose an architecture for',\n",
       " 'sequential short - text classification with recurrent and convolutional neural networks ; recent approaches',\n",
       " 'multi@@ resolution recurrent neural networks : an application to dialogue response generation ; we']"
      ]
     },
     "execution_count": 8,
     "metadata": {},
     "output_type": "execute_result"
    }
   ],
   "source": [
    "voc.to_lines(voc.to_matrix(lines[:3])[:, :15])"
   ]
  },
  {
   "cell_type": "markdown",
   "metadata": {},
   "source": [
    "### Model & training\n",
    "Now let as train a simple LSTM language model the pre-processed data.\n",
    "\n",
    "__Note:__ we don't use validation for simplicity's sake, meaning our model probably overfits like crazy. But who cares? its a demo!"
   ]
  },
  {
   "cell_type": "code",
   "execution_count": 65,
   "metadata": {},
   "outputs": [],
   "source": [
    "class LanguageModel(keras.models.Model):\n",
    "    def __init__(self, voc, emb_size=128, hid_size=1024):\n",
    "        super().__init__()\n",
    "        self.voc = voc\n",
    "        self.emb = L.Embedding(len(voc), emb_size)\n",
    "        self.lstm = L.LSTM(hid_size, return_sequences=True, return_state=True)\n",
    "        self.logits = L.Dense(len(voc))\n",
    "        \n",
    "    def call(self, batch_ix):\n",
    "        hid_seq, last_hid, last_cell = self.lstm(self.emb(batch_ix[:, :-1]))\n",
    "        logits = self.logits(hid_seq)\n",
    "        mask = self.voc.infer_mask(batch_ix, dtype=tf.float32)\n",
    "        \n",
    "        loss_values = tf.nn.sparse_softmax_cross_entropy_with_logits(\n",
    "            logits=tf.reshape(logits, [-1, logits.shape[-1]]),\n",
    "            labels=tf.reshape(batch_ix[:, 1:], [-1])\n",
    "        )\n",
    "        mean_loss = tf.reduce_sum(loss_values * tf.reshape(mask[:, 1:], tf.shape(loss_values))) \\\n",
    "                  / tf.reduce_sum(mask[:, 1:])\n",
    "        return mean_loss\n",
    "\n",
    "\n",
    "def iterate_minibatches(lines, batch_size, cycle=True, **kwargs):\n",
    "    while True:\n",
    "        lines_shuf = [lines[i] for i in np.random.permutation(len(lines))]\n",
    "        for batch_start in range(0, len(lines_shuf), batch_size):\n",
    "            yield (voc.to_matrix(lines_shuf[batch_start: batch_start + batch_size], **kwargs),) * 2\n",
    "        if not cycle:\n",
    "            break\n"
   ]
  },
  {
   "cell_type": "code",
   "execution_count": 66,
   "metadata": {},
   "outputs": [
    {
     "name": "stdout",
     "output_type": "stream",
     "text": [
      "INFO:tensorflow:Using MirroredStrategy with devices ('/job:localhost/replica:0/task:0/device:GPU:0', '/job:localhost/replica:0/task:0/device:GPU:1', '/job:localhost/replica:0/task:0/device:GPU:2', '/job:localhost/replica:0/task:0/device:GPU:3')\n",
      "Number of devices: 4\n"
     ]
    }
   ],
   "source": [
    "with tf.distribute.MirroredStrategy().scope() as scope:\n",
    "    print('Number of devices: {}'.format(scope.num_replicas_in_sync))\n",
    "    model = LanguageModel(voc)\n",
    "    model.compile(optimizer='adam', loss=lambda _, loss: tf.reduce_mean(loss))\n"
   ]
  },
  {
   "cell_type": "code",
   "execution_count": 67,
   "metadata": {},
   "outputs": [
    {
     "name": "stdout",
     "output_type": "stream",
     "text": [
      "Loading pre-trained model.\n"
     ]
    }
   ],
   "source": [
    "import glob\n",
    "checkpoint_path = './checkpoints/lstm1024_emb128_bpe4000_batch256'\n",
    "\n",
    "if glob.glob(checkpoint_path + '*'):\n",
    "    print(\"Loading pre-trained model.\")\n",
    "    model.load_weights(checkpoint_path)\n",
    "else:\n",
    "    print(\"Training from scratch\")\n",
    "    model.fit(iterate_minibatches(lines, batch_size=256, max_len=max_len), \n",
    "              epochs=100, steps_per_epoch=256,\n",
    "              callbacks=[keras.callbacks.ModelCheckpoint(checkpoint_path, monitor='loss')])"
   ]
  },
  {
   "cell_type": "markdown",
   "metadata": {},
   "source": [
    "### Make JS-compatible language model applier"
   ]
  },
  {
   "cell_type": "code",
   "execution_count": 286,
   "metadata": {},
   "outputs": [
    {
     "name": "stderr",
     "output_type": "stream",
     "text": [
      "/home/jheuristic/anaconda3/envs/py38/lib/python3.8/site-packages/tensorflowjs/converters/keras_h5_conversion.py:123: H5pyDeprecationWarning: The default file mode will change to 'r' (read-only) in h5py 3.0. To suppress this warning, pass the mode you need to h5py.File(), or set the global default h5.get_config().default_file_mode, or set the environment variable H5PY_DEFAULT_READONLY=1. Available modes are: 'r', 'r+', 'w', 'w-'/'x', 'a'. See the docs for details.\n",
      "  return h5py.File(h5file)\n"
     ]
    }
   ],
   "source": [
    "# custom keras model that\n",
    "# * applies a single step of LSTM\n",
    "# * uses pure keras, no custom python code\n",
    "\n",
    "l_prev_tokens = L.Input([None], dtype='int32')\n",
    "l_prev_hid = L.Input([model.lstm.units], dtype='float32', name='previous_lstm_hid')\n",
    "l_prev_cell = L.Input([model.lstm.units], dtype='float32', name='previous_lstm_cell')\n",
    "\n",
    "l_prev_emb = model.emb(l_prev_tokens)  # [batch, emb_size]\n",
    "_, l_new_hid, l_new_cell = model.lstm(l_prev_emb, initial_state=[l_prev_hid, l_prev_cell])\n",
    "l_new_logits = model.logits(l_new_hid)\n",
    "\n",
    "model_step = keras.models.Model([l_prev_tokens, l_prev_hid, l_prev_cell],\n",
    "                                [l_new_logits, l_new_hid, l_new_cell])\n",
    "tfjs.converters.save_keras_model(model_step, './lm')"
   ]
  },
  {
   "cell_type": "code",
   "execution_count": 320,
   "metadata": {
    "scrolled": true
   },
   "outputs": [
    {
     "data": {
      "text/plain": [
       "[<tf.Tensor: shape=(1, 4164), dtype=float32, numpy=\n",
       " array([[ 1.4643092 , -1.8286911 ,  1.2862148 , ...,  0.52897644,\n",
       "          1.7882657 ,  2.1528049 ]], dtype=float32)>,\n",
       " <tf.Tensor: shape=(1, 1024), dtype=float32, numpy=\n",
       " array([[ 5.3198510e-01,  1.5283672e-10, -7.6133746e-01, ...,\n",
       "          4.6707136e-03,  6.1378783e-01,  5.0298193e-05]], dtype=float32)>,\n",
       " <tf.Tensor: shape=(1, 1024), dtype=float32, numpy=\n",
       " array([[ 0.7669934 ,  0.00931896, -0.9993891 , ...,  0.04036063,\n",
       "          0.7149762 ,  1.000839  ]], dtype=float32)>]"
      ]
     },
     "execution_count": 320,
     "metadata": {},
     "output_type": "execute_result"
    }
   ],
   "source": [
    "# test model step from python\n",
    "h = c = tf.ones([1, model.lstm.units])\n",
    "model_step((tf.convert_to_tensor([[3]], dtype='int32'), h, c))"
   ]
  },
  {
   "cell_type": "code",
   "execution_count": 328,
   "metadata": {},
   "outputs": [],
   "source": [
    "# save bpe and vocabulary\n",
    "with open('./frontend/voc.json', 'w') as f:\n",
    "    packed_bpe_rules = list(map(list, sorted(bpeizer.bpe_codes.keys(), key=bpeizer.bpe_codes.get)))\n",
    "    json.dump([model.lstm.units, model.emb.output_dim, model.logits.units,\n",
    "               packed_bpe_rules, voc.tokens, voc.bos, voc.eos, voc.unk], f)"
   ]
  },
  {
   "cell_type": "code",
   "execution_count": 314,
   "metadata": {},
   "outputs": [
    {
     "data": {
      "text/plain": [
       "TensorShape([1, 3])"
      ]
     },
     "execution_count": 314,
     "metadata": {},
     "output_type": "execute_result"
    }
   ],
   "source": [
    "voc.to_matrix(['deep neural'])[:, :-1].shape"
   ]
  }
 ],
 "metadata": {
  "kernelspec": {
   "display_name": "py38",
   "language": "python",
   "name": "py38"
  },
  "language_info": {
   "codemirror_mode": {
    "name": "ipython",
    "version": 3
   },
   "file_extension": ".py",
   "mimetype": "text/x-python",
   "name": "python",
   "nbconvert_exporter": "python",
   "pygments_lexer": "ipython3",
   "version": "3.8.2"
  }
 },
 "nbformat": 4,
 "nbformat_minor": 4
}
